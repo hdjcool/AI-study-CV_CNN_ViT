{
 "cells": [
  {
   "cell_type": "code",
   "execution_count": 2,
   "id": "c6f8ca96",
   "metadata": {},
   "outputs": [],
   "source": [
    "import tensorflow as tf"
   ]
  },
  {
   "cell_type": "code",
   "execution_count": 3,
   "id": "21600a85",
   "metadata": {},
   "outputs": [],
   "source": [
    "def inception():\n",
    "    pass"
   ]
  },
  {
   "cell_type": "code",
   "execution_count": 4,
   "id": "606d587e",
   "metadata": {},
   "outputs": [],
   "source": [
    "input_ = tf.keras.Input((224,224,4))"
   ]
  },
  {
   "cell_type": "code",
   "execution_count": 5,
   "id": "7d8bcf55",
   "metadata": {},
   "outputs": [],
   "source": [
    "x = tf.keras.layers.Conv2D(128, 3)(input_)"
   ]
  },
  {
   "cell_type": "code",
   "execution_count": 10,
   "id": "6017fd22",
   "metadata": {},
   "outputs": [],
   "source": [
    "x1x1 = tf.keras.layers.Conv2D(64, 1, padding='same')(x) # padding='same' 을 해야 concatenate 가 됨"
   ]
  },
  {
   "cell_type": "code",
   "execution_count": 11,
   "id": "64ca3d78",
   "metadata": {},
   "outputs": [],
   "source": [
    "x1x1dr = tf.keras.layers.Conv2D(32, 1)(x)\n",
    "x3x3 = tf.keras.layers.Conv2D(32, 3, padding='same')(x1x1dr) # padding='same' 을 해야 concatenate 가 됨"
   ]
  },
  {
   "cell_type": "code",
   "execution_count": 14,
   "id": "b8040f58",
   "metadata": {},
   "outputs": [
    {
     "data": {
      "text/plain": [
       "TensorShape([None, 222, 222, 64])"
      ]
     },
     "execution_count": 14,
     "metadata": {},
     "output_type": "execute_result"
    }
   ],
   "source": [
    "x1x1.shape"
   ]
  },
  {
   "cell_type": "code",
   "execution_count": 15,
   "id": "801a6dc4",
   "metadata": {},
   "outputs": [
    {
     "data": {
      "text/plain": [
       "TensorShape([None, 222, 222, 32])"
      ]
     },
     "execution_count": 15,
     "metadata": {},
     "output_type": "execute_result"
    }
   ],
   "source": [
    "x3x3.shape"
   ]
  },
  {
   "cell_type": "code",
   "execution_count": 19,
   "id": "4a592f9f",
   "metadata": {},
   "outputs": [],
   "source": [
    "x1x1dr2 = tf.keras.layers.Conv2D(32, 1)(x)\n",
    "x5x5 = tf.keras.layers.Conv2D(32, 3, padding='same')(x1x1dr2) # padding='same' 을 해야 concatenate 가 됨"
   ]
  },
  {
   "cell_type": "code",
   "execution_count": 25,
   "id": "ac6264a0",
   "metadata": {},
   "outputs": [],
   "source": [
    "mp = tf.keras.layers.MaxPool2D(3,1, padding='same')(x)\n",
    "x1x1dr3 = tf.keras.layers.Conv2D(32, 1, padding='same')(mp)"
   ]
  },
  {
   "cell_type": "code",
   "execution_count": 27,
   "id": "f40e5b93",
   "metadata": {},
   "outputs": [
    {
     "data": {
      "text/plain": [
       "<KerasTensor: shape=(None, 222, 222, 160) dtype=float32 (created by layer 'concatenate_8')>"
      ]
     },
     "execution_count": 27,
     "metadata": {},
     "output_type": "execute_result"
    }
   ],
   "source": [
    "tf.keras.layers.concatenate([x1x1, x3x3, x5x5, x1x1dr3]) # axis=-1 이 default 이기 때문에 생력 가능"
   ]
  },
  {
   "cell_type": "code",
   "execution_count": 28,
   "id": "e50c227c",
   "metadata": {},
   "outputs": [
    {
     "data": {
      "text/plain": [
       "<KerasTensor: shape=(None, 222, 222, 160) dtype=float32 (created by layer 'concatenate_9')>"
      ]
     },
     "execution_count": 28,
     "metadata": {},
     "output_type": "execute_result"
    }
   ],
   "source": [
    "tf.keras.layers.Concatenate()([x1x1, x3x3, x5x5, x1x1dr3])"
   ]
  },
  {
   "cell_type": "code",
   "execution_count": 29,
   "id": "2b9020d8",
   "metadata": {},
   "outputs": [
    {
     "data": {
      "text/plain": [
       "<KerasTensor: shape=(None, 222, 222, 160) dtype=float32 (created by layer 'concatenate_10')>"
      ]
     },
     "execution_count": 29,
     "metadata": {},
     "output_type": "execute_result"
    }
   ],
   "source": [
    "tf.keras.layers.concatenate([x1x1, x3x3, x5x5, x1x1dr3],  axis=3)"
   ]
  },
  {
   "cell_type": "code",
   "execution_count": 30,
   "id": "2fedd6c0",
   "metadata": {},
   "outputs": [
    {
     "data": {
      "text/plain": [
       "<KerasTensor: shape=(None, 222, 222, 160) dtype=float32 (created by layer 'concatenate_11')>"
      ]
     },
     "execution_count": 30,
     "metadata": {},
     "output_type": "execute_result"
    }
   ],
   "source": [
    "tf.keras.layers.concatenate([x1x1, x3x3, x5x5, x1x1dr3],  axis=-1)"
   ]
  },
  {
   "cell_type": "code",
   "execution_count": null,
   "id": "a6b5e021",
   "metadata": {},
   "outputs": [],
   "source": []
  }
 ],
 "metadata": {
  "kernelspec": {
   "display_name": "Python 3 (ipykernel)",
   "language": "python",
   "name": "python3"
  },
  "language_info": {
   "codemirror_mode": {
    "name": "ipython",
    "version": 3
   },
   "file_extension": ".py",
   "mimetype": "text/x-python",
   "name": "python",
   "nbconvert_exporter": "python",
   "pygments_lexer": "ipython3",
   "version": "3.9.7"
  }
 },
 "nbformat": 4,
 "nbformat_minor": 5
}
