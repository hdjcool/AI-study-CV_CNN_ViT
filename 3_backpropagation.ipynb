{
 "cells": [
  {
   "cell_type": "markdown",
   "metadata": {},
   "source": [
    "## 역전파 학습법을 이용한 심층 신경망 학습"
   ]
  },
  {
   "cell_type": "code",
   "execution_count": 1,
   "metadata": {},
   "outputs": [],
   "source": [
    "import time\n",
    "import numpy as np"
   ]
  },
  {
   "cell_type": "markdown",
   "metadata": {},
   "source": [
    "## 유틸리티 함수"
   ]
  },
  {
   "cell_type": "code",
   "execution_count": 2,
   "metadata": {},
   "outputs": [],
   "source": [
    "def _t(x):\n",
    "    return np.transpose(x)\n",
    "\n",
    "def _m(A, B):\n",
    "    return np.matmul(A, B)"
   ]
  },
  {
   "cell_type": "markdown",
   "metadata": {},
   "source": [
    "## Sigmoid 구현"
   ]
  },
  {
   "cell_type": "code",
   "execution_count": 3,
   "metadata": {},
   "outputs": [],
   "source": [
    "class Sigmoid:\n",
    "    def __init__(self):\n",
    "        self.last_o = 1\n",
    "\n",
    "    def __call__(self, x):\n",
    "        self.last_o = 1 / (1.0 + np.exp(-x))\n",
    "        return self.last_o\n",
    "\n",
    "    def grad(self): # sigmoid(x)(1-sigmoid(x))\n",
    "        return self.last_o * (1 - self.last_o)"
   ]
  },
  {
   "cell_type": "markdown",
   "metadata": {},
   "source": [
    "## Mean Squared Error 구현"
   ]
  },
  {
   "cell_type": "code",
   "execution_count": 4,
   "metadata": {},
   "outputs": [],
   "source": [
    "class MeanSquaredError:\n",
    "    def __init__(self):\n",
    "        # gradient\n",
    "        self.dh = 1\n",
    "        self.last_diff = 1        \n",
    "\n",
    "    def __call__(self, h, y): # 1/2 * mean ((h - y)^2)\n",
    "        self.last_diff = h - y\n",
    "        return 1 / 2 * np.mean(np.square(h - y))\n",
    "\n",
    "    def grad(self): # h - y\n",
    "        return self.last_diff"
   ]
  },
  {
   "cell_type": "markdown",
   "metadata": {},
   "source": [
    "## 뉴런 구현"
   ]
  },
  {
   "cell_type": "code",
   "execution_count": 5,
   "metadata": {},
   "outputs": [],
   "source": [
    "class Neuron:\n",
    "    def __init__(self, W, b, a_obj):\n",
    "        # Model parameters\n",
    "        self.W = W\n",
    "        self.b = b\n",
    "        self.a = a_obj()\n",
    "        \n",
    "        # gradient\n",
    "        self.dW = np.zeros_like(self.W)\n",
    "        self.db = np.zeros_like(self.b)\n",
    "        self.dh = np.zeros_like(_t(self.W))\n",
    "        \n",
    "        self.last_x = np.zeros((self.W.shape[0]))\n",
    "        self.last_h = np.zeros((self.W.shape[1]))\n",
    "\n",
    "    def __call__(self, x):\n",
    "        self.last_x = x\n",
    "        self.last_h = _m(_t(self.W), x) + self.b\n",
    "        return self.a(self.last_h)\n",
    "\n",
    "    def grad(self): # dy/dh = W\n",
    "        return self.W * self.a.grad()\n",
    "\n",
    "    def grad_W(self, dh):\n",
    "        grad = np.ones_like(self.W)\n",
    "        grad_a = self.a.grad()\n",
    "        for j in range(grad.shape[1]): # dy/dw = x\n",
    "            grad[:, j] = dh[j] * grad_a[j] * self.last_x\n",
    "        return grad\n",
    "\n",
    "    def grad_b(self, dh): # dy/dh = 1\n",
    "        return dh * self.a.grad()"
   ]
  },
  {
   "cell_type": "markdown",
   "metadata": {},
   "source": [
    "## 심층신경망 구현"
   ]
  },
  {
   "cell_type": "code",
   "execution_count": 6,
   "metadata": {},
   "outputs": [],
   "source": [
    "class DNN:\n",
    "    def __init__(self, hidden_depth, num_neuron, input, output, activation=Sigmoid):\n",
    "        def init_var(i, o):\n",
    "            return np.random.normal(0.0, 0.01, (i, o)), np.zeros((o,))\n",
    "\n",
    "        self.sequence = list()\n",
    "        # First hidden layer\n",
    "        W, b = init_var(input, num_neuron)\n",
    "        self.sequence.append(Neuron(W, b, activation))\n",
    "\n",
    "        # Hidden Layers\n",
    "        for index in range(hidden_depth):\n",
    "            W, b = init_var(num_neuron, num_neuron)\n",
    "            self.sequence.append(Neuron(W, b, activation))\n",
    "\n",
    "        # Output Layer\n",
    "        W, b = init_var(num_neuron, output)\n",
    "        self.sequence.append(Neuron(W, b, activation))\n",
    "\n",
    "    def __call__(self, x):\n",
    "        for layer in self.sequence:\n",
    "            x = layer(x)\n",
    "        return x\n",
    "\n",
    "    def calc_gradient(self, loss_obj):\n",
    "        loss_obj.dh = loss_obj.grad()\n",
    "        self.sequence.append(loss_obj)\n",
    "        \n",
    "        # back-prop loop\n",
    "        for i in range(len(self.sequence) - 1, 0, -1):\n",
    "            l1 = self.sequence[i]\n",
    "            l0 = self.sequence[i - 1]\n",
    "            \n",
    "            l0.dh = _m(l0.grad(), l1.dh)\n",
    "            l0.dW = l0.grad_W(l1.dh)\n",
    "            l0.db = l0.grad_b(l1.dh)\n",
    "        \n",
    "        self.sequence.remove(loss_obj)"
   ]
  },
  {
   "cell_type": "markdown",
   "metadata": {},
   "source": [
    "## 경사하강 학습법"
   ]
  },
  {
   "cell_type": "code",
   "execution_count": 7,
   "metadata": {},
   "outputs": [],
   "source": [
    "def gradient_descent(network, x, y, loss_obj, alpha=0.01):\n",
    "    loss = loss_obj(network(x), y)  # Forward inference\n",
    "    network.calc_gradient(loss_obj)  # Back-propagation\n",
    "    for layer in network.sequence:\n",
    "        layer.W += -alpha * layer.dW\n",
    "        layer.b += -alpha * layer.db\n",
    "    return loss"
   ]
  },
  {
   "cell_type": "markdown",
   "metadata": {},
   "source": [
    "## 동작 테스트"
   ]
  },
  {
   "cell_type": "code",
   "execution_count": 8,
   "metadata": {},
   "outputs": [
    {
     "name": "stdout",
     "output_type": "stream",
     "text": [
      "Epoch 0: Test loss 0.25462107925756766\n",
      "Epoch 1: Test loss 0.2517712355982733\n",
      "Epoch 2: Test loss 0.24895288775706292\n",
      "Epoch 3: Test loss 0.2461664771772237\n",
      "Epoch 4: Test loss 0.24341240010360718\n",
      "Epoch 5: Test loss 0.2406910082614006\n",
      "Epoch 6: Test loss 0.23800260966241685\n",
      "Epoch 7: Test loss 0.23534746952833618\n",
      "Epoch 8: Test loss 0.23272581132009612\n",
      "Epoch 9: Test loss 0.23013781786250886\n",
      "Epoch 10: Test loss 0.22758363255318403\n",
      "Epoch 11: Test loss 0.22506336064493232\n",
      "Epoch 12: Test loss 0.22257707059102344\n",
      "Epoch 13: Test loss 0.22012479544294816\n",
      "Epoch 14: Test loss 0.21770653429068848\n",
      "Epoch 15: Test loss 0.21532225373591485\n",
      "Epoch 16: Test loss 0.2129718893889972\n",
      "Epoch 17: Test loss 0.21065534738122918\n",
      "Epoch 18: Test loss 0.20837250588420608\n",
      "Epoch 19: Test loss 0.20612321662886585\n",
      "Epoch 20: Test loss 0.2039073064172843\n",
      "Epoch 21: Test loss 0.2017245786209046\n",
      "Epoch 22: Test loss 0.19957481465947063\n",
      "Epoch 23: Test loss 0.1974577754555169\n",
      "Epoch 24: Test loss 0.19537320285984094\n",
      "Epoch 25: Test loss 0.19332082104393503\n",
      "Epoch 26: Test loss 0.19130033785589448\n",
      "Epoch 27: Test loss 0.18931144613682466\n",
      "Epoch 28: Test loss 0.18735382499525874\n",
      "Epoch 29: Test loss 0.18542714103755076\n",
      "Epoch 30: Test loss 0.1835310495526379\n",
      "Epoch 31: Test loss 0.18166519564996125\n",
      "Epoch 32: Test loss 0.17982921534970017\n",
      "Epoch 33: Test loss 0.1780227366248097\n",
      "Epoch 34: Test loss 0.17624538039465631\n",
      "Epoch 35: Test loss 0.17449676147032056\n",
      "Epoch 36: Test loss 0.1727764894518813\n",
      "Epoch 37: Test loss 0.17108416957821546\n",
      "Epoch 38: Test loss 0.16941940353003881\n",
      "Epoch 39: Test loss 0.16778179018707864\n",
      "Epoch 40: Test loss 0.16617092634041522\n",
      "Epoch 41: Test loss 0.1645864073611494\n",
      "Epoch 42: Test loss 0.16302782782665404\n",
      "Epoch 43: Test loss 0.16149478210575124\n",
      "Epoch 44: Test loss 0.15998686490422173\n",
      "Epoch 45: Test loss 0.1585036717721018\n",
      "Epoch 46: Test loss 0.15704479957426132\n",
      "Epoch 47: Test loss 0.15560984692577462\n",
      "Epoch 48: Test loss 0.15419841459361328\n",
      "Epoch 49: Test loss 0.1528101058661851\n",
      "Epoch 50: Test loss 0.15144452689224042\n",
      "Epoch 51: Test loss 0.15010128699064926\n",
      "Epoch 52: Test loss 0.14877999893253188\n",
      "Epoch 53: Test loss 0.1474802791971954\n",
      "Epoch 54: Test loss 0.1462017482032993\n",
      "Epoch 55: Test loss 0.1449440305166339\n",
      "Epoch 56: Test loss 0.14370675503585553\n",
      "Epoch 57: Test loss 0.14248955515748085\n",
      "Epoch 58: Test loss 0.14129206892139654\n",
      "Epoch 59: Test loss 0.1401139391380961\n",
      "Epoch 60: Test loss 0.13895481349880487\n",
      "Epoch 61: Test loss 0.13781434466961134\n",
      "Epoch 62: Test loss 0.13669219037066935\n",
      "Epoch 63: Test loss 0.13558801344149232\n",
      "Epoch 64: Test loss 0.13450148189331\n",
      "Epoch 65: Test loss 0.13343226894941204\n",
      "Epoch 66: Test loss 0.13238005307435802\n",
      "Epoch 67: Test loss 0.13134451799288452\n",
      "Epoch 68: Test loss 0.13032535269930048\n",
      "Epoch 69: Test loss 0.1293222514581155\n",
      "Epoch 70: Test loss 0.12833491379660622\n",
      "Epoch 71: Test loss 0.12736304448998442\n",
      "Epoch 72: Test loss 0.1264063535397938\n",
      "Epoch 73: Test loss 0.1254645561461224\n",
      "Epoch 74: Test loss 0.12453737267418508\n",
      "Epoch 75: Test loss 0.12362452861579422\n",
      "Epoch 76: Test loss 0.12272575454620444\n",
      "Epoch 77: Test loss 0.12184078607678706\n",
      "Epoch 78: Test loss 0.12096936380395937\n",
      "Epoch 79: Test loss 0.12011123325476622\n",
      "Epoch 80: Test loss 0.11926614482948392\n",
      "Epoch 81: Test loss 0.11843385374159232\n",
      "Epoch 82: Test loss 0.11761411995543616\n",
      "Epoch 83: Test loss 0.11680670812187291\n",
      "Epoch 84: Test loss 0.1160113875121862\n",
      "Epoch 85: Test loss 0.11522793195051964\n",
      "Epoch 86: Test loss 0.11445611974507007\n",
      "Epoch 87: Test loss 0.11369573361825944\n",
      "Epoch 88: Test loss 0.1129465606360879\n",
      "Epoch 89: Test loss 0.11220839213685596\n",
      "Epoch 90: Test loss 0.11148102365942711\n",
      "Epoch 91: Test loss 0.11076425487118914\n",
      "Epoch 92: Test loss 0.11005788949586019\n",
      "Epoch 93: Test loss 0.10936173524127069\n",
      "Epoch 94: Test loss 0.10867560372724394\n",
      "Epoch 95: Test loss 0.10799931041368625\n",
      "Epoch 96: Test loss 0.10733267452898573\n",
      "Epoch 97: Test loss 0.10667551899881286\n",
      "Epoch 98: Test loss 0.10602767037540498\n",
      "Epoch 99: Test loss 0.10538895876740907\n",
      "0.35006213188171387 seconds elapsed.\n"
     ]
    }
   ],
   "source": [
    "x = np.random.normal(0.0, 1.0, (10,))\n",
    "y = np.random.normal(0.0, 1.0, (2,))\n",
    "\n",
    "t = time.time()\n",
    "dnn = DNN(hidden_depth=5, num_neuron=32, input=10, output=2, activation=Sigmoid)\n",
    "loss_obj = MeanSquaredError()\n",
    "for epoch in range(100):\n",
    "    loss = gradient_descent(dnn, x, y, loss_obj, alpha=0.01)\n",
    "    print('Epoch {}: Test loss {}'.format(epoch, loss))\n",
    "print('{} seconds elapsed.'.format(time.time() - t))"
   ]
  },
  {
   "cell_type": "code",
   "execution_count": null,
   "metadata": {},
   "outputs": [],
   "source": []
  }
 ],
 "metadata": {
  "kernelspec": {
   "display_name": "Python 3 (ipykernel)",
   "language": "python",
   "name": "python3"
  },
  "language_info": {
   "codemirror_mode": {
    "name": "ipython",
    "version": 3
   },
   "file_extension": ".py",
   "mimetype": "text/x-python",
   "name": "python",
   "nbconvert_exporter": "python",
   "pygments_lexer": "ipython3",
   "version": "3.9.7"
  }
 },
 "nbformat": 4,
 "nbformat_minor": 2
}
