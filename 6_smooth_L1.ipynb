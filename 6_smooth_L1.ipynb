{
 "cells": [
  {
   "cell_type": "markdown",
   "id": "ba971989",
   "metadata": {},
   "source": [
    "### custom loss"
   ]
  },
  {
   "cell_type": "code",
   "execution_count": 1,
   "id": "923d5096",
   "metadata": {},
   "outputs": [],
   "source": [
    "import tensorflow as tf"
   ]
  },
  {
   "cell_type": "code",
   "execution_count": null,
   "id": "a88aa22d",
   "metadata": {},
   "outputs": [],
   "source": [
    "loss = true - prediction\n",
    "\n",
    "# 단순히 뻬기로 계산 하기 힘든 경우가 많다\n",
    "setosa       0\n",
    "versicolor   1\n",
    "virsinica    2\n",
    "\n",
    "# 그래서 one hot 인코딩 사용\n",
    "setosa       0 0 1\n",
    "versicolor   0 1 0\n",
    "virsinica    1 0 0"
   ]
  },
  {
   "cell_type": "code",
   "execution_count": null,
   "id": "1f4a8fa2",
   "metadata": {},
   "outputs": [],
   "source": [
    "# loss 사용하는 3가지 방법\n",
    "tf.keras.losses.SparseCategoricalCrossentropy\n",
    "tf.keras.losses.sparse_categorical_crossentropy\n",
    "'sparse_categorical_crossentropy'"
   ]
  },
  {
   "cell_type": "code",
   "execution_count": null,
   "id": "0f098665",
   "metadata": {},
   "outputs": [],
   "source": [
    "tf.keras.losses.huber # L1과 L2 를 합친 것 smoothL1 은 huber 를 변경 한 것"
   ]
  },
  {
   "cell_type": "code",
   "execution_count": 2,
   "id": "ab33f125",
   "metadata": {},
   "outputs": [
    {
     "data": {
      "text/plain": [
       "'2.9.2'"
      ]
     },
     "execution_count": 2,
     "metadata": {},
     "output_type": "execute_result"
    }
   ],
   "source": [
    "tf.__version__"
   ]
  },
  {
   "cell_type": "code",
   "execution_count": null,
   "id": "444ba3c2",
   "metadata": {},
   "outputs": [],
   "source": [
    "tensorflow 2.5 이상"
   ]
  },
  {
   "cell_type": "code",
   "execution_count": null,
   "id": "d27a4443",
   "metadata": {},
   "outputs": [],
   "source": [
    "# subclass\n",
    "- tf.keras.models.Model\n",
    "- tf.keras.callbacks.Callback\n",
    "- tf.keras.layers.Layer\n",
    "- tf.keras.losses.Loss # __call__ funtion\n",
    "\n",
    "# function\n",
    "loss = tf.keras.losses.sparse_categorical_crossentropy"
   ]
  },
  {
   "cell_type": "code",
   "execution_count": 95,
   "id": "6bd233b7",
   "metadata": {},
   "outputs": [],
   "source": [
    "# loss = tf.keras.losses.SparseCategoricalCrossentropy()\n",
    "loss = tf.keras.losses.sparse_categorical_crossentropy"
   ]
  },
  {
   "cell_type": "code",
   "execution_count": 96,
   "id": "e9b97a0c",
   "metadata": {},
   "outputs": [
    {
     "data": {
      "text/plain": [
       "<function keras.losses.sparse_categorical_crossentropy(y_true, y_pred, from_logits=False, axis=-1)>"
      ]
     },
     "execution_count": 96,
     "metadata": {},
     "output_type": "execute_result"
    }
   ],
   "source": [
    "loss"
   ]
  },
  {
   "cell_type": "markdown",
   "id": "b116585d",
   "metadata": {},
   "source": [
    "### smooth L1"
   ]
  },
  {
   "cell_type": "code",
   "execution_count": 45,
   "id": "b37172df",
   "metadata": {},
   "outputs": [],
   "source": [
    "def smooth_l1(y_true, y_pred):\n",
    "    error = y_true - y_pred\n",
    "    is_one = tf.abs(error) < 1\n",
    "    a = tf.abs(error) - 0.5\n",
    "    b = tf.square(error) / 2\n",
    "    return tf.where(is_one, b, a)"
   ]
  },
  {
   "cell_type": "code",
   "execution_count": 72,
   "id": "78a62751",
   "metadata": {},
   "outputs": [],
   "source": [
    "# 1번\n",
    "def smooth_l1_thresh(y_true, y_pred, thresh=1):\n",
    "    error = y_true - y_pred\n",
    "    is_one = tf.abs(error) < thresh\n",
    "    a = tf.abs(error) - 0.5\n",
    "    b = tf.square(error) / 2\n",
    "    return tf.where(is_one, b, a)"
   ]
  },
  {
   "cell_type": "code",
   "execution_count": 73,
   "id": "c703476d",
   "metadata": {},
   "outputs": [],
   "source": [
    "# 1번\n",
    "from functools import partial\n",
    "my_smooth_l1_thresh_partial = partial(smooth_l1_thresh, thresh=2)"
   ]
  },
  {
   "cell_type": "code",
   "execution_count": 81,
   "id": "98a5b9ec",
   "metadata": {},
   "outputs": [],
   "source": [
    "# 2번 closure\n",
    "def smooth_l1_thresh2(thresh):\n",
    "    def smooth_l1_thresh(y_true, y_pred, thresh=1):\n",
    "        error = y_true - y_pred\n",
    "        is_one = tf.abs(error) < thresh\n",
    "        a = tf.abs(error) - 0.5\n",
    "        b = tf.square(error) / 2\n",
    "        return tf.where(is_one, b, a)\n",
    "    return smooth_l1_thresh"
   ]
  },
  {
   "cell_type": "code",
   "execution_count": 87,
   "id": "40a17e04",
   "metadata": {},
   "outputs": [],
   "source": [
    "class SmoothL1(tf.keras.losses.Loss):\n",
    "    def __init__(self):\n",
    "        super().__init__()\n",
    "        pass\n",
    "    def call(self, y_true, y_pred): # build\n",
    "        error = y_true - y_pred\n",
    "        is_one = tf.abs(error) < 1\n",
    "        a = tf.abs(error) - 0.5\n",
    "        b = tf.square(error) / 2\n",
    "        return tf.where(is_one, b, a)"
   ]
  },
  {
   "cell_type": "code",
   "execution_count": 104,
   "id": "03ae9976",
   "metadata": {},
   "outputs": [],
   "source": [
    "class SmoothL1Thresh(tf.keras.losses.Loss):\n",
    "    def __init__(self, thresh=1):\n",
    "        super().__init__()\n",
    "        self.thresh = thresh\n",
    "        \n",
    "    def call(self, y_true, y_pred): # build\n",
    "        error = y_true - y_pred\n",
    "        is_one = tf.abs(error) < self.thresh\n",
    "        a = tf.abs(error) - 0.5\n",
    "        b = tf.square(error) / 2\n",
    "        return tf.where(is_one, b, a)"
   ]
  },
  {
   "cell_type": "code",
   "execution_count": 105,
   "id": "01cfcd05",
   "metadata": {},
   "outputs": [],
   "source": [
    "(X_train, y_train),(X_test, y_test) = tf.keras.datasets.mnist.load_data()"
   ]
  },
  {
   "cell_type": "code",
   "execution_count": 106,
   "id": "1596f108",
   "metadata": {},
   "outputs": [],
   "source": [
    "y_train = tf.keras.utils.to_categorical(y_train)"
   ]
  },
  {
   "cell_type": "code",
   "execution_count": 107,
   "id": "633b4487",
   "metadata": {},
   "outputs": [],
   "source": [
    "X_train = X_train / 255"
   ]
  },
  {
   "cell_type": "code",
   "execution_count": 108,
   "id": "86f8bef6",
   "metadata": {},
   "outputs": [],
   "source": [
    "input_ = tf.keras.Input((28,28))\n",
    "x = tf.keras.layers.Flatten()(input_)\n",
    "x = tf.keras.layers.Dense(10)(x)"
   ]
  },
  {
   "cell_type": "code",
   "execution_count": 109,
   "id": "baf5a3b0",
   "metadata": {},
   "outputs": [],
   "source": [
    "model = tf.keras.Model(input_, x)"
   ]
  },
  {
   "cell_type": "code",
   "execution_count": 110,
   "id": "36de57f0",
   "metadata": {},
   "outputs": [],
   "source": [
    "# model.compile(loss=smooth_l1)\n",
    "# model.compile(loss=my_smooth_l1_thresh_partial) # 1번\n",
    "# model.compile(loss=smooth_l1_thresh2(3)) # 2번 closure\n",
    "# model.compile(loss= SmoothL1())\n",
    "model.compile(loss= SmoothL1Thresh(3))"
   ]
  },
  {
   "cell_type": "code",
   "execution_count": 111,
   "id": "cff5304c",
   "metadata": {},
   "outputs": [
    {
     "name": "stdout",
     "output_type": "stream",
     "text": [
      "Epoch 1/2\n",
      "  42/1875 [..............................] - ETA: 4s - loss: 0.0705 "
     ]
    },
    {
     "name": "stderr",
     "output_type": "stream",
     "text": [
      "2022-08-12 22:24:14.220483: I tensorflow/core/grappler/optimizers/custom_graph_optimizer_registry.cc:113] Plugin optimizer for device_type GPU is enabled.\n"
     ]
    },
    {
     "name": "stdout",
     "output_type": "stream",
     "text": [
      "1875/1875 [==============================] - 5s 2ms/step - loss: 0.0252\n",
      "Epoch 2/2\n",
      "1875/1875 [==============================] - 5s 3ms/step - loss: 0.0217\n"
     ]
    },
    {
     "data": {
      "text/plain": [
       "<keras.callbacks.History at 0x2bd166af0>"
      ]
     },
     "execution_count": 111,
     "metadata": {},
     "output_type": "execute_result"
    }
   ],
   "source": [
    "model.fit(X_train, y_train, epochs=2)"
   ]
  },
  {
   "cell_type": "code",
   "execution_count": null,
   "id": "849d6841",
   "metadata": {},
   "outputs": [],
   "source": [
    "# old style\n",
    "- keras 자체가 tensorflow 전용이 아니였음\n",
    "- 그래서 tensorflow, theano, cntk"
   ]
  },
  {
   "cell_type": "code",
   "execution_count": 112,
   "id": "42a580f9",
   "metadata": {},
   "outputs": [],
   "source": [
    "import tensorflow.keras.backend as K"
   ]
  },
  {
   "cell_type": "code",
   "execution_count": null,
   "id": "736cec9f",
   "metadata": {},
   "outputs": [],
   "source": [
    "# K <- framework 마다 맞춤형 함수로 변환"
   ]
  },
  {
   "cell_type": "code",
   "execution_count": null,
   "id": "1bdf0f7b",
   "metadata": {},
   "outputs": [],
   "source": [
    "class OldSmoothL1Thresh(tf.keras.losses.Loss):\n",
    "    def __init__(self, thresh=1):\n",
    "        super().__init__()\n",
    "        self.thresh = thresh\n",
    "        \n",
    "    def call(self, y_true, y_pred): # build\n",
    "        error = y_true - y_pred\n",
    "        is_one = K.abs(error) < self.thresh\n",
    "        a = K.abs(error) - 0.5\n",
    "        b = K.square(error) / 2\n",
    "        return tf.where(is_one, b, a)"
   ]
  }
 ],
 "metadata": {
  "kernelspec": {
   "display_name": "tensorflow_gpu_mac",
   "language": "python",
   "name": "tf"
  },
  "language_info": {
   "codemirror_mode": {
    "name": "ipython",
    "version": 3
   },
   "file_extension": ".py",
   "mimetype": "text/x-python",
   "name": "python",
   "nbconvert_exporter": "python",
   "pygments_lexer": "ipython3",
   "version": "3.9.13"
  }
 },
 "nbformat": 4,
 "nbformat_minor": 5
}
