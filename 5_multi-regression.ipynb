{
 "cells": [
  {
   "cell_type": "markdown",
   "id": "032fcd6c",
   "metadata": {},
   "source": [
    "### classification\n",
    "- alexnet\n",
    "- zfnet : 비주얼라이제이션에서 성능개선으로 발전/ 테크닉으로 모델 자체는 아님\n",
    "- vggnet : 3 x 3\n",
    "- googlenet : inception\n",
    "- resnet : residual block\n",
    "\n",
    "### detection\n",
    "- rcnn (overfeat) : 기존보다 30% 높아짐\n",
    "- sppnet : pooling\n",
    "- fast-rcnn\n",
    "\n",
    "### segmentation\n",
    "- fcn"
   ]
  },
  {
   "cell_type": "markdown",
   "id": "c30ab4a4",
   "metadata": {},
   "source": [
    "- convolution 을 하면 : features and locations\n",
    "- multi-scale training : VGG 에서도 사용했음\n",
    "\n",
    "### detection 에서 현재도 진행 되고 있는 3가지 이슈\n",
    "- 속도\n",
    "- imbalance\n",
    "- 사이즈별 이슈"
   ]
  },
  {
   "cell_type": "markdown",
   "id": "d9a4eddc",
   "metadata": {},
   "source": [
    "### Fast-RCNN 모델\n",
    "- PASCAL VOC 데이타셋 사용\n",
    "- 애노테이션 된 데이터셋을 불러온다"
   ]
  },
  {
   "cell_type": "code",
   "execution_count": 1,
   "id": "88e7dded",
   "metadata": {},
   "outputs": [],
   "source": [
    "import pandas as pd"
   ]
  },
  {
   "cell_type": "code",
   "execution_count": 2,
   "id": "65d0b172",
   "metadata": {},
   "outputs": [],
   "source": [
    "import tensorflow as tf"
   ]
  },
  {
   "cell_type": "code",
   "execution_count": 3,
   "id": "6530fc71",
   "metadata": {},
   "outputs": [],
   "source": [
    "airplane = pd.read_csv('dataset/annotations/airplane.csv', header=None)"
   ]
  },
  {
   "cell_type": "code",
   "execution_count": 4,
   "id": "218ff857",
   "metadata": {},
   "outputs": [],
   "source": [
    "airplane.rename({0:'filename',1:'xmin',2:'ymin',3:'xmax',4:'ymax', 5:'target' }, axis=1, inplace=True)"
   ]
  },
  {
   "cell_type": "code",
   "execution_count": 5,
   "id": "68d083d0",
   "metadata": {},
   "outputs": [
    {
     "data": {
      "text/html": [
       "<div>\n",
       "<style scoped>\n",
       "    .dataframe tbody tr th:only-of-type {\n",
       "        vertical-align: middle;\n",
       "    }\n",
       "\n",
       "    .dataframe tbody tr th {\n",
       "        vertical-align: top;\n",
       "    }\n",
       "\n",
       "    .dataframe thead th {\n",
       "        text-align: right;\n",
       "    }\n",
       "</style>\n",
       "<table border=\"1\" class=\"dataframe\">\n",
       "  <thead>\n",
       "    <tr style=\"text-align: right;\">\n",
       "      <th></th>\n",
       "      <th>filename</th>\n",
       "      <th>xmin</th>\n",
       "      <th>ymin</th>\n",
       "      <th>xmax</th>\n",
       "      <th>ymax</th>\n",
       "      <th>target</th>\n",
       "    </tr>\n",
       "  </thead>\n",
       "  <tbody>\n",
       "    <tr>\n",
       "      <th>0</th>\n",
       "      <td>image_0001.jpg</td>\n",
       "      <td>49</td>\n",
       "      <td>30</td>\n",
       "      <td>349</td>\n",
       "      <td>137</td>\n",
       "      <td>airplane</td>\n",
       "    </tr>\n",
       "    <tr>\n",
       "      <th>1</th>\n",
       "      <td>image_0002.jpg</td>\n",
       "      <td>59</td>\n",
       "      <td>35</td>\n",
       "      <td>342</td>\n",
       "      <td>153</td>\n",
       "      <td>airplane</td>\n",
       "    </tr>\n",
       "    <tr>\n",
       "      <th>2</th>\n",
       "      <td>image_0003.jpg</td>\n",
       "      <td>47</td>\n",
       "      <td>36</td>\n",
       "      <td>331</td>\n",
       "      <td>135</td>\n",
       "      <td>airplane</td>\n",
       "    </tr>\n",
       "    <tr>\n",
       "      <th>3</th>\n",
       "      <td>image_0004.jpg</td>\n",
       "      <td>47</td>\n",
       "      <td>24</td>\n",
       "      <td>342</td>\n",
       "      <td>141</td>\n",
       "      <td>airplane</td>\n",
       "    </tr>\n",
       "    <tr>\n",
       "      <th>4</th>\n",
       "      <td>image_0005.jpg</td>\n",
       "      <td>48</td>\n",
       "      <td>18</td>\n",
       "      <td>339</td>\n",
       "      <td>146</td>\n",
       "      <td>airplane</td>\n",
       "    </tr>\n",
       "    <tr>\n",
       "      <th>...</th>\n",
       "      <td>...</td>\n",
       "      <td>...</td>\n",
       "      <td>...</td>\n",
       "      <td>...</td>\n",
       "      <td>...</td>\n",
       "      <td>...</td>\n",
       "    </tr>\n",
       "    <tr>\n",
       "      <th>795</th>\n",
       "      <td>image_0796.jpg</td>\n",
       "      <td>57</td>\n",
       "      <td>27</td>\n",
       "      <td>356</td>\n",
       "      <td>118</td>\n",
       "      <td>airplane</td>\n",
       "    </tr>\n",
       "    <tr>\n",
       "      <th>796</th>\n",
       "      <td>image_0797.jpg</td>\n",
       "      <td>56</td>\n",
       "      <td>25</td>\n",
       "      <td>350</td>\n",
       "      <td>110</td>\n",
       "      <td>airplane</td>\n",
       "    </tr>\n",
       "    <tr>\n",
       "      <th>797</th>\n",
       "      <td>image_0798.jpg</td>\n",
       "      <td>59</td>\n",
       "      <td>25</td>\n",
       "      <td>354</td>\n",
       "      <td>110</td>\n",
       "      <td>airplane</td>\n",
       "    </tr>\n",
       "    <tr>\n",
       "      <th>798</th>\n",
       "      <td>image_0799.jpg</td>\n",
       "      <td>49</td>\n",
       "      <td>26</td>\n",
       "      <td>347</td>\n",
       "      <td>116</td>\n",
       "      <td>airplane</td>\n",
       "    </tr>\n",
       "    <tr>\n",
       "      <th>799</th>\n",
       "      <td>image_0800.jpg</td>\n",
       "      <td>53</td>\n",
       "      <td>27</td>\n",
       "      <td>348</td>\n",
       "      <td>109</td>\n",
       "      <td>airplane</td>\n",
       "    </tr>\n",
       "  </tbody>\n",
       "</table>\n",
       "<p>800 rows × 6 columns</p>\n",
       "</div>"
      ],
      "text/plain": [
       "           filename  xmin  ymin  xmax  ymax    target\n",
       "0    image_0001.jpg    49    30   349   137  airplane\n",
       "1    image_0002.jpg    59    35   342   153  airplane\n",
       "2    image_0003.jpg    47    36   331   135  airplane\n",
       "3    image_0004.jpg    47    24   342   141  airplane\n",
       "4    image_0005.jpg    48    18   339   146  airplane\n",
       "..              ...   ...   ...   ...   ...       ...\n",
       "795  image_0796.jpg    57    27   356   118  airplane\n",
       "796  image_0797.jpg    56    25   350   110  airplane\n",
       "797  image_0798.jpg    59    25   354   110  airplane\n",
       "798  image_0799.jpg    49    26   347   116  airplane\n",
       "799  image_0800.jpg    53    27   348   109  airplane\n",
       "\n",
       "[800 rows x 6 columns]"
      ]
     },
     "execution_count": 5,
     "metadata": {},
     "output_type": "execute_result"
    }
   ],
   "source": [
    "airplane"
   ]
  },
  {
   "cell_type": "code",
   "execution_count": 6,
   "id": "08e079a3",
   "metadata": {},
   "outputs": [
    {
     "data": {
      "text/html": [
       "<div>\n",
       "<style scoped>\n",
       "    .dataframe tbody tr th:only-of-type {\n",
       "        vertical-align: middle;\n",
       "    }\n",
       "\n",
       "    .dataframe tbody tr th {\n",
       "        vertical-align: top;\n",
       "    }\n",
       "\n",
       "    .dataframe thead th {\n",
       "        text-align: right;\n",
       "    }\n",
       "</style>\n",
       "<table border=\"1\" class=\"dataframe\">\n",
       "  <thead>\n",
       "    <tr style=\"text-align: right;\">\n",
       "      <th></th>\n",
       "      <th>filename</th>\n",
       "      <th>xmin</th>\n",
       "      <th>ymin</th>\n",
       "      <th>xmax</th>\n",
       "      <th>ymax</th>\n",
       "      <th>target</th>\n",
       "    </tr>\n",
       "  </thead>\n",
       "  <tbody>\n",
       "    <tr>\n",
       "      <th>0</th>\n",
       "      <td>image_0001.jpg</td>\n",
       "      <td>251</td>\n",
       "      <td>15</td>\n",
       "      <td>444</td>\n",
       "      <td>300</td>\n",
       "      <td>face</td>\n",
       "    </tr>\n",
       "    <tr>\n",
       "      <th>1</th>\n",
       "      <td>image_0002.jpg</td>\n",
       "      <td>106</td>\n",
       "      <td>31</td>\n",
       "      <td>296</td>\n",
       "      <td>310</td>\n",
       "      <td>face</td>\n",
       "    </tr>\n",
       "    <tr>\n",
       "      <th>2</th>\n",
       "      <td>image_0003.jpg</td>\n",
       "      <td>207</td>\n",
       "      <td>17</td>\n",
       "      <td>385</td>\n",
       "      <td>279</td>\n",
       "      <td>face</td>\n",
       "    </tr>\n",
       "    <tr>\n",
       "      <th>3</th>\n",
       "      <td>image_0004.jpg</td>\n",
       "      <td>102</td>\n",
       "      <td>55</td>\n",
       "      <td>303</td>\n",
       "      <td>328</td>\n",
       "      <td>face</td>\n",
       "    </tr>\n",
       "    <tr>\n",
       "      <th>4</th>\n",
       "      <td>image_0005.jpg</td>\n",
       "      <td>246</td>\n",
       "      <td>30</td>\n",
       "      <td>446</td>\n",
       "      <td>312</td>\n",
       "      <td>face</td>\n",
       "    </tr>\n",
       "    <tr>\n",
       "      <th>...</th>\n",
       "      <td>...</td>\n",
       "      <td>...</td>\n",
       "      <td>...</td>\n",
       "      <td>...</td>\n",
       "      <td>...</td>\n",
       "      <td>...</td>\n",
       "    </tr>\n",
       "    <tr>\n",
       "      <th>430</th>\n",
       "      <td>image_0431.jpg</td>\n",
       "      <td>119</td>\n",
       "      <td>16</td>\n",
       "      <td>327</td>\n",
       "      <td>262</td>\n",
       "      <td>face</td>\n",
       "    </tr>\n",
       "    <tr>\n",
       "      <th>431</th>\n",
       "      <td>image_0432.jpg</td>\n",
       "      <td>117</td>\n",
       "      <td>14</td>\n",
       "      <td>322</td>\n",
       "      <td>251</td>\n",
       "      <td>face</td>\n",
       "    </tr>\n",
       "    <tr>\n",
       "      <th>432</th>\n",
       "      <td>image_0433.jpg</td>\n",
       "      <td>193</td>\n",
       "      <td>24</td>\n",
       "      <td>400</td>\n",
       "      <td>281</td>\n",
       "      <td>face</td>\n",
       "    </tr>\n",
       "    <tr>\n",
       "      <th>433</th>\n",
       "      <td>image_0434.jpg</td>\n",
       "      <td>127</td>\n",
       "      <td>13</td>\n",
       "      <td>337</td>\n",
       "      <td>268</td>\n",
       "      <td>face</td>\n",
       "    </tr>\n",
       "    <tr>\n",
       "      <th>434</th>\n",
       "      <td>image_0435.jpg</td>\n",
       "      <td>213</td>\n",
       "      <td>20</td>\n",
       "      <td>418</td>\n",
       "      <td>269</td>\n",
       "      <td>face</td>\n",
       "    </tr>\n",
       "  </tbody>\n",
       "</table>\n",
       "<p>435 rows × 6 columns</p>\n",
       "</div>"
      ],
      "text/plain": [
       "           filename  xmin  ymin  xmax  ymax target\n",
       "0    image_0001.jpg   251    15   444   300   face\n",
       "1    image_0002.jpg   106    31   296   310   face\n",
       "2    image_0003.jpg   207    17   385   279   face\n",
       "3    image_0004.jpg   102    55   303   328   face\n",
       "4    image_0005.jpg   246    30   446   312   face\n",
       "..              ...   ...   ...   ...   ...    ...\n",
       "430  image_0431.jpg   119    16   327   262   face\n",
       "431  image_0432.jpg   117    14   322   251   face\n",
       "432  image_0433.jpg   193    24   400   281   face\n",
       "433  image_0434.jpg   127    13   337   268   face\n",
       "434  image_0435.jpg   213    20   418   269   face\n",
       "\n",
       "[435 rows x 6 columns]"
      ]
     },
     "execution_count": 6,
     "metadata": {},
     "output_type": "execute_result"
    }
   ],
   "source": [
    "face = pd.read_csv('dataset/annotations/face.csv', header=None)\n",
    "face.rename({0:'filename',1:'xmin',2:'ymin',3:'xmax',4:'ymax', 5:'target' }, axis=1, inplace=True)\n",
    "face"
   ]
  },
  {
   "cell_type": "code",
   "execution_count": 7,
   "id": "0aa72f3e",
   "metadata": {},
   "outputs": [
    {
     "data": {
      "text/html": [
       "<div>\n",
       "<style scoped>\n",
       "    .dataframe tbody tr th:only-of-type {\n",
       "        vertical-align: middle;\n",
       "    }\n",
       "\n",
       "    .dataframe tbody tr th {\n",
       "        vertical-align: top;\n",
       "    }\n",
       "\n",
       "    .dataframe thead th {\n",
       "        text-align: right;\n",
       "    }\n",
       "</style>\n",
       "<table border=\"1\" class=\"dataframe\">\n",
       "  <thead>\n",
       "    <tr style=\"text-align: right;\">\n",
       "      <th></th>\n",
       "      <th>filename</th>\n",
       "      <th>xmin</th>\n",
       "      <th>ymin</th>\n",
       "      <th>xmax</th>\n",
       "      <th>ymax</th>\n",
       "      <th>target</th>\n",
       "    </tr>\n",
       "  </thead>\n",
       "  <tbody>\n",
       "    <tr>\n",
       "      <th>0</th>\n",
       "      <td>image_0001.jpg</td>\n",
       "      <td>31</td>\n",
       "      <td>19</td>\n",
       "      <td>233</td>\n",
       "      <td>141</td>\n",
       "      <td>motorcycle</td>\n",
       "    </tr>\n",
       "    <tr>\n",
       "      <th>1</th>\n",
       "      <td>image_0002.jpg</td>\n",
       "      <td>32</td>\n",
       "      <td>15</td>\n",
       "      <td>232</td>\n",
       "      <td>142</td>\n",
       "      <td>motorcycle</td>\n",
       "    </tr>\n",
       "    <tr>\n",
       "      <th>2</th>\n",
       "      <td>image_0003.jpg</td>\n",
       "      <td>30</td>\n",
       "      <td>20</td>\n",
       "      <td>234</td>\n",
       "      <td>143</td>\n",
       "      <td>motorcycle</td>\n",
       "    </tr>\n",
       "    <tr>\n",
       "      <th>3</th>\n",
       "      <td>image_0004.jpg</td>\n",
       "      <td>30</td>\n",
       "      <td>15</td>\n",
       "      <td>231</td>\n",
       "      <td>132</td>\n",
       "      <td>motorcycle</td>\n",
       "    </tr>\n",
       "    <tr>\n",
       "      <th>4</th>\n",
       "      <td>image_0005.jpg</td>\n",
       "      <td>31</td>\n",
       "      <td>19</td>\n",
       "      <td>232</td>\n",
       "      <td>145</td>\n",
       "      <td>motorcycle</td>\n",
       "    </tr>\n",
       "    <tr>\n",
       "      <th>...</th>\n",
       "      <td>...</td>\n",
       "      <td>...</td>\n",
       "      <td>...</td>\n",
       "      <td>...</td>\n",
       "      <td>...</td>\n",
       "      <td>...</td>\n",
       "    </tr>\n",
       "    <tr>\n",
       "      <th>793</th>\n",
       "      <td>image_0794.jpg</td>\n",
       "      <td>47</td>\n",
       "      <td>44</td>\n",
       "      <td>218</td>\n",
       "      <td>133</td>\n",
       "      <td>motorcycle</td>\n",
       "    </tr>\n",
       "    <tr>\n",
       "      <th>794</th>\n",
       "      <td>image_0795.jpg</td>\n",
       "      <td>44</td>\n",
       "      <td>38</td>\n",
       "      <td>216</td>\n",
       "      <td>135</td>\n",
       "      <td>motorcycle</td>\n",
       "    </tr>\n",
       "    <tr>\n",
       "      <th>795</th>\n",
       "      <td>image_0796.jpg</td>\n",
       "      <td>47</td>\n",
       "      <td>40</td>\n",
       "      <td>217</td>\n",
       "      <td>141</td>\n",
       "      <td>motorcycle</td>\n",
       "    </tr>\n",
       "    <tr>\n",
       "      <th>796</th>\n",
       "      <td>image_0797.jpg</td>\n",
       "      <td>48</td>\n",
       "      <td>54</td>\n",
       "      <td>211</td>\n",
       "      <td>150</td>\n",
       "      <td>motorcycle</td>\n",
       "    </tr>\n",
       "    <tr>\n",
       "      <th>797</th>\n",
       "      <td>image_0798.jpg</td>\n",
       "      <td>42</td>\n",
       "      <td>33</td>\n",
       "      <td>218</td>\n",
       "      <td>140</td>\n",
       "      <td>motorcycle</td>\n",
       "    </tr>\n",
       "  </tbody>\n",
       "</table>\n",
       "<p>798 rows × 6 columns</p>\n",
       "</div>"
      ],
      "text/plain": [
       "           filename  xmin  ymin  xmax  ymax      target\n",
       "0    image_0001.jpg    31    19   233   141  motorcycle\n",
       "1    image_0002.jpg    32    15   232   142  motorcycle\n",
       "2    image_0003.jpg    30    20   234   143  motorcycle\n",
       "3    image_0004.jpg    30    15   231   132  motorcycle\n",
       "4    image_0005.jpg    31    19   232   145  motorcycle\n",
       "..              ...   ...   ...   ...   ...         ...\n",
       "793  image_0794.jpg    47    44   218   133  motorcycle\n",
       "794  image_0795.jpg    44    38   216   135  motorcycle\n",
       "795  image_0796.jpg    47    40   217   141  motorcycle\n",
       "796  image_0797.jpg    48    54   211   150  motorcycle\n",
       "797  image_0798.jpg    42    33   218   140  motorcycle\n",
       "\n",
       "[798 rows x 6 columns]"
      ]
     },
     "execution_count": 7,
     "metadata": {},
     "output_type": "execute_result"
    }
   ],
   "source": [
    "motorcycle = pd.read_csv('dataset/annotations/motorcycle.csv', header=None)\n",
    "motorcycle.rename({0:'filename',1:'xmin',2:'ymin',3:'xmax',4:'ymax', 5:'target' }, axis=1, inplace=True)\n",
    "motorcycle"
   ]
  },
  {
   "cell_type": "code",
   "execution_count": 8,
   "id": "2fba11b1",
   "metadata": {},
   "outputs": [],
   "source": [
    "data = pd.concat([airplane, face, motorcycle], ignore_index=True)"
   ]
  },
  {
   "cell_type": "code",
   "execution_count": 9,
   "id": "4e6faa7f",
   "metadata": {},
   "outputs": [
    {
     "data": {
      "text/html": [
       "<div>\n",
       "<style scoped>\n",
       "    .dataframe tbody tr th:only-of-type {\n",
       "        vertical-align: middle;\n",
       "    }\n",
       "\n",
       "    .dataframe tbody tr th {\n",
       "        vertical-align: top;\n",
       "    }\n",
       "\n",
       "    .dataframe thead th {\n",
       "        text-align: right;\n",
       "    }\n",
       "</style>\n",
       "<table border=\"1\" class=\"dataframe\">\n",
       "  <thead>\n",
       "    <tr style=\"text-align: right;\">\n",
       "      <th></th>\n",
       "      <th>filename</th>\n",
       "      <th>xmin</th>\n",
       "      <th>ymin</th>\n",
       "      <th>xmax</th>\n",
       "      <th>ymax</th>\n",
       "      <th>target</th>\n",
       "    </tr>\n",
       "  </thead>\n",
       "  <tbody>\n",
       "    <tr>\n",
       "      <th>0</th>\n",
       "      <td>image_0001.jpg</td>\n",
       "      <td>49</td>\n",
       "      <td>30</td>\n",
       "      <td>349</td>\n",
       "      <td>137</td>\n",
       "      <td>airplane</td>\n",
       "    </tr>\n",
       "    <tr>\n",
       "      <th>1</th>\n",
       "      <td>image_0002.jpg</td>\n",
       "      <td>59</td>\n",
       "      <td>35</td>\n",
       "      <td>342</td>\n",
       "      <td>153</td>\n",
       "      <td>airplane</td>\n",
       "    </tr>\n",
       "    <tr>\n",
       "      <th>2</th>\n",
       "      <td>image_0003.jpg</td>\n",
       "      <td>47</td>\n",
       "      <td>36</td>\n",
       "      <td>331</td>\n",
       "      <td>135</td>\n",
       "      <td>airplane</td>\n",
       "    </tr>\n",
       "    <tr>\n",
       "      <th>3</th>\n",
       "      <td>image_0004.jpg</td>\n",
       "      <td>47</td>\n",
       "      <td>24</td>\n",
       "      <td>342</td>\n",
       "      <td>141</td>\n",
       "      <td>airplane</td>\n",
       "    </tr>\n",
       "    <tr>\n",
       "      <th>4</th>\n",
       "      <td>image_0005.jpg</td>\n",
       "      <td>48</td>\n",
       "      <td>18</td>\n",
       "      <td>339</td>\n",
       "      <td>146</td>\n",
       "      <td>airplane</td>\n",
       "    </tr>\n",
       "    <tr>\n",
       "      <th>...</th>\n",
       "      <td>...</td>\n",
       "      <td>...</td>\n",
       "      <td>...</td>\n",
       "      <td>...</td>\n",
       "      <td>...</td>\n",
       "      <td>...</td>\n",
       "    </tr>\n",
       "    <tr>\n",
       "      <th>2028</th>\n",
       "      <td>image_0794.jpg</td>\n",
       "      <td>47</td>\n",
       "      <td>44</td>\n",
       "      <td>218</td>\n",
       "      <td>133</td>\n",
       "      <td>motorcycle</td>\n",
       "    </tr>\n",
       "    <tr>\n",
       "      <th>2029</th>\n",
       "      <td>image_0795.jpg</td>\n",
       "      <td>44</td>\n",
       "      <td>38</td>\n",
       "      <td>216</td>\n",
       "      <td>135</td>\n",
       "      <td>motorcycle</td>\n",
       "    </tr>\n",
       "    <tr>\n",
       "      <th>2030</th>\n",
       "      <td>image_0796.jpg</td>\n",
       "      <td>47</td>\n",
       "      <td>40</td>\n",
       "      <td>217</td>\n",
       "      <td>141</td>\n",
       "      <td>motorcycle</td>\n",
       "    </tr>\n",
       "    <tr>\n",
       "      <th>2031</th>\n",
       "      <td>image_0797.jpg</td>\n",
       "      <td>48</td>\n",
       "      <td>54</td>\n",
       "      <td>211</td>\n",
       "      <td>150</td>\n",
       "      <td>motorcycle</td>\n",
       "    </tr>\n",
       "    <tr>\n",
       "      <th>2032</th>\n",
       "      <td>image_0798.jpg</td>\n",
       "      <td>42</td>\n",
       "      <td>33</td>\n",
       "      <td>218</td>\n",
       "      <td>140</td>\n",
       "      <td>motorcycle</td>\n",
       "    </tr>\n",
       "  </tbody>\n",
       "</table>\n",
       "<p>2033 rows × 6 columns</p>\n",
       "</div>"
      ],
      "text/plain": [
       "            filename  xmin  ymin  xmax  ymax      target\n",
       "0     image_0001.jpg    49    30   349   137    airplane\n",
       "1     image_0002.jpg    59    35   342   153    airplane\n",
       "2     image_0003.jpg    47    36   331   135    airplane\n",
       "3     image_0004.jpg    47    24   342   141    airplane\n",
       "4     image_0005.jpg    48    18   339   146    airplane\n",
       "...              ...   ...   ...   ...   ...         ...\n",
       "2028  image_0794.jpg    47    44   218   133  motorcycle\n",
       "2029  image_0795.jpg    44    38   216   135  motorcycle\n",
       "2030  image_0796.jpg    47    40   217   141  motorcycle\n",
       "2031  image_0797.jpg    48    54   211   150  motorcycle\n",
       "2032  image_0798.jpg    42    33   218   140  motorcycle\n",
       "\n",
       "[2033 rows x 6 columns]"
      ]
     },
     "execution_count": 9,
     "metadata": {},
     "output_type": "execute_result"
    }
   ],
   "source": [
    "data"
   ]
  },
  {
   "cell_type": "code",
   "execution_count": 10,
   "id": "e4898e1b",
   "metadata": {},
   "outputs": [
    {
     "data": {
      "text/plain": [
       "<AxesSubplot:ylabel='target'>"
      ]
     },
     "execution_count": 10,
     "metadata": {},
     "output_type": "execute_result"
    },
    {
     "data": {
      "image/png": "[encoded data removed]",
      "text/plain": [
       "<Figure size 432x288 with 1 Axes>"
      ]
     },
     "metadata": {},
     "output_type": "display_data"
    }
   ],
   "source": [
    "data.target.value_counts().plot.pie()"
   ]
  },
  {
   "cell_type": "code",
   "execution_count": 11,
   "id": "ea813e7e",
   "metadata": {},
   "outputs": [
    {
     "name": "stdout",
     "output_type": "stream",
     "text": [
      "<class 'pandas.core.frame.DataFrame'>\n",
      "RangeIndex: 800 entries, 0 to 799\n",
      "Data columns (total 6 columns):\n",
      " #   Column    Non-Null Count  Dtype \n",
      "---  ------    --------------  ----- \n",
      " 0   filename  800 non-null    object\n",
      " 1   xmin      800 non-null    int64 \n",
      " 2   ymin      800 non-null    int64 \n",
      " 3   xmax      800 non-null    int64 \n",
      " 4   ymax      800 non-null    int64 \n",
      " 5   target    800 non-null    object\n",
      "dtypes: int64(4), object(2)\n",
      "memory usage: 37.6+ KB\n"
     ]
    }
   ],
   "source": [
    "airplane.info()"
   ]
  },
  {
   "cell_type": "code",
   "execution_count": 12,
   "id": "92828847",
   "metadata": {},
   "outputs": [],
   "source": [
    "ig = tf.keras.preprocessing.image.ImageDataGenerator(rescale=1/255)"
   ]
  },
  {
   "cell_type": "code",
   "execution_count": 13,
   "id": "5d3114ab",
   "metadata": {},
   "outputs": [
    {
     "name": "stdout",
     "output_type": "stream",
     "text": [
      "Found 800 validated image filenames belonging to 1 classes.\n"
     ]
    }
   ],
   "source": [
    "fig = ig.flow_from_dataframe(airplane, directory='dataset/images/airplane/', y_col='target') \n",
    "# classification용이 기본 사용\n",
    "# classification 을 기본사용 지금 하려고 하는 것은 regresion"
   ]
  },
  {
   "cell_type": "code",
   "execution_count": 14,
   "id": "6edffd12",
   "metadata": {},
   "outputs": [
    {
     "name": "stdout",
     "output_type": "stream",
     "text": [
      "Found 800 validated image filenames.\n"
     ]
    }
   ],
   "source": [
    "rig = ig.flow_from_dataframe(airplane, directory='dataset/images/airplane/', class_mode='raw',\n",
    "                             y_col=['xmin','ymin','xmax','ymax'], target_size=(224,224))"
   ]
  },
  {
   "cell_type": "code",
   "execution_count": 15,
   "id": "47d6a881",
   "metadata": {},
   "outputs": [],
   "source": [
    "t = next(rig)"
   ]
  },
  {
   "cell_type": "code",
   "execution_count": 16,
   "id": "deaf3dac",
   "metadata": {},
   "outputs": [],
   "source": [
    "import matplotlib.pyplot as plt"
   ]
  },
  {
   "cell_type": "code",
   "execution_count": 17,
   "id": "fbcc6b89",
   "metadata": {},
   "outputs": [],
   "source": [
    "import matplotlib.patches as pt"
   ]
  },
  {
   "cell_type": "code",
   "execution_count": 18,
   "id": "28b8fcd0",
   "metadata": {},
   "outputs": [
    {
     "data": {
      "text/plain": [
       "array([1., 1., 1.], dtype=float32)"
      ]
     },
     "execution_count": 18,
     "metadata": {},
     "output_type": "execute_result"
    }
   ],
   "source": [
    "t[0][0][0][0]"
   ]
  },
  {
   "cell_type": "code",
   "execution_count": 19,
   "id": "3b8adf47",
   "metadata": {},
   "outputs": [],
   "source": [
    "import imageio"
   ]
  },
  {
   "cell_type": "code",
   "execution_count": 20,
   "id": "f8da588d",
   "metadata": {},
   "outputs": [
    {
     "name": "stderr",
     "output_type": "stream",
     "text": [
      "/var/folders/9k/jsf_2t1d6ts48d1mpfj3nxp00000gn/T/ipykernel_58546/1106939017.py:1: DeprecationWarning: Starting with ImageIO v3 the behavior of this function will switch to that of iio.v3.imread. To keep the current behavior (and make this warning dissapear) use `import imageio.v2 as imageio` or call `imageio.v2.imread` directly.\n",
      "  d = imageio.imread('dataset/images/airplane/image_0003.jpg')\n"
     ]
    }
   ],
   "source": [
    "d = imageio.imread('dataset/images/airplane/image_0003.jpg')"
   ]
  },
  {
   "cell_type": "code",
   "execution_count": 21,
   "id": "33311ea0",
   "metadata": {},
   "outputs": [
    {
     "data": {
      "text/plain": [
       "(165, 393, 3)"
      ]
     },
     "execution_count": 21,
     "metadata": {},
     "output_type": "execute_result"
    }
   ],
   "source": [
    "d.shape"
   ]
  },
  {
   "cell_type": "code",
   "execution_count": 22,
   "id": "14cdd229",
   "metadata": {},
   "outputs": [
    {
     "data": {
      "text/plain": [
       "<matplotlib.patches.Rectangle at 0x16852f850>"
      ]
     },
     "execution_count": 22,
     "metadata": {},
     "output_type": "execute_result"
    },
    {
     "data": {
      "image/png": "[encoded data removed]",
      "text/plain": [
       "<Figure size 432x288 with 1 Axes>"
      ]
     },
     "metadata": {
      "needs_background": "light"
     },
     "output_type": "display_data"
    }
   ],
   "source": [
    "fig, ax = plt.subplots()\n",
    "ax.imshow(t[0][0])\n",
    "p = pt.Rectangle((t[1][0][0],t[1][0][1]), t[1][0][2] - t[1][0][0], t[1][0][3] - t[1][0][1], fill=None)\n",
    "ax.add_patch(p)"
   ]
  },
  {
   "cell_type": "code",
   "execution_count": 23,
   "id": "90fff96a",
   "metadata": {},
   "outputs": [
    {
     "name": "stdout",
     "output_type": "stream",
     "text": [
      "Metal device set to: Apple M1\n",
      "\n",
      "systemMemory: 16.00 GB\n",
      "maxCacheSize: 5.33 GB\n",
      "\n"
     ]
    },
    {
     "name": "stderr",
     "output_type": "stream",
     "text": [
      "2022-08-07 22:10:00.985909: I tensorflow/core/common_runtime/pluggable_device/pluggable_device_factory.cc:305] Could not identify NUMA node of platform GPU ID 0, defaulting to 0. Your kernel may not have been built with NUMA support.\n",
      "2022-08-07 22:10:00.986000: I tensorflow/core/common_runtime/pluggable_device/pluggable_device_factory.cc:271] Created TensorFlow device (/job:localhost/replica:0/task:0/device:GPU:0 with 0 MB memory) -> physical PluggableDevice (device: 0, name: METAL, pci bus id: <undefined>)\n"
     ]
    }
   ],
   "source": [
    "vgg = tf.keras.applications.VGG16(include_top=False)\n",
    "vgg.trainable = False"
   ]
  },
  {
   "cell_type": "code",
   "execution_count": 24,
   "id": "bd61eb25",
   "metadata": {},
   "outputs": [],
   "source": [
    "input_ = tf.keras.Input((224,224,3))\n",
    "x = tf.keras.applications.vgg16.preprocess_input(input_)\n",
    "x = vgg(x)\n",
    "x = tf.keras.layers.GlobalAvgPool2D()(x)\n",
    "x = tf.keras.layers.Dense(128, activation='relu')(x)\n",
    "x = tf.keras.layers.Dense(4)(x)"
   ]
  },
  {
   "cell_type": "code",
   "execution_count": 25,
   "id": "c8f86225",
   "metadata": {},
   "outputs": [],
   "source": [
    "model = tf.keras.Model(input_, x)"
   ]
  },
  {
   "cell_type": "code",
   "execution_count": 26,
   "id": "d7eca1f6",
   "metadata": {},
   "outputs": [
    {
     "name": "stdout",
     "output_type": "stream",
     "text": [
      "Model: \"model\"\n",
      "_________________________________________________________________\n",
      " Layer (type)                Output Shape              Param #   \n",
      "=================================================================\n",
      " input_2 (InputLayer)        [(None, 224, 224, 3)]     0         \n",
      "                                                                 \n",
      " tf.__operators__.getitem (S  (None, 224, 224, 3)      0         \n",
      " licingOpLambda)                                                 \n",
      "                                                                 \n",
      " tf.nn.bias_add (TFOpLambda)  (None, 224, 224, 3)      0         \n",
      "                                                                 \n",
      " vgg16 (Functional)          (None, None, None, 512)   14714688  \n",
      "                                                                 \n",
      " global_average_pooling2d (G  (None, 512)              0         \n",
      " lobalAveragePooling2D)                                          \n",
      "                                                                 \n",
      " dense (Dense)               (None, 128)               65664     \n",
      "                                                                 \n",
      " dense_1 (Dense)             (None, 4)                 516       \n",
      "                                                                 \n",
      "=================================================================\n",
      "Total params: 14,780,868\n",
      "Trainable params: 66,180\n",
      "Non-trainable params: 14,714,688\n",
      "_________________________________________________________________\n"
     ]
    }
   ],
   "source": [
    "model.summary()"
   ]
  },
  {
   "cell_type": "code",
   "execution_count": 27,
   "id": "bac3783f",
   "metadata": {},
   "outputs": [
    {
     "data": {
      "image/png": "[encoded data removed]",
      "text/plain": [
       "<IPython.core.display.Image object>"
      ]
     },
     "execution_count": 27,
     "metadata": {},
     "output_type": "execute_result"
    }
   ],
   "source": [
    "tf.keras.utils.plot_model(model, rankdir='LR')"
   ]
  },
  {
   "cell_type": "code",
   "execution_count": 28,
   "id": "3edfe41d",
   "metadata": {},
   "outputs": [],
   "source": [
    "temp = next(rig)"
   ]
  },
  {
   "cell_type": "code",
   "execution_count": 29,
   "id": "14d475cf",
   "metadata": {},
   "outputs": [
    {
     "data": {
      "text/plain": [
       "array([[ 56,  29, 354, 141],\n",
       "       [ 54,  28, 348, 116],\n",
       "       [ 54,  17, 339, 127],\n",
       "       [ 57,  32, 343, 163],\n",
       "       [ 51,  27, 348,  90],\n",
       "       [ 52,  26, 345,  93],\n",
       "       [ 52,  27, 340, 113],\n",
       "       [ 54,  29, 349, 147],\n",
       "       [ 48,  30, 335, 138],\n",
       "       [ 46,  30, 344,  96],\n",
       "       [ 50,  30, 349, 140],\n",
       "       [ 50,  27, 351, 122],\n",
       "       [ 56,  38, 339, 100],\n",
       "       [ 52,  27, 349, 120],\n",
       "       [ 58,  30, 350, 133],\n",
       "       [ 54,  29, 332, 124],\n",
       "       [ 54,  26, 359, 124],\n",
       "       [ 57,  34, 352, 109],\n",
       "       [ 57,  36, 348, 142],\n",
       "       [ 64,  29, 350, 134],\n",
       "       [ 58,  29, 351,  97],\n",
       "       [ 60,  33, 357, 136],\n",
       "       [ 52,  20, 345, 116],\n",
       "       [ 43,  31, 344, 117],\n",
       "       [ 48,  28, 344, 116],\n",
       "       [ 51,  28, 345, 124],\n",
       "       [ 62,  32, 354, 126],\n",
       "       [ 66,  37, 347, 136],\n",
       "       [ 44,  27, 343, 127],\n",
       "       [ 53,  25, 348, 123],\n",
       "       [ 56,  31, 346, 135],\n",
       "       [ 49,  52, 332, 141]])"
      ]
     },
     "execution_count": 29,
     "metadata": {},
     "output_type": "execute_result"
    }
   ],
   "source": [
    "temp[1]"
   ]
  },
  {
   "cell_type": "code",
   "execution_count": 30,
   "id": "861b41da",
   "metadata": {
    "collapsed": true
   },
   "outputs": [
    {
     "data": {
      "text/plain": [
       "array([[ -56.38383585,  -26.92581081, -351.90184021, -141.11110169],\n",
       "       [ -54.3743335 ,  -25.94344282, -345.94700241, -116.06694156],\n",
       "       [ -54.39934939,  -14.93723774, -336.96593046, -127.08219719],\n",
       "       [ -57.385346  ,  -29.93573689, -340.96046686, -163.07269567],\n",
       "       [ -51.393727  ,  -24.92781806, -345.9256227 ,  -90.11360183],\n",
       "       [ -52.38001573,  -23.9453249 , -342.95323801,  -93.06148297],\n",
       "       [ -52.39965969,  -24.93242383, -337.94289875, -113.08780289],\n",
       "       [ -54.38634133,  -26.91725492, -346.94060588, -147.13520712],\n",
       "       [ -48.41993988,  -27.91870856, -332.97410989, -138.12125772],\n",
       "       [ -46.39498848,  -27.92801142, -341.91682529,  -96.13376263],\n",
       "       [ -50.38537461,  -27.94066787, -346.94728279, -140.06692994],\n",
       "       [ -50.38688052,  -24.93188739, -348.94598317, -122.06827444],\n",
       "       [ -56.38336837,  -35.94723868, -336.94879794, -100.06997526],\n",
       "       [ -52.38028693,  -24.94339895, -346.95658588, -120.06992471],\n",
       "       [ -58.37741381,  -27.94080377, -347.94192076, -133.06600195],\n",
       "       [ -54.3893646 ,  -26.92963624, -329.95514679, -124.11062384],\n",
       "       [ -54.39489698,  -23.93282413, -356.93191791, -124.08716041],\n",
       "       [ -57.37612855,  -31.94030595, -349.94950581, -109.05800468],\n",
       "       [ -57.38926929,  -33.93914509, -345.94167423, -142.07492548],\n",
       "       [ -64.40528035,  -26.92789412, -347.96505427, -134.09602776],\n",
       "       [ -58.37893188,  -26.94068813, -348.94472647,  -97.07336259],\n",
       "       [ -60.37311864,  -30.95637631, -354.94604254, -136.04438472],\n",
       "       [ -52.39563018,  -17.91245365, -342.92767572, -116.11294216],\n",
       "       [ -43.38988453,  -28.90565705, -341.90992355, -117.12336648],\n",
       "       [ -48.37204134,  -25.93838024, -341.95470834, -116.07972765],\n",
       "       [ -51.38468373,  -25.95033455, -342.95255399, -124.05679154],\n",
       "       [ -62.38642246,  -29.94322205, -351.93779683, -126.07096869],\n",
       "       [ -66.35655737,  -34.95575094, -344.9392302 , -136.0432446 ],\n",
       "       [ -44.41924202,  -24.91795015, -340.92508149, -127.12302163],\n",
       "       [ -53.42388099,  -22.91572809, -345.9529283 , -123.12313113],\n",
       "       [ -56.3797375 ,  -28.95698285, -343.9449861 , -135.05625021],\n",
       "       [ -49.41572213,  -49.89358044, -330.00320482, -141.14053494]])"
      ]
     },
     "execution_count": 30,
     "metadata": {},
     "output_type": "execute_result"
    }
   ],
   "source": [
    "model(temp[0]).numpy() - temp[1]"
   ]
  },
  {
   "cell_type": "code",
   "execution_count": 31,
   "id": "729bdea6",
   "metadata": {},
   "outputs": [],
   "source": [
    "model.compile(loss=tf.keras.losses.MSE)"
   ]
  },
  {
   "cell_type": "code",
   "execution_count": 32,
   "id": "2f7573f2",
   "metadata": {},
   "outputs": [
    {
     "name": "stdout",
     "output_type": "stream",
     "text": [
      "Epoch 1/5\n"
     ]
    },
    {
     "name": "stderr",
     "output_type": "stream",
     "text": [
      "2022-08-07 22:10:03.254772: W tensorflow/core/platform/profile_utils/cpu_utils.cc:128] Failed to get CPU frequency: 0 Hz\n",
      "2022-08-07 22:10:03.661173: I tensorflow/core/grappler/optimizers/custom_graph_optimizer_registry.cc:113] Plugin optimizer for device_type GPU is enabled.\n"
     ]
    },
    {
     "name": "stdout",
     "output_type": "stream",
     "text": [
      "25/25 [==============================] - 15s 542ms/step - loss: 33033.6016\n",
      "Epoch 2/5\n",
      "25/25 [==============================] - 13s 529ms/step - loss: 29837.9766\n",
      "Epoch 3/5\n",
      "25/25 [==============================] - 13s 525ms/step - loss: 26341.7500\n",
      "Epoch 4/5\n",
      "25/25 [==============================] - 13s 526ms/step - loss: 22538.5625\n",
      "Epoch 5/5\n",
      "25/25 [==============================] - 13s 528ms/step - loss: 18658.8418\n"
     ]
    },
    {
     "data": {
      "text/plain": [
       "<keras.callbacks.History at 0x1685adc70>"
      ]
     },
     "execution_count": 32,
     "metadata": {},
     "output_type": "execute_result"
    }
   ],
   "source": [
    "model.fit(rig, epochs=5)"
   ]
  },
  {
   "cell_type": "code",
   "execution_count": null,
   "id": "fa5f6900",
   "metadata": {},
   "outputs": [],
   "source": []
  }
 ],
 "metadata": {
  "kernelspec": {
   "display_name": "Python 3.9.0 ('tf')",
   "language": "python",
   "name": "python3"
  },
  "language_info": {
   "codemirror_mode": {
    "name": "ipython",
    "version": 3
   },
   "file_extension": ".py",
   "mimetype": "text/x-python",
   "name": "python",
   "nbconvert_exporter": "python",
   "pygments_lexer": "ipython3",
   "version": "3.9.0"
  },
  "vscode": {
   "interpreter": {
    "hash": "b130afd99c6e58c4d1e2be3e7c74228a56ab51c812d0e38e376f6e66d073defb"
   }
  }
 },
 "nbformat": 4,
 "nbformat_minor": 5
}
