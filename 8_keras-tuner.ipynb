{
 "cells": [
  {
   "cell_type": "code",
   "execution_count": 4,
   "id": "395d4004",
   "metadata": {},
   "outputs": [],
   "source": [
    "import tensorflow as tf"
   ]
  },
  {
   "cell_type": "code",
   "execution_count": 9,
   "id": "7b457b69",
   "metadata": {
    "collapsed": true
   },
   "outputs": [
    {
     "name": "stdout",
     "output_type": "stream",
     "text": [
      "Collecting keras-tuner\n",
      "  Downloading keras_tuner-1.1.3-py3-none-any.whl (135 kB)\n",
      "\u001b[2K     \u001b[90m━━━━━━━━━━━━━━━━━━━━━━━━━━━━━━━━━━━━━━━\u001b[0m \u001b[32m135.7/135.7 kB\u001b[0m \u001b[31m4.2 MB/s\u001b[0m eta \u001b[36m0:00:00\u001b[0m\n",
      "\u001b[?25hRequirement already satisfied: numpy in /Users/hdj/miniforge3/envs/tf/lib/python3.9/site-packages (from keras-tuner) (1.22.4)\n",
      "Requirement already satisfied: ipython in /Users/hdj/miniforge3/envs/tf/lib/python3.9/site-packages (from keras-tuner) (8.4.0)\n",
      "Requirement already satisfied: requests in /Users/hdj/miniforge3/envs/tf/lib/python3.9/site-packages (from keras-tuner) (2.28.1)\n",
      "Collecting kt-legacy\n",
      "  Downloading kt_legacy-1.0.4-py3-none-any.whl (9.6 kB)\n",
      "Requirement already satisfied: tensorboard in /Users/hdj/miniforge3/envs/tf/lib/python3.9/site-packages (from keras-tuner) (2.9.1)\n",
      "Requirement already satisfied: packaging in /Users/hdj/miniforge3/envs/tf/lib/python3.9/site-packages (from keras-tuner) (21.3)\n",
      "Requirement already satisfied: pexpect>4.3 in /Users/hdj/miniforge3/envs/tf/lib/python3.9/site-packages (from ipython->keras-tuner) (4.8.0)\n",
      "Requirement already satisfied: appnope in /Users/hdj/miniforge3/envs/tf/lib/python3.9/site-packages (from ipython->keras-tuner) (0.1.3)\n",
      "Requirement already satisfied: pickleshare in /Users/hdj/miniforge3/envs/tf/lib/python3.9/site-packages (from ipython->keras-tuner) (0.7.5)\n",
      "Requirement already satisfied: matplotlib-inline in /Users/hdj/miniforge3/envs/tf/lib/python3.9/site-packages (from ipython->keras-tuner) (0.1.3)\n",
      "Requirement already satisfied: jedi>=0.16 in /Users/hdj/miniforge3/envs/tf/lib/python3.9/site-packages (from ipython->keras-tuner) (0.18.1)\n",
      "Requirement already satisfied: stack-data in /Users/hdj/miniforge3/envs/tf/lib/python3.9/site-packages (from ipython->keras-tuner) (0.3.0)\n",
      "Requirement already satisfied: prompt-toolkit!=3.0.0,!=3.0.1,<3.1.0,>=2.0.0 in /Users/hdj/miniforge3/envs/tf/lib/python3.9/site-packages (from ipython->keras-tuner) (3.0.30)\n",
      "Requirement already satisfied: pygments>=2.4.0 in /Users/hdj/miniforge3/envs/tf/lib/python3.9/site-packages (from ipython->keras-tuner) (2.12.0)\n",
      "Requirement already satisfied: backcall in /Users/hdj/miniforge3/envs/tf/lib/python3.9/site-packages (from ipython->keras-tuner) (0.2.0)\n",
      "Requirement already satisfied: decorator in /Users/hdj/miniforge3/envs/tf/lib/python3.9/site-packages (from ipython->keras-tuner) (5.1.1)\n",
      "Requirement already satisfied: traitlets>=5 in /Users/hdj/miniforge3/envs/tf/lib/python3.9/site-packages (from ipython->keras-tuner) (5.3.0)\n",
      "Requirement already satisfied: setuptools>=18.5 in /Users/hdj/miniforge3/envs/tf/lib/python3.9/site-packages (from ipython->keras-tuner) (63.3.0)\n",
      "Requirement already satisfied: pyparsing!=3.0.5,>=2.0.2 in /Users/hdj/miniforge3/envs/tf/lib/python3.9/site-packages (from packaging->keras-tuner) (3.0.9)\n",
      "Requirement already satisfied: idna<4,>=2.5 in /Users/hdj/miniforge3/envs/tf/lib/python3.9/site-packages (from requests->keras-tuner) (3.3)\n",
      "Requirement already satisfied: charset-normalizer<3,>=2 in /Users/hdj/miniforge3/envs/tf/lib/python3.9/site-packages (from requests->keras-tuner) (2.1.0)\n",
      "Requirement already satisfied: urllib3<1.27,>=1.21.1 in /Users/hdj/miniforge3/envs/tf/lib/python3.9/site-packages (from requests->keras-tuner) (1.26.11)\n",
      "Requirement already satisfied: certifi>=2017.4.17 in /Users/hdj/miniforge3/envs/tf/lib/python3.9/site-packages (from requests->keras-tuner) (2022.6.15)\n",
      "Requirement already satisfied: tensorboard-data-server<0.7.0,>=0.6.0 in /Users/hdj/miniforge3/envs/tf/lib/python3.9/site-packages (from tensorboard->keras-tuner) (0.6.1)\n",
      "Requirement already satisfied: tensorboard-plugin-wit>=1.6.0 in /Users/hdj/miniforge3/envs/tf/lib/python3.9/site-packages (from tensorboard->keras-tuner) (1.8.1)\n",
      "Requirement already satisfied: grpcio>=1.24.3 in /Users/hdj/miniforge3/envs/tf/lib/python3.9/site-packages (from tensorboard->keras-tuner) (1.48.0)\n",
      "Requirement already satisfied: markdown>=2.6.8 in /Users/hdj/miniforge3/envs/tf/lib/python3.9/site-packages (from tensorboard->keras-tuner) (3.4.1)\n",
      "Requirement already satisfied: werkzeug>=1.0.1 in /Users/hdj/miniforge3/envs/tf/lib/python3.9/site-packages (from tensorboard->keras-tuner) (2.2.1)\n",
      "Requirement already satisfied: google-auth<3,>=1.6.3 in /Users/hdj/miniforge3/envs/tf/lib/python3.9/site-packages (from tensorboard->keras-tuner) (2.9.1)\n",
      "Requirement already satisfied: wheel>=0.26 in /Users/hdj/miniforge3/envs/tf/lib/python3.9/site-packages (from tensorboard->keras-tuner) (0.37.1)\n",
      "Collecting protobuf<3.20,>=3.9.2\n",
      "  Downloading protobuf-3.19.6-py2.py3-none-any.whl (162 kB)\n",
      "\u001b[2K     \u001b[90m━━━━━━━━━━━━━━━━━━━━━━━━━━━━━━━━━━━━━━━\u001b[0m \u001b[32m162.6/162.6 kB\u001b[0m \u001b[31m5.4 MB/s\u001b[0m eta \u001b[36m0:00:00\u001b[0m\n",
      "\u001b[?25hRequirement already satisfied: absl-py>=0.4 in /Users/hdj/miniforge3/envs/tf/lib/python3.9/site-packages (from tensorboard->keras-tuner) (1.2.0)\n",
      "Requirement already satisfied: google-auth-oauthlib<0.5,>=0.4.1 in /Users/hdj/miniforge3/envs/tf/lib/python3.9/site-packages (from tensorboard->keras-tuner) (0.4.6)\n",
      "Requirement already satisfied: cachetools<6.0,>=2.0.0 in /Users/hdj/miniforge3/envs/tf/lib/python3.9/site-packages (from google-auth<3,>=1.6.3->tensorboard->keras-tuner) (5.2.0)\n",
      "Requirement already satisfied: six>=1.9.0 in /Users/hdj/miniforge3/envs/tf/lib/python3.9/site-packages (from google-auth<3,>=1.6.3->tensorboard->keras-tuner) (1.16.0)\n",
      "Requirement already satisfied: rsa<5,>=3.1.4 in /Users/hdj/miniforge3/envs/tf/lib/python3.9/site-packages (from google-auth<3,>=1.6.3->tensorboard->keras-tuner) (4.9)\n",
      "Requirement already satisfied: pyasn1-modules>=0.2.1 in /Users/hdj/miniforge3/envs/tf/lib/python3.9/site-packages (from google-auth<3,>=1.6.3->tensorboard->keras-tuner) (0.2.8)\n",
      "Requirement already satisfied: requests-oauthlib>=0.7.0 in /Users/hdj/miniforge3/envs/tf/lib/python3.9/site-packages (from google-auth-oauthlib<0.5,>=0.4.1->tensorboard->keras-tuner) (1.3.1)\n",
      "Requirement already satisfied: parso<0.9.0,>=0.8.0 in /Users/hdj/miniforge3/envs/tf/lib/python3.9/site-packages (from jedi>=0.16->ipython->keras-tuner) (0.8.3)\n",
      "Requirement already satisfied: importlib-metadata>=4.4 in /Users/hdj/miniforge3/envs/tf/lib/python3.9/site-packages (from markdown>=2.6.8->tensorboard->keras-tuner) (4.12.0)\n",
      "Requirement already satisfied: ptyprocess>=0.5 in /Users/hdj/miniforge3/envs/tf/lib/python3.9/site-packages (from pexpect>4.3->ipython->keras-tuner) (0.7.0)\n",
      "Requirement already satisfied: wcwidth in /Users/hdj/miniforge3/envs/tf/lib/python3.9/site-packages (from prompt-toolkit!=3.0.0,!=3.0.1,<3.1.0,>=2.0.0->ipython->keras-tuner) (0.2.5)\n",
      "Requirement already satisfied: MarkupSafe>=2.1.1 in /Users/hdj/miniforge3/envs/tf/lib/python3.9/site-packages (from werkzeug>=1.0.1->tensorboard->keras-tuner) (2.1.1)\n",
      "Requirement already satisfied: pure-eval in /Users/hdj/miniforge3/envs/tf/lib/python3.9/site-packages (from stack-data->ipython->keras-tuner) (0.2.2)\n",
      "Requirement already satisfied: asttokens in /Users/hdj/miniforge3/envs/tf/lib/python3.9/site-packages (from stack-data->ipython->keras-tuner) (2.0.5)\n",
      "Requirement already satisfied: executing in /Users/hdj/miniforge3/envs/tf/lib/python3.9/site-packages (from stack-data->ipython->keras-tuner) (0.9.1)\n",
      "Requirement already satisfied: zipp>=0.5 in /Users/hdj/miniforge3/envs/tf/lib/python3.9/site-packages (from importlib-metadata>=4.4->markdown>=2.6.8->tensorboard->keras-tuner) (3.8.1)\n",
      "Requirement already satisfied: pyasn1<0.5.0,>=0.4.6 in /Users/hdj/miniforge3/envs/tf/lib/python3.9/site-packages (from pyasn1-modules>=0.2.1->google-auth<3,>=1.6.3->tensorboard->keras-tuner) (0.4.8)\n",
      "Requirement already satisfied: oauthlib>=3.0.0 in /Users/hdj/miniforge3/envs/tf/lib/python3.9/site-packages (from requests-oauthlib>=0.7.0->google-auth-oauthlib<0.5,>=0.4.1->tensorboard->keras-tuner) (3.2.0)\n",
      "Installing collected packages: kt-legacy, protobuf, keras-tuner\n",
      "  Attempting uninstall: protobuf\n",
      "    Found existing installation: protobuf 3.20.1\n",
      "    Uninstalling protobuf-3.20.1:\n",
      "      Successfully uninstalled protobuf-3.20.1\n",
      "Successfully installed keras-tuner-1.1.3 kt-legacy-1.0.4 protobuf-3.19.6\n"
     ]
    }
   ],
   "source": [
    "# !pip install -U keras-tuner"
   ]
  },
  {
   "cell_type": "code",
   "execution_count": 10,
   "id": "a2d87e0b",
   "metadata": {},
   "outputs": [],
   "source": [
    "import keras_tuner"
   ]
  },
  {
   "cell_type": "code",
   "execution_count": null,
   "id": "923c3df9",
   "metadata": {},
   "outputs": [],
   "source": [
    "keras_tuner.oracles."
   ]
  },
  {
   "cell_type": "code",
   "execution_count": 11,
   "id": "62e53cd5",
   "metadata": {
    "collapsed": true
   },
   "outputs": [
    {
     "data": {
      "text/plain": [
       "['BayesianOptimization',\n",
       " 'CloudLogger',\n",
       " 'HyperModel',\n",
       " 'HyperParameter',\n",
       " 'HyperParameters',\n",
       " 'Hyperband',\n",
       " 'Logger',\n",
       " 'Objective',\n",
       " 'Oracle',\n",
       " 'RandomSearch',\n",
       " 'SklearnTuner',\n",
       " 'Tuner',\n",
       " '__builtins__',\n",
       " '__cached__',\n",
       " '__doc__',\n",
       " '__file__',\n",
       " '__loader__',\n",
       " '__name__',\n",
       " '__package__',\n",
       " '__path__',\n",
       " '__spec__',\n",
       " '__version__',\n",
       " 'applications',\n",
       " 'check_tf_version',\n",
       " 'config',\n",
       " 'distribute',\n",
       " 'engine',\n",
       " 'oracles',\n",
       " 'protos',\n",
       " 'tuners',\n",
       " 'utils']"
      ]
     },
     "execution_count": 11,
     "metadata": {},
     "output_type": "execute_result"
    }
   ],
   "source": [
    "dir(keras_tuner)"
   ]
  },
  {
   "cell_type": "code",
   "execution_count": 16,
   "id": "90c8e1c1",
   "metadata": {},
   "outputs": [],
   "source": [
    "(X_train, y_train),(X_test,y_test) = tf.keras.datasets.mnist.load_data()"
   ]
  },
  {
   "cell_type": "code",
   "execution_count": 34,
   "id": "f036be64",
   "metadata": {},
   "outputs": [],
   "source": [
    "def build_model(hp):\n",
    "    model = tf.keras.models.Sequential([\n",
    "        tf.keras.layers.Flatten(input_shape=(28,28)),\n",
    "        tf.keras.layers.Dense(hp.Choice('unit1',[64,128,256]), activation='relu'),\n",
    "        tf.keras.layers.Dense(hp.Choice('unit2',[64,128,256]), activation='relu'),\n",
    "        tf.keras.layers.Dense(10)\n",
    "    ])\n",
    "    model.compile(loss=tf.keras.losses.SparseCategoricalCrossentropy(from_logits=True))\n",
    "    return model"
   ]
  },
  {
   "cell_type": "code",
   "execution_count": 35,
   "id": "e708de04",
   "metadata": {},
   "outputs": [],
   "source": [
    "# keras_tuner.SklearnTuner"
   ]
  },
  {
   "cell_type": "code",
   "execution_count": 36,
   "id": "ebf6c84f",
   "metadata": {},
   "outputs": [],
   "source": [
    "tuner = keras_tuner.RandomSearch(build_model, objective='loss') # 방식"
   ]
  },
  {
   "cell_type": "code",
   "execution_count": 37,
   "id": "021545cd",
   "metadata": {},
   "outputs": [
    {
     "name": "stdout",
     "output_type": "stream",
     "text": [
      "Trial 9 Complete [00h 00m 16s]\n",
      "loss: 0.4130081534385681\n",
      "\n",
      "Best loss So Far: 0.3771733045578003\n",
      "Total elapsed time: 00h 02m 23s\n",
      "INFO:tensorflow:Oracle triggered exit\n"
     ]
    }
   ],
   "source": [
    "tuner.search(X_train, y_train, epochs=2) # fit"
   ]
  },
  {
   "cell_type": "code",
   "execution_count": 38,
   "id": "f4488716",
   "metadata": {},
   "outputs": [
    {
     "data": {
      "text/plain": [
       "{'unit1': 128, 'unit2': 256}"
      ]
     },
     "execution_count": 38,
     "metadata": {},
     "output_type": "execute_result"
    }
   ],
   "source": [
    "tuner.get_best_hyperparameters()[0].values"
   ]
  },
  {
   "cell_type": "code",
   "execution_count": 39,
   "id": "b3048ca3",
   "metadata": {},
   "outputs": [
    {
     "name": "stdout",
     "output_type": "stream",
     "text": [
      "Model: \"sequential\"\n",
      "_________________________________________________________________\n",
      " Layer (type)                Output Shape              Param #   \n",
      "=================================================================\n",
      " flatten (Flatten)           (None, 784)               0         \n",
      "                                                                 \n",
      " dense (Dense)               (None, 128)               100480    \n",
      "                                                                 \n",
      " dense_1 (Dense)             (None, 256)               33024     \n",
      "                                                                 \n",
      " dense_2 (Dense)             (None, 10)                2570      \n",
      "                                                                 \n",
      "=================================================================\n",
      "Total params: 136,074\n",
      "Trainable params: 136,074\n",
      "Non-trainable params: 0\n",
      "_________________________________________________________________\n",
      "WARNING:tensorflow:Detecting that an object or model or tf.train.Checkpoint is being deleted with unrestored values. See the following logs for the specific values in question. To silence these warnings, use `status.expect_partial()`. See https://www.tensorflow.org/api_docs/python/tf/train/Checkpoint#restorefor details about the status object returned by the restore function.\n",
      "WARNING:tensorflow:Value in checkpoint could not be found in the restored object: (root).optimizer.iter\n",
      "WARNING:tensorflow:Value in checkpoint could not be found in the restored object: (root).optimizer.decay\n",
      "WARNING:tensorflow:Value in checkpoint could not be found in the restored object: (root).optimizer.learning_rate\n",
      "WARNING:tensorflow:Value in checkpoint could not be found in the restored object: (root).optimizer.momentum\n",
      "WARNING:tensorflow:Value in checkpoint could not be found in the restored object: (root).optimizer.rho\n"
     ]
    }
   ],
   "source": [
    "tuner.get_best_models()[0].summary()"
   ]
  },
  {
   "cell_type": "code",
   "execution_count": null,
   "id": "70ba65d8",
   "metadata": {},
   "outputs": [],
   "source": []
  },
  {
   "cell_type": "code",
   "execution_count": 12,
   "id": "d9cd7134",
   "metadata": {},
   "outputs": [],
   "source": [
    "from sklearn.model_selection import GridSearchCV, RandomizedSearchCV\n",
    "def build_modelCV(p=128):\n",
    "    model = tf.keras.models.Sequential([\n",
    "        tf.keras.layers.Dense(p, input_shape=(28*28,)),\n",
    "        tf.keras.layers.Dense(10)\n",
    "    ])\n",
    "    model.compile(loss=tf.keras.losses.SparseCategoricalCrossentropy(from_logits=True))\n",
    "    return model\n",
    "model = build_model()\n",
    "\n",
    "grid = GridSearchCV(model, {'p':[64,128,256]})"
   ]
  },
  {
   "cell_type": "code",
   "execution_count": null,
   "id": "6d18b549",
   "metadata": {},
   "outputs": [],
   "source": []
  }
 ],
 "metadata": {
  "kernelspec": {
   "display_name": "tensorflow_gpu_mac",
   "language": "python",
   "name": "tf"
  },
  "language_info": {
   "codemirror_mode": {
    "name": "ipython",
    "version": 3
   },
   "file_extension": ".py",
   "mimetype": "text/x-python",
   "name": "python",
   "nbconvert_exporter": "python",
   "pygments_lexer": "ipython3",
   "version": "3.9.13"
  }
 },
 "nbformat": 4,
 "nbformat_minor": 5
}
