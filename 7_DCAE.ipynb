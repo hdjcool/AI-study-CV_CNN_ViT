{
 "cells": [
  {
   "cell_type": "code",
   "execution_count": 1,
   "id": "86f17322",
   "metadata": {},
   "outputs": [],
   "source": [
    "import tensorflow as tf"
   ]
  },
  {
   "cell_type": "code",
   "execution_count": 27,
   "id": "10e32dd3",
   "metadata": {},
   "outputs": [],
   "source": [
    "(X_train,_),(X_test,_) = tf.keras.datasets.mnist.load_data()"
   ]
  },
  {
   "cell_type": "code",
   "execution_count": 28,
   "id": "2a786d0a",
   "metadata": {},
   "outputs": [],
   "source": [
    "X_train = X_train.reshape(-1,28*28) / 255\n",
    "X_test = X_test.reshape(-1,28*28) / 255"
   ]
  },
  {
   "cell_type": "markdown",
   "id": "ee63ead7",
   "metadata": {},
   "source": [
    "# autoencoder"
   ]
  },
  {
   "cell_type": "code",
   "execution_count": 189,
   "id": "6a2f8fa6",
   "metadata": {},
   "outputs": [],
   "source": [
    "input_ = tf.keras.Input((28*28,)) # representaion bottleneck"
   ]
  },
  {
   "cell_type": "markdown",
   "id": "a38a161e",
   "metadata": {},
   "source": [
    "## encoder"
   ]
  },
  {
   "cell_type": "code",
   "execution_count": 190,
   "id": "f9c571c9",
   "metadata": {},
   "outputs": [],
   "source": [
    "x = tf.keras.layers.Dense(512, activation='relu')(input_)\n",
    "x = tf.keras.layers.Dense(256, activation='relu')(x)\n",
    "x = tf.keras.layers.Dense(128, activation='relu')(x)\n",
    "x = tf.keras.layers.Dense(32, activation='relu')(x)"
   ]
  },
  {
   "cell_type": "markdown",
   "id": "46517061",
   "metadata": {},
   "source": [
    "## decoder"
   ]
  },
  {
   "cell_type": "code",
   "execution_count": 191,
   "id": "c65dc0b2",
   "metadata": {},
   "outputs": [],
   "source": [
    "x = tf.keras.layers.Dense(128, activation='relu')(x)\n",
    "x = tf.keras.layers.Dense(256, activation='relu')(x)\n",
    "x = tf.keras.layers.Dense(512, activation='relu')(x)\n",
    "x = tf.keras.layers.Dense(784, activation='sigmoid')(x)"
   ]
  },
  {
   "cell_type": "code",
   "execution_count": 192,
   "id": "eeb93b23",
   "metadata": {},
   "outputs": [],
   "source": [
    "autoencoder = tf.keras.Model(input_, x)"
   ]
  },
  {
   "cell_type": "code",
   "execution_count": 193,
   "id": "a6116b6d",
   "metadata": {
    "collapsed": true
   },
   "outputs": [
    {
     "name": "stdout",
     "output_type": "stream",
     "text": [
      "Epoch 1/50\n",
      "1875/1875 [==============================] - 8s 4ms/step - loss: 0.1596\n",
      "Epoch 2/50\n",
      "1875/1875 [==============================] - 8s 4ms/step - loss: 0.1231\n",
      "Epoch 3/50\n",
      "1875/1875 [==============================] - 8s 4ms/step - loss: 0.1141\n",
      "Epoch 4/50\n",
      "1875/1875 [==============================] - 8s 4ms/step - loss: 0.1094\n",
      "Epoch 5/50\n",
      "1875/1875 [==============================] - 8s 4ms/step - loss: 0.1064\n",
      "Epoch 6/50\n",
      "1875/1875 [==============================] - 8s 4ms/step - loss: 0.1042\n",
      "Epoch 7/50\n",
      "1875/1875 [==============================] - 8s 4ms/step - loss: 0.1026\n",
      "Epoch 8/50\n",
      "1875/1875 [==============================] - 8s 4ms/step - loss: 0.1013\n",
      "Epoch 9/50\n",
      "1875/1875 [==============================] - 8s 4ms/step - loss: 0.1002\n",
      "Epoch 10/50\n",
      "1875/1875 [==============================] - 8s 4ms/step - loss: 0.0993\n",
      "Epoch 11/50\n",
      "1875/1875 [==============================] - 8s 4ms/step - loss: 0.0986\n",
      "Epoch 12/50\n",
      "1875/1875 [==============================] - 8s 4ms/step - loss: 0.0980\n",
      "Epoch 13/50\n",
      "1875/1875 [==============================] - 8s 4ms/step - loss: 0.0974\n",
      "Epoch 14/50\n",
      "1875/1875 [==============================] - 8s 4ms/step - loss: 0.0969\n",
      "Epoch 15/50\n",
      "1875/1875 [==============================] - 8s 4ms/step - loss: 0.0965\n",
      "Epoch 16/50\n",
      "1875/1875 [==============================] - 8s 4ms/step - loss: 0.0960\n",
      "Epoch 17/50\n",
      "1875/1875 [==============================] - 8s 4ms/step - loss: 0.0956\n",
      "Epoch 18/50\n",
      "1875/1875 [==============================] - 8s 4ms/step - loss: 0.0953\n",
      "Epoch 19/50\n",
      "1875/1875 [==============================] - 8s 4ms/step - loss: 0.0950\n",
      "Epoch 20/50\n",
      "1875/1875 [==============================] - 8s 4ms/step - loss: 0.0947\n",
      "Epoch 21/50\n",
      "1875/1875 [==============================] - 8s 4ms/step - loss: 0.0945\n",
      "Epoch 22/50\n",
      "1875/1875 [==============================] - 8s 4ms/step - loss: 0.0942\n",
      "Epoch 23/50\n",
      "1875/1875 [==============================] - 8s 4ms/step - loss: 0.0940\n",
      "Epoch 24/50\n",
      "1875/1875 [==============================] - 8s 4ms/step - loss: 0.0938\n",
      "Epoch 25/50\n",
      "1875/1875 [==============================] - 8s 4ms/step - loss: 0.0935\n",
      "Epoch 26/50\n",
      "1875/1875 [==============================] - 8s 4ms/step - loss: 0.0932\n",
      "Epoch 27/50\n",
      "1875/1875 [==============================] - 8s 4ms/step - loss: 0.0931\n",
      "Epoch 28/50\n",
      "1875/1875 [==============================] - 8s 4ms/step - loss: 0.0929\n",
      "Epoch 29/50\n",
      "1875/1875 [==============================] - 8s 4ms/step - loss: 0.0927\n",
      "Epoch 30/50\n",
      "1875/1875 [==============================] - 8s 4ms/step - loss: 0.0925\n",
      "Epoch 31/50\n",
      "1875/1875 [==============================] - 8s 4ms/step - loss: 0.0924\n",
      "Epoch 32/50\n",
      "1875/1875 [==============================] - 8s 4ms/step - loss: 0.0922\n",
      "Epoch 33/50\n",
      "1875/1875 [==============================] - 8s 4ms/step - loss: 0.0921\n",
      "Epoch 34/50\n",
      "1875/1875 [==============================] - 8s 4ms/step - loss: 0.0919\n",
      "Epoch 35/50\n",
      "1875/1875 [==============================] - 8s 4ms/step - loss: 0.0918\n",
      "Epoch 36/50\n",
      "1875/1875 [==============================] - 8s 4ms/step - loss: 0.0917\n",
      "Epoch 37/50\n",
      "1875/1875 [==============================] - 8s 4ms/step - loss: 0.0915\n",
      "Epoch 38/50\n",
      "1875/1875 [==============================] - 8s 4ms/step - loss: 0.0914\n",
      "Epoch 39/50\n",
      "1875/1875 [==============================] - 8s 4ms/step - loss: 0.0913\n",
      "Epoch 40/50\n",
      "1659/1875 [=========================>....] - ETA: 0s - loss: 0.0912"
     ]
    },
    {
     "name": "stderr",
     "output_type": "stream",
     "text": [
      "\n",
      "KeyboardInterrupt\n",
      "\n"
     ]
    }
   ],
   "source": [
    "autoencoder.compile(loss=tf.keras.losses.BinaryCrossentropy())\n",
    "autoencoder.fit(X_train, X_train, epochs=50)"
   ]
  },
  {
   "cell_type": "code",
   "execution_count": 35,
   "id": "0f1ca7a8",
   "metadata": {},
   "outputs": [],
   "source": [
    "result = autoencoder(X_test)"
   ]
  },
  {
   "cell_type": "markdown",
   "id": "a1892f6e",
   "metadata": {},
   "source": [
    "# expert"
   ]
  },
  {
   "cell_type": "code",
   "execution_count": 225,
   "id": "7467da22",
   "metadata": {},
   "outputs": [],
   "source": [
    "(X_train,_),(X_test,_) = tf.keras.datasets.mnist.load_data()"
   ]
  },
  {
   "cell_type": "code",
   "execution_count": 241,
   "id": "22a43d87",
   "metadata": {},
   "outputs": [],
   "source": [
    "X_train = X_train / 255\n",
    "X_test = X_test / 255"
   ]
  },
  {
   "cell_type": "code",
   "execution_count": 254,
   "id": "a5999982",
   "metadata": {},
   "outputs": [],
   "source": [
    "X_train_noise = X_train + tf.random.normal((28,28))/10"
   ]
  },
  {
   "cell_type": "code",
   "execution_count": 255,
   "id": "58b03235",
   "metadata": {},
   "outputs": [
    {
     "data": {
      "text/plain": [
       "<matplotlib.image.AxesImage at 0x1a694b12070>"
      ]
     },
     "execution_count": 255,
     "metadata": {},
     "output_type": "execute_result"
    },
    {
     "data": {
      "image/png": "[encoded data removed]",
      "text/plain": [
       "<Figure size 432x288 with 1 Axes>"
      ]
     },
     "metadata": {
      "needs_background": "light"
     },
     "output_type": "display_data"
    }
   ],
   "source": [
    "plt.imshow(X_train_noise[0], cmap='gray')"
   ]
  },
  {
   "cell_type": "code",
   "execution_count": 264,
   "id": "2cdda2d5",
   "metadata": {},
   "outputs": [],
   "source": [
    "class AE(tf.keras.Model):\n",
    "    def __init__(self, latent_dim):\n",
    "        super().__init__(self)\n",
    "        self.latent_dim = latent_dim\n",
    "        self.encoder = tf.keras.Sequential([\n",
    "            tf.keras.layers.Flatten(),\n",
    "            tf.keras.layers.Dense(256, activation='relu'),\n",
    "            tf.keras.layers.Dense(self.latent_dim, activation='relu')\n",
    "        ])\n",
    "        self.decoder = tf.keras.Sequential([\n",
    "            tf.keras.layers.Dense(256, activation='relu'),\n",
    "            tf.keras.layers.Dense(28*28, activation='sigmoid'),\n",
    "            tf.keras.layers.Reshape((28,28))\n",
    "        ])\n",
    "        \n",
    "    def call(self, x):\n",
    "        x = self.encoder(x)\n",
    "        return self.decoder(x)\n",
    "#         return "
   ]
  },
  {
   "cell_type": "code",
   "execution_count": 265,
   "id": "ee8d94c4",
   "metadata": {},
   "outputs": [],
   "source": [
    "ae = AE(32)"
   ]
  },
  {
   "cell_type": "code",
   "execution_count": 266,
   "id": "0ecc48fc",
   "metadata": {},
   "outputs": [],
   "source": [
    "ae.compile(loss=tf.keras.losses.MSE)"
   ]
  },
  {
   "cell_type": "markdown",
   "id": "eb6d3fed",
   "metadata": {},
   "source": [
    "# model (mse, sigmoid)\n",
    "# compile (loss)"
   ]
  },
  {
   "cell_type": "code",
   "execution_count": 267,
   "id": "b518888f",
   "metadata": {},
   "outputs": [
    {
     "name": "stdout",
     "output_type": "stream",
     "text": [
      "Epoch 1/10\n",
      "1875/1875 [==============================] - 5s 3ms/step - loss: 0.0209\n",
      "Epoch 2/10\n",
      "1875/1875 [==============================] - 5s 2ms/step - loss: 0.0114\n",
      "Epoch 3/10\n",
      "1875/1875 [==============================] - 5s 2ms/step - loss: 0.0096\n",
      "Epoch 4/10\n",
      "1875/1875 [==============================] - 5s 2ms/step - loss: 0.0087\n",
      "Epoch 5/10\n",
      "1875/1875 [==============================] - 5s 2ms/step - loss: 0.0081\n",
      "Epoch 6/10\n",
      "1875/1875 [==============================] - 5s 2ms/step - loss: 0.0077\n",
      "Epoch 7/10\n",
      "1875/1875 [==============================] - 4s 2ms/step - loss: 0.0075\n",
      "Epoch 8/10\n",
      "1875/1875 [==============================] - 4s 2ms/step - loss: 0.0073\n",
      "Epoch 9/10\n",
      "1875/1875 [==============================] - 4s 2ms/step - loss: 0.0071\n",
      "Epoch 10/10\n",
      "1875/1875 [==============================] - 4s 2ms/step - loss: 0.0070\n"
     ]
    },
    {
     "data": {
      "text/plain": [
       "<keras.callbacks.History at 0x1a694c37cd0>"
      ]
     },
     "execution_count": 267,
     "metadata": {},
     "output_type": "execute_result"
    }
   ],
   "source": [
    "ae.fit(X_train_noise,X_train, epochs=10)"
   ]
  },
  {
   "cell_type": "code",
   "execution_count": 268,
   "id": "018ee799",
   "metadata": {},
   "outputs": [],
   "source": [
    "result = ae(X_train_noise)"
   ]
  },
  {
   "cell_type": "code",
   "execution_count": 262,
   "id": "e51adb86",
   "metadata": {},
   "outputs": [
    {
     "data": {
      "text/plain": [
       "<matplotlib.image.AxesImage at 0x1a694ab96d0>"
      ]
     },
     "execution_count": 262,
     "metadata": {},
     "output_type": "execute_result"
    },
    {
     "data": {
      "image/png": "[encoded data removed]",
      "text/plain": [
       "<Figure size 432x288 with 1 Axes>"
      ]
     },
     "metadata": {
      "needs_background": "light"
     },
     "output_type": "display_data"
    }
   ],
   "source": [
    "plt.imshow(X_train_noise[0], cmap='gray')"
   ]
  },
  {
   "cell_type": "code",
   "execution_count": 269,
   "id": "cd08f106",
   "metadata": {},
   "outputs": [
    {
     "data": {
      "text/plain": [
       "<matplotlib.image.AxesImage at 0x1a694e5c490>"
      ]
     },
     "execution_count": 269,
     "metadata": {},
     "output_type": "execute_result"
    },
    {
     "data": {
      "image/png": "[encoded data removed]",
      "text/plain": [
       "<Figure size 432x288 with 1 Axes>"
      ]
     },
     "metadata": {
      "needs_background": "light"
     },
     "output_type": "display_data"
    }
   ],
   "source": [
    "plt.imshow(result[0], cmap='gray')"
   ]
  },
  {
   "cell_type": "code",
   "execution_count": 263,
   "id": "578dd732",
   "metadata": {},
   "outputs": [
    {
     "data": {
      "text/plain": [
       "<matplotlib.image.AxesImage at 0x1a694b83e50>"
      ]
     },
     "execution_count": 263,
     "metadata": {},
     "output_type": "execute_result"
    },
    {
     "data": {
      "image/png": "[encoded data removed]",
      "text/plain": [
       "<Figure size 432x288 with 1 Axes>"
      ]
     },
     "metadata": {
      "needs_background": "light"
     },
     "output_type": "display_data"
    }
   ],
   "source": [
    "plt.imshow(result[0], cmap='gray')"
   ]
  },
  {
   "cell_type": "code",
   "execution_count": 215,
   "id": "bcaeb31d",
   "metadata": {},
   "outputs": [
    {
     "data": {
      "text/plain": [
       "<matplotlib.image.AxesImage at 0x1a6a2902910>"
      ]
     },
     "execution_count": 215,
     "metadata": {},
     "output_type": "execute_result"
    },
    {
     "data": {
      "image/png": "[encoded data removed]",
      "text/plain": [
       "<Figure size 432x288 with 1 Axes>"
      ]
     },
     "metadata": {
      "needs_background": "light"
     },
     "output_type": "display_data"
    }
   ],
   "source": [
    "plt.imshow(result[0], cmap='gray') # mse"
   ]
  },
  {
   "cell_type": "code",
   "execution_count": 198,
   "id": "cbe036f9",
   "metadata": {},
   "outputs": [
    {
     "data": {
      "text/plain": [
       "<keras.engine.sequential.Sequential at 0x1a69d1d9700>"
      ]
     },
     "execution_count": 198,
     "metadata": {},
     "output_type": "execute_result"
    }
   ],
   "source": [
    "ae.decoder"
   ]
  },
  {
   "cell_type": "code",
   "execution_count": null,
   "id": "2382f05a",
   "metadata": {},
   "outputs": [],
   "source": []
  },
  {
   "cell_type": "code",
   "execution_count": null,
   "id": "8a82bc99",
   "metadata": {},
   "outputs": [],
   "source": []
  },
  {
   "cell_type": "code",
   "execution_count": 37,
   "id": "62a9975d",
   "metadata": {},
   "outputs": [],
   "source": [
    "import matplotlib.pyplot as plt"
   ]
  },
  {
   "cell_type": "code",
   "execution_count": 43,
   "id": "f59c0a21",
   "metadata": {},
   "outputs": [
    {
     "data": {
      "text/plain": [
       "<matplotlib.image.AxesImage at 0x1a67edcee80>"
      ]
     },
     "execution_count": 43,
     "metadata": {},
     "output_type": "execute_result"
    },
    {
     "data": {
      "image/png": "[encoded data removed]",
      "text/plain": [
       "<Figure size 432x288 with 1 Axes>"
      ]
     },
     "metadata": {
      "needs_background": "light"
     },
     "output_type": "display_data"
    }
   ],
   "source": [
    "plt.imshow(X_test[1].reshape(28,28), cmap='gray')"
   ]
  },
  {
   "cell_type": "code",
   "execution_count": 44,
   "id": "06ad00c4",
   "metadata": {},
   "outputs": [
    {
     "data": {
      "text/plain": [
       "<matplotlib.image.AxesImage at 0x1a67ee36820>"
      ]
     },
     "execution_count": 44,
     "metadata": {},
     "output_type": "execute_result"
    },
    {
     "data": {
      "image/png": "[encoded data removed]",
      "text/plain": [
       "<Figure size 432x288 with 1 Axes>"
      ]
     },
     "metadata": {
      "needs_background": "light"
     },
     "output_type": "display_data"
    }
   ],
   "source": [
    "plt.imshow(result[1].numpy().reshape(28,28), cmap='gray')"
   ]
  },
  {
   "cell_type": "markdown",
   "id": "a365c116",
   "metadata": {},
   "source": [
    "# regularizer"
   ]
  },
  {
   "cell_type": "code",
   "execution_count": 86,
   "id": "ccc33098",
   "metadata": {},
   "outputs": [],
   "source": [
    "import numpy as np"
   ]
  },
  {
   "cell_type": "code",
   "execution_count": 175,
   "id": "ce0a383d",
   "metadata": {},
   "outputs": [],
   "source": [
    "aa = np.array([[1,2,3],\n",
    "               [4,5,6]])"
   ]
  },
  {
   "cell_type": "code",
   "execution_count": 176,
   "id": "fb7144b5",
   "metadata": {},
   "outputs": [],
   "source": [
    "layer = tf.keras.layers.Dense(1, activation='relu', kernel_regularizer=tf.keras.regularizers.L1())"
   ]
  },
  {
   "cell_type": "code",
   "execution_count": 177,
   "id": "af02f443",
   "metadata": {},
   "outputs": [
    {
     "data": {
      "text/plain": [
       "[]"
      ]
     },
     "execution_count": 177,
     "metadata": {},
     "output_type": "execute_result"
    }
   ],
   "source": [
    "layer.weights"
   ]
  },
  {
   "cell_type": "code",
   "execution_count": 178,
   "id": "7d9707be",
   "metadata": {},
   "outputs": [
    {
     "data": {
      "text/plain": [
       "<tf.Tensor: shape=(2, 1), dtype=float32, numpy=\n",
       "array([[1.0031571],\n",
       "       [3.252214 ]], dtype=float32)>"
      ]
     },
     "execution_count": 178,
     "metadata": {},
     "output_type": "execute_result"
    }
   ],
   "source": [
    "layer(aa)"
   ]
  },
  {
   "cell_type": "code",
   "execution_count": 179,
   "id": "e05a740b",
   "metadata": {},
   "outputs": [
    {
     "data": {
      "text/plain": [
       "[<tf.Variable 'dense_34/kernel:0' shape=(3, 1) dtype=float32, numpy=\n",
       " array([[ 0.01702106],\n",
       "        [ 1.2118572 ],\n",
       "        [-0.47919273]], dtype=float32)>,\n",
       " <tf.Variable 'dense_34/bias:0' shape=(1,) dtype=float32, numpy=array([0.], dtype=float32)>]"
      ]
     },
     "execution_count": 179,
     "metadata": {},
     "output_type": "execute_result"
    }
   ],
   "source": [
    "layer.weights"
   ]
  },
  {
   "cell_type": "code",
   "execution_count": 180,
   "id": "615181c5",
   "metadata": {},
   "outputs": [
    {
     "data": {
      "text/plain": [
       "1.0031572580337524"
      ]
     },
     "execution_count": 180,
     "metadata": {},
     "output_type": "execute_result"
    }
   ],
   "source": [
    "np.sum(aa[0]*layer.weights[0].numpy().T)"
   ]
  },
  {
   "cell_type": "code",
   "execution_count": 181,
   "id": "3af7d469",
   "metadata": {},
   "outputs": [
    {
     "data": {
      "text/plain": [
       "[<tf.Tensor: shape=(), dtype=float32, numpy=0.01708071>]"
      ]
     },
     "execution_count": 181,
     "metadata": {},
     "output_type": "execute_result"
    }
   ],
   "source": [
    "layer.losses"
   ]
  },
  {
   "cell_type": "code",
   "execution_count": 184,
   "id": "7ddd176f",
   "metadata": {},
   "outputs": [
    {
     "data": {
      "text/plain": [
       "<tf.Tensor: shape=(), dtype=float32, numpy=0.01708071>"
      ]
     },
     "execution_count": 184,
     "metadata": {},
     "output_type": "execute_result"
    }
   ],
   "source": [
    "tf.reduce_sum(tf.abs(layer.weights[0]) * 0.01)"
   ]
  },
  {
   "cell_type": "code",
   "execution_count": 141,
   "id": "b1d3e413",
   "metadata": {},
   "outputs": [],
   "source": [
    "regulizer = tf.keras.regularizers.L1()"
   ]
  },
  {
   "cell_type": "code",
   "execution_count": 145,
   "id": "aed4c7aa",
   "metadata": {},
   "outputs": [
    {
     "data": {
      "text/plain": [
       "['__call__',\n",
       " '__class__',\n",
       " '__delattr__',\n",
       " '__dict__',\n",
       " '__dir__',\n",
       " '__doc__',\n",
       " '__eq__',\n",
       " '__format__',\n",
       " '__ge__',\n",
       " '__getattribute__',\n",
       " '__gt__',\n",
       " '__hash__',\n",
       " '__init__',\n",
       " '__init_subclass__',\n",
       " '__le__',\n",
       " '__lt__',\n",
       " '__module__',\n",
       " '__ne__',\n",
       " '__new__',\n",
       " '__reduce__',\n",
       " '__reduce_ex__',\n",
       " '__repr__',\n",
       " '__setattr__',\n",
       " '__sizeof__',\n",
       " '__str__',\n",
       " '__subclasshook__',\n",
       " '__weakref__',\n",
       " '_keras_api_names',\n",
       " '_keras_api_names_v1',\n",
       " 'from_config',\n",
       " 'get_config',\n",
       " 'l1']"
      ]
     },
     "execution_count": 145,
     "metadata": {},
     "output_type": "execute_result"
    }
   ],
   "source": [
    "dir(regulizer)"
   ]
  },
  {
   "cell_type": "markdown",
   "id": "d8d1c53c",
   "metadata": {},
   "source": [
    "# DCAE : Deep Convolution AE"
   ]
  },
  {
   "cell_type": "code",
   "execution_count": 406,
   "id": "4687e1b7",
   "metadata": {},
   "outputs": [],
   "source": [
    "(X_train,_),(X_test,_) = tf.keras.datasets.mnist.load_data()\n",
    "X_train = X_train.reshape(-1, 28,28,1) / 255\n",
    "X_test = X_train.reshape(-1, 28,28,1) / 255"
   ]
  },
  {
   "cell_type": "code",
   "execution_count": 407,
   "id": "9d1dc116",
   "metadata": {},
   "outputs": [],
   "source": [
    "input_ = tf.keras.Input((28,28,1))"
   ]
  },
  {
   "cell_type": "code",
   "execution_count": 408,
   "id": "40d84a60",
   "metadata": {},
   "outputs": [],
   "source": [
    "x = tf.keras.layers.Conv2D(32, 3, padding='same', activation='relu')(input_)\n",
    "x = tf.keras.layers.MaxPool2D(padding='same')(x)\n",
    "x = tf.keras.layers.Conv2D(32,3, padding='same', activation='relu')(x)\n",
    "x = tf.keras.layers.UpSampling2D()(x)\n",
    "x = tf.keras.layers.Conv2D(1,3, padding='same', activation='sigmoid')(x)"
   ]
  },
  {
   "cell_type": "code",
   "execution_count": 409,
   "id": "7282c717",
   "metadata": {},
   "outputs": [],
   "source": [
    "model = tf.keras.Model(input_, x)"
   ]
  },
  {
   "cell_type": "code",
   "execution_count": 410,
   "id": "0a6d20fd",
   "metadata": {},
   "outputs": [],
   "source": [
    "model.compile(loss=tf.keras.losses.MeanSquaredError())"
   ]
  },
  {
   "cell_type": "code",
   "execution_count": 411,
   "id": "d0941231",
   "metadata": {},
   "outputs": [
    {
     "name": "stdout",
     "output_type": "stream",
     "text": [
      "Epoch 1/10\n",
      "1875/1875 [==============================] - 9s 5ms/step - loss: 0.0038 - val_loss: 5.8247e-06\n",
      "Epoch 2/10\n",
      "1875/1875 [==============================] - 8s 4ms/step - loss: 9.2402e-04 - val_loss: 2.3395e-06\n",
      "Epoch 3/10\n",
      "1875/1875 [==============================] - 8s 4ms/step - loss: 6.5560e-04 - val_loss: 1.8190e-06\n",
      "Epoch 4/10\n",
      "1872/1875 [============================>.] - ETA: 0s - loss: 5.2118e-04"
     ]
    },
    {
     "ename": "KeyboardInterrupt",
     "evalue": "",
     "output_type": "error",
     "traceback": [
      "\u001b[1;31m---------------------------------------------------------------------------\u001b[0m",
      "\u001b[1;31mKeyboardInterrupt\u001b[0m                         Traceback (most recent call last)",
      "Input \u001b[1;32mIn [411]\u001b[0m, in \u001b[0;36m<cell line: 1>\u001b[1;34m()\u001b[0m\n\u001b[1;32m----> 1\u001b[0m \u001b[43mmodel\u001b[49m\u001b[38;5;241;43m.\u001b[39;49m\u001b[43mfit\u001b[49m\u001b[43m(\u001b[49m\u001b[43mX_train\u001b[49m\u001b[43m,\u001b[49m\u001b[43mX_train\u001b[49m\u001b[43m,\u001b[49m\u001b[43m \u001b[49m\u001b[43mepochs\u001b[49m\u001b[38;5;241;43m=\u001b[39;49m\u001b[38;5;241;43m10\u001b[39;49m\u001b[43m,\u001b[49m\u001b[43m \u001b[49m\u001b[43mvalidation_data\u001b[49m\u001b[38;5;241;43m=\u001b[39;49m\u001b[43m(\u001b[49m\u001b[43mX_test\u001b[49m\u001b[43m,\u001b[49m\u001b[43mX_test\u001b[49m\u001b[43m)\u001b[49m\u001b[43m)\u001b[49m\n",
      "File \u001b[1;32mC:\\ProgramData\\Anaconda3\\lib\\site-packages\\keras\\utils\\traceback_utils.py:64\u001b[0m, in \u001b[0;36mfilter_traceback.<locals>.error_handler\u001b[1;34m(*args, **kwargs)\u001b[0m\n\u001b[0;32m     62\u001b[0m filtered_tb \u001b[38;5;241m=\u001b[39m \u001b[38;5;28;01mNone\u001b[39;00m\n\u001b[0;32m     63\u001b[0m \u001b[38;5;28;01mtry\u001b[39;00m:\n\u001b[1;32m---> 64\u001b[0m   \u001b[38;5;28;01mreturn\u001b[39;00m fn(\u001b[38;5;241m*\u001b[39margs, \u001b[38;5;241m*\u001b[39m\u001b[38;5;241m*\u001b[39mkwargs)\n\u001b[0;32m     65\u001b[0m \u001b[38;5;28;01mexcept\u001b[39;00m \u001b[38;5;167;01mException\u001b[39;00m \u001b[38;5;28;01mas\u001b[39;00m e:  \u001b[38;5;66;03m# pylint: disable=broad-except\u001b[39;00m\n\u001b[0;32m     66\u001b[0m   filtered_tb \u001b[38;5;241m=\u001b[39m _process_traceback_frames(e\u001b[38;5;241m.\u001b[39m__traceback__)\n",
      "File \u001b[1;32mC:\\ProgramData\\Anaconda3\\lib\\site-packages\\keras\\engine\\training.py:1445\u001b[0m, in \u001b[0;36mModel.fit\u001b[1;34m(self, x, y, batch_size, epochs, verbose, callbacks, validation_split, validation_data, shuffle, class_weight, sample_weight, initial_epoch, steps_per_epoch, validation_steps, validation_batch_size, validation_freq, max_queue_size, workers, use_multiprocessing)\u001b[0m\n\u001b[0;32m   1431\u001b[0m \u001b[38;5;28;01mif\u001b[39;00m \u001b[38;5;28mgetattr\u001b[39m(\u001b[38;5;28mself\u001b[39m, \u001b[38;5;124m'\u001b[39m\u001b[38;5;124m_eval_data_handler\u001b[39m\u001b[38;5;124m'\u001b[39m, \u001b[38;5;28;01mNone\u001b[39;00m) \u001b[38;5;129;01mis\u001b[39;00m \u001b[38;5;28;01mNone\u001b[39;00m:\n\u001b[0;32m   1432\u001b[0m   \u001b[38;5;28mself\u001b[39m\u001b[38;5;241m.\u001b[39m_eval_data_handler \u001b[38;5;241m=\u001b[39m data_adapter\u001b[38;5;241m.\u001b[39mget_data_handler(\n\u001b[0;32m   1433\u001b[0m       x\u001b[38;5;241m=\u001b[39mval_x,\n\u001b[0;32m   1434\u001b[0m       y\u001b[38;5;241m=\u001b[39mval_y,\n\u001b[1;32m   (...)\u001b[0m\n\u001b[0;32m   1443\u001b[0m       model\u001b[38;5;241m=\u001b[39m\u001b[38;5;28mself\u001b[39m,\n\u001b[0;32m   1444\u001b[0m       steps_per_execution\u001b[38;5;241m=\u001b[39m\u001b[38;5;28mself\u001b[39m\u001b[38;5;241m.\u001b[39m_steps_per_execution)\n\u001b[1;32m-> 1445\u001b[0m val_logs \u001b[38;5;241m=\u001b[39m \u001b[38;5;28;43mself\u001b[39;49m\u001b[38;5;241;43m.\u001b[39;49m\u001b[43mevaluate\u001b[49m\u001b[43m(\u001b[49m\n\u001b[0;32m   1446\u001b[0m \u001b[43m    \u001b[49m\u001b[43mx\u001b[49m\u001b[38;5;241;43m=\u001b[39;49m\u001b[43mval_x\u001b[49m\u001b[43m,\u001b[49m\n\u001b[0;32m   1447\u001b[0m \u001b[43m    \u001b[49m\u001b[43my\u001b[49m\u001b[38;5;241;43m=\u001b[39;49m\u001b[43mval_y\u001b[49m\u001b[43m,\u001b[49m\n\u001b[0;32m   1448\u001b[0m \u001b[43m    \u001b[49m\u001b[43msample_weight\u001b[49m\u001b[38;5;241;43m=\u001b[39;49m\u001b[43mval_sample_weight\u001b[49m\u001b[43m,\u001b[49m\n\u001b[0;32m   1449\u001b[0m \u001b[43m    \u001b[49m\u001b[43mbatch_size\u001b[49m\u001b[38;5;241;43m=\u001b[39;49m\u001b[43mvalidation_batch_size\u001b[49m\u001b[43m \u001b[49m\u001b[38;5;129;43;01mor\u001b[39;49;00m\u001b[43m \u001b[49m\u001b[43mbatch_size\u001b[49m\u001b[43m,\u001b[49m\n\u001b[0;32m   1450\u001b[0m \u001b[43m    \u001b[49m\u001b[43msteps\u001b[49m\u001b[38;5;241;43m=\u001b[39;49m\u001b[43mvalidation_steps\u001b[49m\u001b[43m,\u001b[49m\n\u001b[0;32m   1451\u001b[0m \u001b[43m    \u001b[49m\u001b[43mcallbacks\u001b[49m\u001b[38;5;241;43m=\u001b[39;49m\u001b[43mcallbacks\u001b[49m\u001b[43m,\u001b[49m\n\u001b[0;32m   1452\u001b[0m \u001b[43m    \u001b[49m\u001b[43mmax_queue_size\u001b[49m\u001b[38;5;241;43m=\u001b[39;49m\u001b[43mmax_queue_size\u001b[49m\u001b[43m,\u001b[49m\n\u001b[0;32m   1453\u001b[0m \u001b[43m    \u001b[49m\u001b[43mworkers\u001b[49m\u001b[38;5;241;43m=\u001b[39;49m\u001b[43mworkers\u001b[49m\u001b[43m,\u001b[49m\n\u001b[0;32m   1454\u001b[0m \u001b[43m    \u001b[49m\u001b[43muse_multiprocessing\u001b[49m\u001b[38;5;241;43m=\u001b[39;49m\u001b[43muse_multiprocessing\u001b[49m\u001b[43m,\u001b[49m\n\u001b[0;32m   1455\u001b[0m \u001b[43m    \u001b[49m\u001b[43mreturn_dict\u001b[49m\u001b[38;5;241;43m=\u001b[39;49m\u001b[38;5;28;43;01mTrue\u001b[39;49;00m\u001b[43m,\u001b[49m\n\u001b[0;32m   1456\u001b[0m \u001b[43m    \u001b[49m\u001b[43m_use_cached_eval_dataset\u001b[49m\u001b[38;5;241;43m=\u001b[39;49m\u001b[38;5;28;43;01mTrue\u001b[39;49;00m\u001b[43m)\u001b[49m\n\u001b[0;32m   1457\u001b[0m val_logs \u001b[38;5;241m=\u001b[39m {\u001b[38;5;124m'\u001b[39m\u001b[38;5;124mval_\u001b[39m\u001b[38;5;124m'\u001b[39m \u001b[38;5;241m+\u001b[39m name: val \u001b[38;5;28;01mfor\u001b[39;00m name, val \u001b[38;5;129;01min\u001b[39;00m val_logs\u001b[38;5;241m.\u001b[39mitems()}\n\u001b[0;32m   1458\u001b[0m epoch_logs\u001b[38;5;241m.\u001b[39mupdate(val_logs)\n",
      "File \u001b[1;32mC:\\ProgramData\\Anaconda3\\lib\\site-packages\\keras\\utils\\traceback_utils.py:64\u001b[0m, in \u001b[0;36mfilter_traceback.<locals>.error_handler\u001b[1;34m(*args, **kwargs)\u001b[0m\n\u001b[0;32m     62\u001b[0m filtered_tb \u001b[38;5;241m=\u001b[39m \u001b[38;5;28;01mNone\u001b[39;00m\n\u001b[0;32m     63\u001b[0m \u001b[38;5;28;01mtry\u001b[39;00m:\n\u001b[1;32m---> 64\u001b[0m   \u001b[38;5;28;01mreturn\u001b[39;00m fn(\u001b[38;5;241m*\u001b[39margs, \u001b[38;5;241m*\u001b[39m\u001b[38;5;241m*\u001b[39mkwargs)\n\u001b[0;32m     65\u001b[0m \u001b[38;5;28;01mexcept\u001b[39;00m \u001b[38;5;167;01mException\u001b[39;00m \u001b[38;5;28;01mas\u001b[39;00m e:  \u001b[38;5;66;03m# pylint: disable=broad-except\u001b[39;00m\n\u001b[0;32m     66\u001b[0m   filtered_tb \u001b[38;5;241m=\u001b[39m _process_traceback_frames(e\u001b[38;5;241m.\u001b[39m__traceback__)\n",
      "File \u001b[1;32mC:\\ProgramData\\Anaconda3\\lib\\site-packages\\keras\\engine\\training.py:1756\u001b[0m, in \u001b[0;36mModel.evaluate\u001b[1;34m(self, x, y, batch_size, verbose, sample_weight, steps, callbacks, max_queue_size, workers, use_multiprocessing, return_dict, **kwargs)\u001b[0m\n\u001b[0;32m   1754\u001b[0m \u001b[38;5;28;01mwith\u001b[39;00m tf\u001b[38;5;241m.\u001b[39mprofiler\u001b[38;5;241m.\u001b[39mexperimental\u001b[38;5;241m.\u001b[39mTrace(\u001b[38;5;124m'\u001b[39m\u001b[38;5;124mtest\u001b[39m\u001b[38;5;124m'\u001b[39m, step_num\u001b[38;5;241m=\u001b[39mstep, _r\u001b[38;5;241m=\u001b[39m\u001b[38;5;241m1\u001b[39m):\n\u001b[0;32m   1755\u001b[0m   callbacks\u001b[38;5;241m.\u001b[39mon_test_batch_begin(step)\n\u001b[1;32m-> 1756\u001b[0m   tmp_logs \u001b[38;5;241m=\u001b[39m \u001b[38;5;28;43mself\u001b[39;49m\u001b[38;5;241;43m.\u001b[39;49m\u001b[43mtest_function\u001b[49m\u001b[43m(\u001b[49m\u001b[43miterator\u001b[49m\u001b[43m)\u001b[49m\n\u001b[0;32m   1757\u001b[0m   \u001b[38;5;28;01mif\u001b[39;00m data_handler\u001b[38;5;241m.\u001b[39mshould_sync:\n\u001b[0;32m   1758\u001b[0m     context\u001b[38;5;241m.\u001b[39masync_wait()\n",
      "File \u001b[1;32mC:\\ProgramData\\Anaconda3\\lib\\site-packages\\tensorflow\\python\\util\\traceback_utils.py:150\u001b[0m, in \u001b[0;36mfilter_traceback.<locals>.error_handler\u001b[1;34m(*args, **kwargs)\u001b[0m\n\u001b[0;32m    148\u001b[0m filtered_tb \u001b[38;5;241m=\u001b[39m \u001b[38;5;28;01mNone\u001b[39;00m\n\u001b[0;32m    149\u001b[0m \u001b[38;5;28;01mtry\u001b[39;00m:\n\u001b[1;32m--> 150\u001b[0m   \u001b[38;5;28;01mreturn\u001b[39;00m fn(\u001b[38;5;241m*\u001b[39margs, \u001b[38;5;241m*\u001b[39m\u001b[38;5;241m*\u001b[39mkwargs)\n\u001b[0;32m    151\u001b[0m \u001b[38;5;28;01mexcept\u001b[39;00m \u001b[38;5;167;01mException\u001b[39;00m \u001b[38;5;28;01mas\u001b[39;00m e:\n\u001b[0;32m    152\u001b[0m   filtered_tb \u001b[38;5;241m=\u001b[39m _process_traceback_frames(e\u001b[38;5;241m.\u001b[39m__traceback__)\n",
      "File \u001b[1;32mC:\\ProgramData\\Anaconda3\\lib\\site-packages\\tensorflow\\python\\eager\\def_function.py:915\u001b[0m, in \u001b[0;36mFunction.__call__\u001b[1;34m(self, *args, **kwds)\u001b[0m\n\u001b[0;32m    912\u001b[0m compiler \u001b[38;5;241m=\u001b[39m \u001b[38;5;124m\"\u001b[39m\u001b[38;5;124mxla\u001b[39m\u001b[38;5;124m\"\u001b[39m \u001b[38;5;28;01mif\u001b[39;00m \u001b[38;5;28mself\u001b[39m\u001b[38;5;241m.\u001b[39m_jit_compile \u001b[38;5;28;01melse\u001b[39;00m \u001b[38;5;124m\"\u001b[39m\u001b[38;5;124mnonXla\u001b[39m\u001b[38;5;124m\"\u001b[39m\n\u001b[0;32m    914\u001b[0m \u001b[38;5;28;01mwith\u001b[39;00m OptionalXlaContext(\u001b[38;5;28mself\u001b[39m\u001b[38;5;241m.\u001b[39m_jit_compile):\n\u001b[1;32m--> 915\u001b[0m   result \u001b[38;5;241m=\u001b[39m \u001b[38;5;28mself\u001b[39m\u001b[38;5;241m.\u001b[39m_call(\u001b[38;5;241m*\u001b[39margs, \u001b[38;5;241m*\u001b[39m\u001b[38;5;241m*\u001b[39mkwds)\n\u001b[0;32m    917\u001b[0m new_tracing_count \u001b[38;5;241m=\u001b[39m \u001b[38;5;28mself\u001b[39m\u001b[38;5;241m.\u001b[39mexperimental_get_tracing_count()\n\u001b[0;32m    918\u001b[0m without_tracing \u001b[38;5;241m=\u001b[39m (tracing_count \u001b[38;5;241m==\u001b[39m new_tracing_count)\n",
      "File \u001b[1;32mC:\\ProgramData\\Anaconda3\\lib\\site-packages\\tensorflow\\python\\eager\\def_function.py:954\u001b[0m, in \u001b[0;36mFunction._call\u001b[1;34m(self, *args, **kwds)\u001b[0m\n\u001b[0;32m    951\u001b[0m \u001b[38;5;28mself\u001b[39m\u001b[38;5;241m.\u001b[39m_lock\u001b[38;5;241m.\u001b[39mrelease()\n\u001b[0;32m    952\u001b[0m \u001b[38;5;66;03m# In this case we have not created variables on the first call. So we can\u001b[39;00m\n\u001b[0;32m    953\u001b[0m \u001b[38;5;66;03m# run the first trace but we should fail if variables are created.\u001b[39;00m\n\u001b[1;32m--> 954\u001b[0m results \u001b[38;5;241m=\u001b[39m \u001b[38;5;28mself\u001b[39m\u001b[38;5;241m.\u001b[39m_stateful_fn(\u001b[38;5;241m*\u001b[39margs, \u001b[38;5;241m*\u001b[39m\u001b[38;5;241m*\u001b[39mkwds)\n\u001b[0;32m    955\u001b[0m \u001b[38;5;28;01mif\u001b[39;00m \u001b[38;5;28mself\u001b[39m\u001b[38;5;241m.\u001b[39m_created_variables \u001b[38;5;129;01mand\u001b[39;00m \u001b[38;5;129;01mnot\u001b[39;00m ALLOW_DYNAMIC_VARIABLE_CREATION:\n\u001b[0;32m    956\u001b[0m   \u001b[38;5;28;01mraise\u001b[39;00m \u001b[38;5;167;01mValueError\u001b[39;00m(\u001b[38;5;124m\"\u001b[39m\u001b[38;5;124mCreating variables on a non-first call to a function\u001b[39m\u001b[38;5;124m\"\u001b[39m\n\u001b[0;32m    957\u001b[0m                    \u001b[38;5;124m\"\u001b[39m\u001b[38;5;124m decorated with tf.function.\u001b[39m\u001b[38;5;124m\"\u001b[39m)\n",
      "File \u001b[1;32mC:\\ProgramData\\Anaconda3\\lib\\site-packages\\tensorflow\\python\\eager\\function.py:2453\u001b[0m, in \u001b[0;36mFunction.__call__\u001b[1;34m(self, *args, **kwargs)\u001b[0m\n\u001b[0;32m   2450\u001b[0m \u001b[38;5;28;01mwith\u001b[39;00m \u001b[38;5;28mself\u001b[39m\u001b[38;5;241m.\u001b[39m_lock:\n\u001b[0;32m   2451\u001b[0m   (graph_function,\n\u001b[0;32m   2452\u001b[0m    filtered_flat_args) \u001b[38;5;241m=\u001b[39m \u001b[38;5;28mself\u001b[39m\u001b[38;5;241m.\u001b[39m_maybe_define_function(args, kwargs)\n\u001b[1;32m-> 2453\u001b[0m \u001b[38;5;28;01mreturn\u001b[39;00m \u001b[43mgraph_function\u001b[49m\u001b[38;5;241;43m.\u001b[39;49m\u001b[43m_call_flat\u001b[49m\u001b[43m(\u001b[49m\n\u001b[0;32m   2454\u001b[0m \u001b[43m    \u001b[49m\u001b[43mfiltered_flat_args\u001b[49m\u001b[43m,\u001b[49m\u001b[43m \u001b[49m\u001b[43mcaptured_inputs\u001b[49m\u001b[38;5;241;43m=\u001b[39;49m\u001b[43mgraph_function\u001b[49m\u001b[38;5;241;43m.\u001b[39;49m\u001b[43mcaptured_inputs\u001b[49m\u001b[43m)\u001b[49m\n",
      "File \u001b[1;32mC:\\ProgramData\\Anaconda3\\lib\\site-packages\\tensorflow\\python\\eager\\function.py:1860\u001b[0m, in \u001b[0;36mConcreteFunction._call_flat\u001b[1;34m(self, args, captured_inputs, cancellation_manager)\u001b[0m\n\u001b[0;32m   1856\u001b[0m possible_gradient_type \u001b[38;5;241m=\u001b[39m gradients_util\u001b[38;5;241m.\u001b[39mPossibleTapeGradientTypes(args)\n\u001b[0;32m   1857\u001b[0m \u001b[38;5;28;01mif\u001b[39;00m (possible_gradient_type \u001b[38;5;241m==\u001b[39m gradients_util\u001b[38;5;241m.\u001b[39mPOSSIBLE_GRADIENT_TYPES_NONE\n\u001b[0;32m   1858\u001b[0m     \u001b[38;5;129;01mand\u001b[39;00m executing_eagerly):\n\u001b[0;32m   1859\u001b[0m   \u001b[38;5;66;03m# No tape is watching; skip to running the function.\u001b[39;00m\n\u001b[1;32m-> 1860\u001b[0m   \u001b[38;5;28;01mreturn\u001b[39;00m \u001b[38;5;28mself\u001b[39m\u001b[38;5;241m.\u001b[39m_build_call_outputs(\u001b[38;5;28;43mself\u001b[39;49m\u001b[38;5;241;43m.\u001b[39;49m\u001b[43m_inference_function\u001b[49m\u001b[38;5;241;43m.\u001b[39;49m\u001b[43mcall\u001b[49m\u001b[43m(\u001b[49m\n\u001b[0;32m   1861\u001b[0m \u001b[43m      \u001b[49m\u001b[43mctx\u001b[49m\u001b[43m,\u001b[49m\u001b[43m \u001b[49m\u001b[43margs\u001b[49m\u001b[43m,\u001b[49m\u001b[43m \u001b[49m\u001b[43mcancellation_manager\u001b[49m\u001b[38;5;241;43m=\u001b[39;49m\u001b[43mcancellation_manager\u001b[49m\u001b[43m)\u001b[49m)\n\u001b[0;32m   1862\u001b[0m forward_backward \u001b[38;5;241m=\u001b[39m \u001b[38;5;28mself\u001b[39m\u001b[38;5;241m.\u001b[39m_select_forward_and_backward_functions(\n\u001b[0;32m   1863\u001b[0m     args,\n\u001b[0;32m   1864\u001b[0m     possible_gradient_type,\n\u001b[0;32m   1865\u001b[0m     executing_eagerly)\n\u001b[0;32m   1866\u001b[0m forward_function, args_with_tangents \u001b[38;5;241m=\u001b[39m forward_backward\u001b[38;5;241m.\u001b[39mforward()\n",
      "File \u001b[1;32mC:\\ProgramData\\Anaconda3\\lib\\site-packages\\tensorflow\\python\\eager\\function.py:497\u001b[0m, in \u001b[0;36m_EagerDefinedFunction.call\u001b[1;34m(self, ctx, args, cancellation_manager)\u001b[0m\n\u001b[0;32m    495\u001b[0m \u001b[38;5;28;01mwith\u001b[39;00m _InterpolateFunctionError(\u001b[38;5;28mself\u001b[39m):\n\u001b[0;32m    496\u001b[0m   \u001b[38;5;28;01mif\u001b[39;00m cancellation_manager \u001b[38;5;129;01mis\u001b[39;00m \u001b[38;5;28;01mNone\u001b[39;00m:\n\u001b[1;32m--> 497\u001b[0m     outputs \u001b[38;5;241m=\u001b[39m \u001b[43mexecute\u001b[49m\u001b[38;5;241;43m.\u001b[39;49m\u001b[43mexecute\u001b[49m\u001b[43m(\u001b[49m\n\u001b[0;32m    498\u001b[0m \u001b[43m        \u001b[49m\u001b[38;5;28;43mstr\u001b[39;49m\u001b[43m(\u001b[49m\u001b[38;5;28;43mself\u001b[39;49m\u001b[38;5;241;43m.\u001b[39;49m\u001b[43msignature\u001b[49m\u001b[38;5;241;43m.\u001b[39;49m\u001b[43mname\u001b[49m\u001b[43m)\u001b[49m\u001b[43m,\u001b[49m\n\u001b[0;32m    499\u001b[0m \u001b[43m        \u001b[49m\u001b[43mnum_outputs\u001b[49m\u001b[38;5;241;43m=\u001b[39;49m\u001b[38;5;28;43mself\u001b[39;49m\u001b[38;5;241;43m.\u001b[39;49m\u001b[43m_num_outputs\u001b[49m\u001b[43m,\u001b[49m\n\u001b[0;32m    500\u001b[0m \u001b[43m        \u001b[49m\u001b[43minputs\u001b[49m\u001b[38;5;241;43m=\u001b[39;49m\u001b[43margs\u001b[49m\u001b[43m,\u001b[49m\n\u001b[0;32m    501\u001b[0m \u001b[43m        \u001b[49m\u001b[43mattrs\u001b[49m\u001b[38;5;241;43m=\u001b[39;49m\u001b[43mattrs\u001b[49m\u001b[43m,\u001b[49m\n\u001b[0;32m    502\u001b[0m \u001b[43m        \u001b[49m\u001b[43mctx\u001b[49m\u001b[38;5;241;43m=\u001b[39;49m\u001b[43mctx\u001b[49m\u001b[43m)\u001b[49m\n\u001b[0;32m    503\u001b[0m   \u001b[38;5;28;01melse\u001b[39;00m:\n\u001b[0;32m    504\u001b[0m     outputs \u001b[38;5;241m=\u001b[39m execute\u001b[38;5;241m.\u001b[39mexecute_with_cancellation(\n\u001b[0;32m    505\u001b[0m         \u001b[38;5;28mstr\u001b[39m(\u001b[38;5;28mself\u001b[39m\u001b[38;5;241m.\u001b[39msignature\u001b[38;5;241m.\u001b[39mname),\n\u001b[0;32m    506\u001b[0m         num_outputs\u001b[38;5;241m=\u001b[39m\u001b[38;5;28mself\u001b[39m\u001b[38;5;241m.\u001b[39m_num_outputs,\n\u001b[1;32m   (...)\u001b[0m\n\u001b[0;32m    509\u001b[0m         ctx\u001b[38;5;241m=\u001b[39mctx,\n\u001b[0;32m    510\u001b[0m         cancellation_manager\u001b[38;5;241m=\u001b[39mcancellation_manager)\n",
      "File \u001b[1;32mC:\\ProgramData\\Anaconda3\\lib\\site-packages\\tensorflow\\python\\eager\\execute.py:54\u001b[0m, in \u001b[0;36mquick_execute\u001b[1;34m(op_name, num_outputs, inputs, attrs, ctx, name)\u001b[0m\n\u001b[0;32m     52\u001b[0m \u001b[38;5;28;01mtry\u001b[39;00m:\n\u001b[0;32m     53\u001b[0m   ctx\u001b[38;5;241m.\u001b[39mensure_initialized()\n\u001b[1;32m---> 54\u001b[0m   tensors \u001b[38;5;241m=\u001b[39m \u001b[43mpywrap_tfe\u001b[49m\u001b[38;5;241;43m.\u001b[39;49m\u001b[43mTFE_Py_Execute\u001b[49m\u001b[43m(\u001b[49m\u001b[43mctx\u001b[49m\u001b[38;5;241;43m.\u001b[39;49m\u001b[43m_handle\u001b[49m\u001b[43m,\u001b[49m\u001b[43m \u001b[49m\u001b[43mdevice_name\u001b[49m\u001b[43m,\u001b[49m\u001b[43m \u001b[49m\u001b[43mop_name\u001b[49m\u001b[43m,\u001b[49m\n\u001b[0;32m     55\u001b[0m \u001b[43m                                      \u001b[49m\u001b[43minputs\u001b[49m\u001b[43m,\u001b[49m\u001b[43m \u001b[49m\u001b[43mattrs\u001b[49m\u001b[43m,\u001b[49m\u001b[43m \u001b[49m\u001b[43mnum_outputs\u001b[49m\u001b[43m)\u001b[49m\n\u001b[0;32m     56\u001b[0m \u001b[38;5;28;01mexcept\u001b[39;00m core\u001b[38;5;241m.\u001b[39m_NotOkStatusException \u001b[38;5;28;01mas\u001b[39;00m e:\n\u001b[0;32m     57\u001b[0m   \u001b[38;5;28;01mif\u001b[39;00m name \u001b[38;5;129;01mis\u001b[39;00m \u001b[38;5;129;01mnot\u001b[39;00m \u001b[38;5;28;01mNone\u001b[39;00m:\n",
      "\u001b[1;31mKeyboardInterrupt\u001b[0m: "
     ]
    }
   ],
   "source": [
    "model.fit(X_train,X_train, epochs=10, validation_data=(X_test,X_test))"
   ]
  },
  {
   "cell_type": "code",
   "execution_count": 402,
   "id": "42da69f7",
   "metadata": {},
   "outputs": [],
   "source": [
    "result = model(X_test)"
   ]
  },
  {
   "cell_type": "code",
   "execution_count": 405,
   "id": "215422f0",
   "metadata": {},
   "outputs": [
    {
     "data": {
      "text/plain": [
       "<tf.Tensor: shape=(28, 28, 1), dtype=float32, numpy=\n",
       "array([[[2.2754206e-05],\n",
       "        [1.7138555e-08],\n",
       "        [1.9090253e-08],\n",
       "        [3.5688085e-08],\n",
       "        [3.5688085e-08],\n",
       "        [3.5688085e-08],\n",
       "        [3.5688085e-08],\n",
       "        [3.5688085e-08],\n",
       "        [3.5688085e-08],\n",
       "        [3.5688085e-08],\n",
       "        [3.5688085e-08],\n",
       "        [3.5688085e-08],\n",
       "        [3.5688085e-08],\n",
       "        [3.5688085e-08],\n",
       "        [3.5688085e-08],\n",
       "        [3.5688085e-08],\n",
       "        [3.5688085e-08],\n",
       "        [3.5688085e-08],\n",
       "        [3.5688085e-08],\n",
       "        [3.5688085e-08],\n",
       "        [3.5688085e-08],\n",
       "        [3.5688085e-08],\n",
       "        [3.5688085e-08],\n",
       "        [3.5688085e-08],\n",
       "        [3.5688085e-08],\n",
       "        [4.9923177e-08],\n",
       "        [1.3634583e-07],\n",
       "        [1.2246270e-06]],\n",
       "\n",
       "       [[8.8180019e-07],\n",
       "        [9.5685770e-10],\n",
       "        [1.0307753e-08],\n",
       "        [6.6876495e-08],\n",
       "        [6.6876240e-08],\n",
       "        [6.6880453e-08],\n",
       "        [6.6881860e-08],\n",
       "        [6.6899460e-08],\n",
       "        [6.6886699e-08],\n",
       "        [6.6881725e-08],\n",
       "        [6.6847036e-08],\n",
       "        [6.6839640e-08],\n",
       "        [6.6805860e-08],\n",
       "        [6.6523718e-08],\n",
       "        [6.6435469e-08],\n",
       "        [6.6399615e-08],\n",
       "        [6.6498345e-08],\n",
       "        [6.6152978e-08],\n",
       "        [6.6255012e-08],\n",
       "        [6.6540345e-08],\n",
       "        [6.6592015e-08],\n",
       "        [6.6781922e-08],\n",
       "        [6.7090625e-08],\n",
       "        [6.7191408e-08],\n",
       "        [6.6801661e-08],\n",
       "        [1.0223778e-07],\n",
       "        [1.0288665e-07],\n",
       "        [1.8919811e-06]],\n",
       "\n",
       "       [[1.4950590e-06],\n",
       "        [5.2834261e-09],\n",
       "        [1.4241836e-07],\n",
       "        [5.7446044e-07],\n",
       "        [5.7448131e-07],\n",
       "        [5.7462540e-07],\n",
       "        [5.7464513e-07],\n",
       "        [5.7492690e-07],\n",
       "        [5.7482049e-07],\n",
       "        [5.7462648e-07],\n",
       "        [5.7392822e-07],\n",
       "        [5.7397966e-07],\n",
       "        [5.7333193e-07],\n",
       "        [5.6883607e-07],\n",
       "        [5.6538119e-07],\n",
       "        [5.6508907e-07],\n",
       "        [5.6570588e-07],\n",
       "        [5.6442281e-07],\n",
       "        [5.6120933e-07],\n",
       "        [5.6193977e-07],\n",
       "        [5.6395896e-07],\n",
       "        [5.6981065e-07],\n",
       "        [5.7312911e-07],\n",
       "        [5.7134019e-07],\n",
       "        [5.7018246e-07],\n",
       "        [6.7224926e-07],\n",
       "        [3.7508062e-07],\n",
       "        [4.0669356e-06]],\n",
       "\n",
       "       [[1.5023425e-06],\n",
       "        [5.6997833e-09],\n",
       "        [1.8408294e-07],\n",
       "        [6.4752186e-07],\n",
       "        [6.4719103e-07],\n",
       "        [6.4219859e-07],\n",
       "        [6.3991524e-07],\n",
       "        [6.3541876e-07],\n",
       "        [6.3788440e-07],\n",
       "        [6.3314673e-07],\n",
       "        [6.3442513e-07],\n",
       "        [6.4209451e-07],\n",
       "        [6.4588755e-07],\n",
       "        [6.5586363e-07],\n",
       "        [6.5894125e-07],\n",
       "        [6.9213439e-07],\n",
       "        [7.0438216e-07],\n",
       "        [7.3457016e-07],\n",
       "        [7.2565223e-07],\n",
       "        [7.4150938e-07],\n",
       "        [7.4599427e-07],\n",
       "        [7.5804837e-07],\n",
       "        [7.5013207e-07],\n",
       "        [6.8719038e-07],\n",
       "        [6.7327323e-07],\n",
       "        [5.7762145e-07],\n",
       "        [3.0221122e-07],\n",
       "        [3.9981942e-06]],\n",
       "\n",
       "       [[1.5023425e-06],\n",
       "        [5.6997833e-09],\n",
       "        [1.8408294e-07],\n",
       "        [6.4770467e-07],\n",
       "        [6.4729960e-07],\n",
       "        [6.3696888e-07],\n",
       "        [6.2941655e-07],\n",
       "        [6.1929558e-07],\n",
       "        [6.1439005e-07],\n",
       "        [6.1774131e-07],\n",
       "        [6.1141378e-07],\n",
       "        [6.2455297e-07],\n",
       "        [6.2781231e-07],\n",
       "        [6.5691648e-07],\n",
       "        [6.7106998e-07],\n",
       "        [7.3969846e-07],\n",
       "        [8.0231041e-07],\n",
       "        [9.0089515e-07],\n",
       "        [9.0951050e-07],\n",
       "        [9.0343059e-07],\n",
       "        [9.5463156e-07],\n",
       "        [1.0550173e-06],\n",
       "        [1.0273044e-06],\n",
       "        [7.9974438e-07],\n",
       "        [7.1399273e-07],\n",
       "        [5.7388934e-07],\n",
       "        [2.9737470e-07],\n",
       "        [3.9925744e-06]],\n",
       "\n",
       "       [[1.5023425e-06],\n",
       "        [5.6997833e-09],\n",
       "        [1.8408294e-07],\n",
       "        [6.4937217e-07],\n",
       "        [6.4854964e-07],\n",
       "        [6.4615801e-07],\n",
       "        [6.4896290e-07],\n",
       "        [6.9811057e-07],\n",
       "        [7.2799855e-07],\n",
       "        [8.4840730e-07],\n",
       "        [8.9395502e-07],\n",
       "        [1.0201685e-06],\n",
       "        [1.0941219e-06],\n",
       "        [1.2108965e-06],\n",
       "        [1.2512960e-06],\n",
       "        [1.3565431e-06],\n",
       "        [1.5070650e-06],\n",
       "        [1.5541497e-06],\n",
       "        [1.4370165e-06],\n",
       "        [1.2466874e-06],\n",
       "        [1.3515702e-06],\n",
       "        [1.4019636e-06],\n",
       "        [1.2224671e-06],\n",
       "        [8.4893583e-07],\n",
       "        [7.0703311e-07],\n",
       "        [5.6255323e-07],\n",
       "        [2.9607835e-07],\n",
       "        [4.0032996e-06]],\n",
       "\n",
       "       [[1.5023425e-06],\n",
       "        [5.6997833e-09],\n",
       "        [1.8408294e-07],\n",
       "        [6.5108242e-07],\n",
       "        [6.5205239e-07],\n",
       "        [6.6432347e-07],\n",
       "        [6.7928084e-07],\n",
       "        [8.4526567e-07],\n",
       "        [1.0138931e-06],\n",
       "        [1.4593053e-06],\n",
       "        [1.7256615e-06],\n",
       "        [2.2346087e-06],\n",
       "        [2.6282298e-06],\n",
       "        [3.0970170e-06],\n",
       "        [3.2631531e-06],\n",
       "        [3.3614265e-06],\n",
       "        [3.5626342e-06],\n",
       "        [3.0402011e-06],\n",
       "        [2.3304249e-06],\n",
       "        [1.7704364e-06],\n",
       "        [1.8188970e-06],\n",
       "        [1.5875617e-06],\n",
       "        [1.2374835e-06],\n",
       "        [8.4003022e-07],\n",
       "        [7.0670546e-07],\n",
       "        [5.7366498e-07],\n",
       "        [3.0296727e-07],\n",
       "        [4.0077421e-06]],\n",
       "\n",
       "       [[1.5023425e-06],\n",
       "        [5.6997833e-09],\n",
       "        [1.8408294e-07],\n",
       "        [6.5061630e-07],\n",
       "        [6.5189073e-07],\n",
       "        [6.8113741e-07],\n",
       "        [7.0091642e-07],\n",
       "        [9.6760573e-07],\n",
       "        [1.3696257e-06],\n",
       "        [2.2123188e-06],\n",
       "        [2.6385517e-06],\n",
       "        [3.4078778e-06],\n",
       "        [3.6021067e-06],\n",
       "        [3.5660369e-06],\n",
       "        [3.2753028e-06],\n",
       "        [2.9019993e-06],\n",
       "        [3.0002582e-06],\n",
       "        [2.3105370e-06],\n",
       "        [1.5401798e-06],\n",
       "        [1.1203375e-06],\n",
       "        [1.1786876e-06],\n",
       "        [1.0447396e-06],\n",
       "        [9.0462464e-07],\n",
       "        [7.1693825e-07],\n",
       "        [6.6840971e-07],\n",
       "        [5.7751902e-07],\n",
       "        [3.0321962e-07],\n",
       "        [3.9991287e-06]],\n",
       "\n",
       "       [[1.5023425e-06],\n",
       "        [5.6997833e-09],\n",
       "        [1.8408294e-07],\n",
       "        [6.4854902e-07],\n",
       "        [6.4725577e-07],\n",
       "        [6.8272237e-07],\n",
       "        [7.0217556e-07],\n",
       "        [9.9930094e-07],\n",
       "        [1.4916138e-06],\n",
       "        [2.4126509e-06],\n",
       "        [2.9120238e-06],\n",
       "        [3.8938247e-06],\n",
       "        [3.7945956e-06],\n",
       "        [2.8619522e-06],\n",
       "        [2.1063520e-06],\n",
       "        [1.5341900e-06],\n",
       "        [1.5882689e-06],\n",
       "        [1.3046930e-06],\n",
       "        [8.8309616e-07],\n",
       "        [6.3900166e-07],\n",
       "        [6.7354296e-07],\n",
       "        [6.4673810e-07],\n",
       "        [6.3684200e-07],\n",
       "        [6.2046968e-07],\n",
       "        [6.3252509e-07],\n",
       "        [5.7480190e-07],\n",
       "        [3.0352805e-07],\n",
       "        [3.9979618e-06]],\n",
       "\n",
       "       [[1.5023425e-06],\n",
       "        [5.6997833e-09],\n",
       "        [1.8408294e-07],\n",
       "        [6.4686577e-07],\n",
       "        [6.4674430e-07],\n",
       "        [6.7445637e-07],\n",
       "        [6.6494977e-07],\n",
       "        [8.6203727e-07],\n",
       "        [1.0731941e-06],\n",
       "        [1.5075165e-06],\n",
       "        [1.8514085e-06],\n",
       "        [2.6059668e-06],\n",
       "        [2.8646912e-06],\n",
       "        [2.0518389e-06],\n",
       "        [1.3170230e-06],\n",
       "        [8.8939879e-07],\n",
       "        [9.8208250e-07],\n",
       "        [9.2316731e-07],\n",
       "        [7.5106828e-07],\n",
       "        [6.0643009e-07],\n",
       "        [6.2736279e-07],\n",
       "        [6.3019735e-07],\n",
       "        [6.2828065e-07],\n",
       "        [6.3911261e-07],\n",
       "        [6.4512915e-07],\n",
       "        [5.8436228e-07],\n",
       "        [3.0500706e-07],\n",
       "        [3.9958236e-06]],\n",
       "\n",
       "       [[1.5023425e-06],\n",
       "        [5.6997833e-09],\n",
       "        [1.8408294e-07],\n",
       "        [6.4695342e-07],\n",
       "        [6.4732001e-07],\n",
       "        [6.5932784e-07],\n",
       "        [6.3475494e-07],\n",
       "        [6.9801069e-07],\n",
       "        [7.2795063e-07],\n",
       "        [8.4749990e-07],\n",
       "        [9.9252622e-07],\n",
       "        [1.4885727e-06],\n",
       "        [1.9155232e-06],\n",
       "        [1.5577584e-06],\n",
       "        [9.3789021e-07],\n",
       "        [6.1373419e-07],\n",
       "        [6.7587291e-07],\n",
       "        [6.6053184e-07],\n",
       "        [6.3151009e-07],\n",
       "        [6.1981910e-07],\n",
       "        [6.4955674e-07],\n",
       "        [6.4962484e-07],\n",
       "        [6.4644087e-07],\n",
       "        [6.4755523e-07],\n",
       "        [6.4711816e-07],\n",
       "        [5.8662755e-07],\n",
       "        [3.0441311e-07],\n",
       "        [3.9964716e-06]],\n",
       "\n",
       "       [[1.5023425e-06],\n",
       "        [5.6997833e-09],\n",
       "        [1.8408294e-07],\n",
       "        [6.4734093e-07],\n",
       "        [6.4729221e-07],\n",
       "        [6.4709042e-07],\n",
       "        [6.3735052e-07],\n",
       "        [6.4780721e-07],\n",
       "        [6.4853481e-07],\n",
       "        [7.2095264e-07],\n",
       "        [7.9829732e-07],\n",
       "        [1.1785122e-06],\n",
       "        [1.6712899e-06],\n",
       "        [1.5513569e-06],\n",
       "        [9.6701626e-07],\n",
       "        [6.7443068e-07],\n",
       "        [7.0070922e-07],\n",
       "        [6.4071878e-07],\n",
       "        [6.3362938e-07],\n",
       "        [6.4600829e-07],\n",
       "        [6.5228130e-07],\n",
       "        [6.4811621e-07],\n",
       "        [6.4718176e-07],\n",
       "        [6.4728482e-07],\n",
       "        [6.4746325e-07],\n",
       "        [5.8610362e-07],\n",
       "        [3.0413275e-07],\n",
       "        [3.9961933e-06]],\n",
       "\n",
       "       [[1.5023425e-06],\n",
       "        [5.6997833e-09],\n",
       "        [1.8408294e-07],\n",
       "        [6.4747252e-07],\n",
       "        [6.4793949e-07],\n",
       "        [6.4842715e-07],\n",
       "        [6.4866288e-07],\n",
       "        [6.5691648e-07],\n",
       "        [6.5025341e-07],\n",
       "        [7.1445589e-07],\n",
       "        [7.4975441e-07],\n",
       "        [9.8335613e-07],\n",
       "        [1.4031807e-06],\n",
       "        [1.6090351e-06],\n",
       "        [1.1934269e-06],\n",
       "        [8.9572916e-07],\n",
       "        [8.4980252e-07],\n",
       "        [6.9842349e-07],\n",
       "        [6.6210913e-07],\n",
       "        [6.2511845e-07],\n",
       "        [6.3040471e-07],\n",
       "        [6.4322779e-07],\n",
       "        [6.4440292e-07],\n",
       "        [6.4724225e-07],\n",
       "        [6.4723667e-07],\n",
       "        [5.8612591e-07],\n",
       "        [3.0414844e-07],\n",
       "        [3.9961933e-06]],\n",
       "\n",
       "       [[1.5023425e-06],\n",
       "        [5.6997833e-09],\n",
       "        [1.8408294e-07],\n",
       "        [6.4751760e-07],\n",
       "        [6.4769108e-07],\n",
       "        [6.4882624e-07],\n",
       "        [6.4930344e-07],\n",
       "        [6.4776896e-07],\n",
       "        [6.4410307e-07],\n",
       "        [6.7837709e-07],\n",
       "        [6.7116019e-07],\n",
       "        [8.1413782e-07],\n",
       "        [1.0813658e-06],\n",
       "        [1.4277332e-06],\n",
       "        [1.4877426e-06],\n",
       "        [1.3513304e-06],\n",
       "        [1.1379552e-06],\n",
       "        [9.0510105e-07],\n",
       "        [7.8678113e-07],\n",
       "        [6.4481850e-07],\n",
       "        [6.4656666e-07],\n",
       "        [6.4250855e-07],\n",
       "        [6.4261707e-07],\n",
       "        [6.4767937e-07],\n",
       "        [6.4730517e-07],\n",
       "        [5.8609578e-07],\n",
       "        [3.0414495e-07],\n",
       "        [3.9961933e-06]],\n",
       "\n",
       "       [[1.5023425e-06],\n",
       "        [5.6997833e-09],\n",
       "        [1.8408294e-07],\n",
       "        [6.4741880e-07],\n",
       "        [6.4741198e-07],\n",
       "        [6.4781278e-07],\n",
       "        [6.4777572e-07],\n",
       "        [6.4733672e-07],\n",
       "        [6.4875439e-07],\n",
       "        [6.6653064e-07],\n",
       "        [6.4034617e-07],\n",
       "        [7.0998590e-07],\n",
       "        [8.2765143e-07],\n",
       "        [1.0860393e-06],\n",
       "        [1.4389584e-06],\n",
       "        [1.9053532e-06],\n",
       "        [1.7945082e-06],\n",
       "        [1.4719994e-06],\n",
       "        [1.1197799e-06],\n",
       "        [7.2391936e-07],\n",
       "        [6.7157254e-07],\n",
       "        [6.1528891e-07],\n",
       "        [6.2198097e-07],\n",
       "        [6.4529956e-07],\n",
       "        [6.4587891e-07],\n",
       "        [5.8609578e-07],\n",
       "        [3.0414495e-07],\n",
       "        [3.9961933e-06]],\n",
       "\n",
       "       [[1.5023425e-06],\n",
       "        [5.6997833e-09],\n",
       "        [1.8408294e-07],\n",
       "        [6.4732745e-07],\n",
       "        [6.4732745e-07],\n",
       "        [6.4735275e-07],\n",
       "        [6.4735087e-07],\n",
       "        [6.4846989e-07],\n",
       "        [6.4904833e-07],\n",
       "        [6.4721138e-07],\n",
       "        [6.3496924e-07],\n",
       "        [6.6857422e-07],\n",
       "        [6.8486850e-07],\n",
       "        [8.6763424e-07],\n",
       "        [1.0930747e-06],\n",
       "        [1.6243094e-06],\n",
       "        [2.0223970e-06],\n",
       "        [2.0606826e-06],\n",
       "        [1.5434632e-06],\n",
       "        [9.1322335e-07],\n",
       "        [7.5334952e-07],\n",
       "        [6.0899526e-07],\n",
       "        [6.2607955e-07],\n",
       "        [6.4807483e-07],\n",
       "        [6.4661288e-07],\n",
       "        [5.8609578e-07],\n",
       "        [3.0414495e-07],\n",
       "        [3.9961933e-06]],\n",
       "\n",
       "       [[1.5023425e-06],\n",
       "        [5.6997833e-09],\n",
       "        [1.8408294e-07],\n",
       "        [6.4732745e-07],\n",
       "        [6.4732745e-07],\n",
       "        [6.4739595e-07],\n",
       "        [6.4741323e-07],\n",
       "        [6.4858182e-07],\n",
       "        [6.4895619e-07],\n",
       "        [6.4500239e-07],\n",
       "        [6.4058992e-07],\n",
       "        [6.5267329e-07],\n",
       "        [6.2517324e-07],\n",
       "        [7.0355503e-07],\n",
       "        [7.8709331e-07],\n",
       "        [1.1328898e-06],\n",
       "        [1.6775623e-06],\n",
       "        [2.4998919e-06],\n",
       "        [2.2761194e-06],\n",
       "        [1.3824781e-06],\n",
       "        [9.7159761e-07],\n",
       "        [6.2828485e-07],\n",
       "        [6.2560093e-07],\n",
       "        [6.4989445e-07],\n",
       "        [6.4683871e-07],\n",
       "        [5.8609578e-07],\n",
       "        [3.0414495e-07],\n",
       "        [3.9961933e-06]],\n",
       "\n",
       "       [[1.5023425e-06],\n",
       "        [5.6999574e-09],\n",
       "        [1.8408802e-07],\n",
       "        [6.4777885e-07],\n",
       "        [6.4779863e-07],\n",
       "        [6.4715829e-07],\n",
       "        [6.4662220e-07],\n",
       "        [6.4069860e-07],\n",
       "        [6.3768186e-07],\n",
       "        [6.2825552e-07],\n",
       "        [6.2915245e-07],\n",
       "        [6.5556969e-07],\n",
       "        [6.5989650e-07],\n",
       "        [8.1923389e-07],\n",
       "        [9.1380105e-07],\n",
       "        [1.4098298e-06],\n",
       "        [2.0846273e-06],\n",
       "        [2.9532503e-06],\n",
       "        [2.8262391e-06],\n",
       "        [1.5357651e-06],\n",
       "        [9.4087073e-07],\n",
       "        [5.9006140e-07],\n",
       "        [6.1093408e-07],\n",
       "        [6.4748423e-07],\n",
       "        [6.4511067e-07],\n",
       "        [5.8609578e-07],\n",
       "        [3.0414495e-07],\n",
       "        [3.9961933e-06]],\n",
       "\n",
       "       [[1.5023425e-06],\n",
       "        [5.7002398e-09],\n",
       "        [1.8410137e-07],\n",
       "        [6.4837212e-07],\n",
       "        [6.4865418e-07],\n",
       "        [6.4718790e-07],\n",
       "        [6.4531804e-07],\n",
       "        [6.3200287e-07],\n",
       "        [6.2231027e-07],\n",
       "        [6.0965885e-07],\n",
       "        [6.0349811e-07],\n",
       "        [6.8422605e-07],\n",
       "        [7.4515731e-07],\n",
       "        [1.1164456e-06],\n",
       "        [1.3867882e-06],\n",
       "        [2.1127901e-06],\n",
       "        [3.0224630e-06],\n",
       "        [3.1771920e-06],\n",
       "        [2.5894726e-06],\n",
       "        [1.3970000e-06],\n",
       "        [8.6474051e-07],\n",
       "        [5.9881995e-07],\n",
       "        [6.3162213e-07],\n",
       "        [6.4732683e-07],\n",
       "        [6.4648776e-07],\n",
       "        [5.8609578e-07],\n",
       "        [3.0414495e-07],\n",
       "        [3.9961933e-06]],\n",
       "\n",
       "       [[1.5028742e-06],\n",
       "        [5.6817542e-09],\n",
       "        [1.8323330e-07],\n",
       "        [6.3892003e-07],\n",
       "        [6.3700958e-07],\n",
       "        [6.2821414e-07],\n",
       "        [6.2981644e-07],\n",
       "        [6.4161151e-07],\n",
       "        [6.5107997e-07],\n",
       "        [7.3800874e-07],\n",
       "        [7.8847563e-07],\n",
       "        [1.0629684e-06],\n",
       "        [1.2685923e-06],\n",
       "        [1.8245397e-06],\n",
       "        [2.2055312e-06],\n",
       "        [2.5432316e-06],\n",
       "        [2.7835797e-06],\n",
       "        [2.1865151e-06],\n",
       "        [1.6179213e-06],\n",
       "        [9.9513841e-07],\n",
       "        [7.4822646e-07],\n",
       "        [6.0045141e-07],\n",
       "        [6.3261263e-07],\n",
       "        [6.4845688e-07],\n",
       "        [6.4751822e-07],\n",
       "        [5.8609578e-07],\n",
       "        [3.0414495e-07],\n",
       "        [3.9961933e-06]],\n",
       "\n",
       "       [[1.5041157e-06],\n",
       "        [5.6666027e-09],\n",
       "        [1.8205944e-07],\n",
       "        [6.2740946e-07],\n",
       "        [6.1851529e-07],\n",
       "        [6.0698267e-07],\n",
       "        [5.9784702e-07],\n",
       "        [6.5358086e-07],\n",
       "        [6.9185785e-07],\n",
       "        [9.4408125e-07],\n",
       "        [1.2036935e-06],\n",
       "        [1.9184722e-06],\n",
       "        [2.6085206e-06],\n",
       "        [3.2432938e-06],\n",
       "        [3.1845696e-06],\n",
       "        [2.5352865e-06],\n",
       "        [2.0126038e-06],\n",
       "        [1.2673227e-06],\n",
       "        [9.4807018e-07],\n",
       "        [6.8642538e-07],\n",
       "        [6.1960458e-07],\n",
       "        [5.9769485e-07],\n",
       "        [6.4214902e-07],\n",
       "        [6.4885222e-07],\n",
       "        [6.4715090e-07],\n",
       "        [5.8609578e-07],\n",
       "        [3.0414495e-07],\n",
       "        [3.9961933e-06]],\n",
       "\n",
       "       [[1.5042507e-06],\n",
       "        [5.6788942e-09],\n",
       "        [1.8304169e-07],\n",
       "        [6.5880994e-07],\n",
       "        [6.6820388e-07],\n",
       "        [7.6177338e-07],\n",
       "        [8.1834060e-07],\n",
       "        [1.0435775e-06],\n",
       "        [1.1802545e-06],\n",
       "        [1.6194001e-06],\n",
       "        [2.0264358e-06],\n",
       "        [2.5725308e-06],\n",
       "        [2.8154759e-06],\n",
       "        [2.4342487e-06],\n",
       "        [1.9668707e-06],\n",
       "        [1.3533618e-06],\n",
       "        [1.1073802e-06],\n",
       "        [8.0984245e-07],\n",
       "        [7.2666813e-07],\n",
       "        [6.4675413e-07],\n",
       "        [6.3158484e-07],\n",
       "        [6.3795619e-07],\n",
       "        [6.5470437e-07],\n",
       "        [6.4779061e-07],\n",
       "        [6.4734593e-07],\n",
       "        [5.8609578e-07],\n",
       "        [3.0414495e-07],\n",
       "        [3.9961933e-06]],\n",
       "\n",
       "       [[1.5064386e-06],\n",
       "        [5.7241767e-09],\n",
       "        [1.8500496e-07],\n",
       "        [7.0958788e-07],\n",
       "        [7.6824824e-07],\n",
       "        [1.0897357e-06],\n",
       "        [1.4077876e-06],\n",
       "        [2.1042540e-06],\n",
       "        [2.6143757e-06],\n",
       "        [3.2332603e-06],\n",
       "        [3.3659915e-06],\n",
       "        [2.8406012e-06],\n",
       "        [2.1636358e-06],\n",
       "        [1.3082240e-06],\n",
       "        [9.7959719e-07],\n",
       "        [7.2936342e-07],\n",
       "        [6.6720543e-07],\n",
       "        [6.1306378e-07],\n",
       "        [6.3139868e-07],\n",
       "        [6.2628675e-07],\n",
       "        [6.3966257e-07],\n",
       "        [6.4396369e-07],\n",
       "        [6.4849706e-07],\n",
       "        [6.4827697e-07],\n",
       "        [6.4769665e-07],\n",
       "        [5.8609578e-07],\n",
       "        [3.0414495e-07],\n",
       "        [3.9961933e-06]],\n",
       "\n",
       "       [[1.5054964e-06],\n",
       "        [5.7822911e-09],\n",
       "        [1.8785315e-07],\n",
       "        [7.7742277e-07],\n",
       "        [9.2360762e-07],\n",
       "        [1.4178767e-06],\n",
       "        [1.8101771e-06],\n",
       "        [2.3779526e-06],\n",
       "        [2.5526108e-06],\n",
       "        [2.4678311e-06],\n",
       "        [2.2009424e-06],\n",
       "        [1.5800172e-06],\n",
       "        [1.2085211e-06],\n",
       "        [8.1344405e-07],\n",
       "        [7.2237185e-07],\n",
       "        [6.3595104e-07],\n",
       "        [6.2342048e-07],\n",
       "        [6.2855275e-07],\n",
       "        [6.3814053e-07],\n",
       "        [6.4284387e-07],\n",
       "        [6.5017275e-07],\n",
       "        [6.4659935e-07],\n",
       "        [6.4705824e-07],\n",
       "        [6.4732745e-07],\n",
       "        [6.4718915e-07],\n",
       "        [5.8609578e-07],\n",
       "        [3.0414495e-07],\n",
       "        [3.9961933e-06]],\n",
       "\n",
       "       [[1.5005054e-06],\n",
       "        [5.8036829e-09],\n",
       "        [1.8915037e-07],\n",
       "        [8.2965698e-07],\n",
       "        [1.0379895e-06],\n",
       "        [1.4752318e-06],\n",
       "        [1.6975763e-06],\n",
       "        [1.7718754e-06],\n",
       "        [1.5778625e-06],\n",
       "        [1.2396782e-06],\n",
       "        [1.0489156e-06],\n",
       "        [7.9874741e-07],\n",
       "        [6.8966159e-07],\n",
       "        [6.1569864e-07],\n",
       "        [6.3284068e-07],\n",
       "        [6.2585508e-07],\n",
       "        [6.4202595e-07],\n",
       "        [6.4200208e-07],\n",
       "        [6.4530263e-07],\n",
       "        [6.4857562e-07],\n",
       "        [6.4835797e-07],\n",
       "        [6.4732865e-07],\n",
       "        [6.4722241e-07],\n",
       "        [6.4742125e-07],\n",
       "        [6.4732745e-07],\n",
       "        [5.8609578e-07],\n",
       "        [3.0414495e-07],\n",
       "        [3.9961933e-06]],\n",
       "\n",
       "       [[1.2263345e-06],\n",
       "        [5.6909304e-09],\n",
       "        [1.7789991e-07],\n",
       "        [9.0051202e-07],\n",
       "        [9.9929821e-07],\n",
       "        [1.1748594e-06],\n",
       "        [1.2536897e-06],\n",
       "        [1.2174712e-06],\n",
       "        [1.1433508e-06],\n",
       "        [9.6580436e-07],\n",
       "        [8.9904893e-07],\n",
       "        [7.8072753e-07],\n",
       "        [7.3952276e-07],\n",
       "        [7.3723498e-07],\n",
       "        [7.4975156e-07],\n",
       "        [7.5375340e-07],\n",
       "        [7.6262745e-07],\n",
       "        [7.5823493e-07],\n",
       "        [7.5913715e-07],\n",
       "        [7.5926164e-07],\n",
       "        [7.5914221e-07],\n",
       "        [7.5928273e-07],\n",
       "        [7.5928057e-07],\n",
       "        [7.5928199e-07],\n",
       "        [7.5928199e-07],\n",
       "        [1.0489535e-06],\n",
       "        [5.5037606e-07],\n",
       "        [5.2261876e-06]],\n",
       "\n",
       "       [[7.0945862e-07],\n",
       "        [3.7771408e-09],\n",
       "        [1.4125359e-07],\n",
       "        [2.9988485e-07],\n",
       "        [2.9797309e-07],\n",
       "        [3.0176051e-07],\n",
       "        [3.0173922e-07],\n",
       "        [2.9579132e-07],\n",
       "        [2.9520743e-07],\n",
       "        [2.8867188e-07],\n",
       "        [2.9162351e-07],\n",
       "        [2.8333858e-07],\n",
       "        [2.8559870e-07],\n",
       "        [2.8533518e-07],\n",
       "        [2.8773519e-07],\n",
       "        [2.8912041e-07],\n",
       "        [2.8902917e-07],\n",
       "        [2.8860717e-07],\n",
       "        [2.8854720e-07],\n",
       "        [2.8859426e-07],\n",
       "        [2.8855931e-07],\n",
       "        [2.8855078e-07],\n",
       "        [2.8855052e-07],\n",
       "        [2.8855052e-07],\n",
       "        [2.8855052e-07],\n",
       "        [6.8040447e-07],\n",
       "        [6.0443182e-07],\n",
       "        [9.1414522e-06]],\n",
       "\n",
       "       [[4.0883842e-04],\n",
       "        [2.6298714e-05],\n",
       "        [8.4370768e-05],\n",
       "        [6.4573600e-05],\n",
       "        [6.4387168e-05],\n",
       "        [6.3370506e-05],\n",
       "        [6.3276668e-05],\n",
       "        [6.3005777e-05],\n",
       "        [6.2922081e-05],\n",
       "        [6.3838881e-05],\n",
       "        [6.4146378e-05],\n",
       "        [6.4703359e-05],\n",
       "        [6.5021966e-05],\n",
       "        [6.5035732e-05],\n",
       "        [6.5192769e-05],\n",
       "        [6.5178909e-05],\n",
       "        [6.5170825e-05],\n",
       "        [6.5182387e-05],\n",
       "        [6.5181644e-05],\n",
       "        [6.5182328e-05],\n",
       "        [6.5182328e-05],\n",
       "        [6.5182328e-05],\n",
       "        [6.5182328e-05],\n",
       "        [6.5182328e-05],\n",
       "        [6.5182328e-05],\n",
       "        [1.2269399e-04],\n",
       "        [1.0026392e-04],\n",
       "        [5.1857723e-04]]], dtype=float32)>"
      ]
     },
     "execution_count": 405,
     "metadata": {},
     "output_type": "execute_result"
    }
   ],
   "source": [
    "result[0]"
   ]
  },
  {
   "cell_type": "code",
   "execution_count": 404,
   "id": "3dded8e9",
   "metadata": {},
   "outputs": [
    {
     "data": {
      "text/plain": [
       "<matplotlib.image.AxesImage at 0x1a69f634b20>"
      ]
     },
     "execution_count": 404,
     "metadata": {},
     "output_type": "execute_result"
    },
    {
     "data": {
      "image/png": "[encoded data removed]",
      "text/plain": [
       "<Figure size 432x288 with 1 Axes>"
      ]
     },
     "metadata": {
      "needs_background": "light"
     },
     "output_type": "display_data"
    }
   ],
   "source": [
    "plt.imshow(result[0], cmap='gray')"
   ]
  },
  {
   "cell_type": "code",
   "execution_count": null,
   "id": "18a5ca51",
   "metadata": {},
   "outputs": [],
   "source": []
  },
  {
   "cell_type": "code",
   "execution_count": null,
   "id": "fc44e303",
   "metadata": {},
   "outputs": [],
   "source": []
  },
  {
   "cell_type": "markdown",
   "id": "3f990aeb",
   "metadata": {},
   "source": [
    "# type1"
   ]
  },
  {
   "cell_type": "code",
   "execution_count": null,
   "id": "d2b1e137",
   "metadata": {},
   "outputs": [],
   "source": [
    "단순 계산으로 크게 "
   ]
  },
  {
   "cell_type": "code",
   "execution_count": 284,
   "id": "788e5f7d",
   "metadata": {},
   "outputs": [],
   "source": [
    "import numpy as np"
   ]
  },
  {
   "cell_type": "code",
   "execution_count": 285,
   "id": "e63dcd67",
   "metadata": {},
   "outputs": [],
   "source": [
    "a = np.array([[1,2],[3,4]])"
   ]
  },
  {
   "cell_type": "code",
   "execution_count": 288,
   "id": "6d0cb464",
   "metadata": {},
   "outputs": [
    {
     "data": {
      "text/plain": [
       "array([[1, 2],\n",
       "       [3, 4]])"
      ]
     },
     "execution_count": 288,
     "metadata": {},
     "output_type": "execute_result"
    }
   ],
   "source": [
    "a"
   ]
  },
  {
   "cell_type": "code",
   "execution_count": 286,
   "id": "e9535bdc",
   "metadata": {},
   "outputs": [],
   "source": [
    "x = np.tile(a, (2,2))"
   ]
  },
  {
   "cell_type": "code",
   "execution_count": null,
   "id": "05def639",
   "metadata": {},
   "outputs": [],
   "source": [
    "np.repeat(a, 2)"
   ]
  },
  {
   "cell_type": "code",
   "execution_count": 295,
   "id": "3378f1bb",
   "metadata": {},
   "outputs": [
    {
     "data": {
      "text/plain": [
       "array([[1, 1, 2, 2],\n",
       "       [1, 1, 2, 2],\n",
       "       [3, 3, 4, 4],\n",
       "       [3, 3, 4, 4]])"
      ]
     },
     "execution_count": 295,
     "metadata": {},
     "output_type": "execute_result"
    }
   ],
   "source": [
    "a.repeat(2, axis=0).repeat(2,axis=1)"
   ]
  },
  {
   "cell_type": "code",
   "execution_count": 344,
   "id": "bed75132",
   "metadata": {},
   "outputs": [],
   "source": [
    "up = tf.keras.layers.UpSampling2D((2.6,1))"
   ]
  },
  {
   "cell_type": "code",
   "execution_count": 345,
   "id": "f4b62f89",
   "metadata": {},
   "outputs": [],
   "source": [
    "a4 = a.reshape(1,2,2,1)"
   ]
  },
  {
   "cell_type": "code",
   "execution_count": 346,
   "id": "d5efba3f",
   "metadata": {},
   "outputs": [
    {
     "data": {
      "text/plain": [
       "<tf.Tensor: shape=(1, 4, 2, 1), dtype=int32, numpy=\n",
       "array([[[[1],\n",
       "         [2]],\n",
       "\n",
       "        [[1],\n",
       "         [2]],\n",
       "\n",
       "        [[3],\n",
       "         [4]],\n",
       "\n",
       "        [[3],\n",
       "         [4]]]])>"
      ]
     },
     "execution_count": 346,
     "metadata": {},
     "output_type": "execute_result"
    }
   ],
   "source": [
    "up(a4)"
   ]
  },
  {
   "cell_type": "code",
   "execution_count": null,
   "id": "bd2d3bfb",
   "metadata": {},
   "outputs": [],
   "source": []
  },
  {
   "cell_type": "code",
   "execution_count": null,
   "id": "4c73757a",
   "metadata": {},
   "outputs": [],
   "source": []
  },
  {
   "cell_type": "markdown",
   "id": "e7cab3f8",
   "metadata": {},
   "source": [
    "# type2"
   ]
  },
  {
   "cell_type": "code",
   "execution_count": 282,
   "id": "a75006a0",
   "metadata": {},
   "outputs": [],
   "source": [
    "model = tf.keras.Model(input_, x)"
   ]
  },
  {
   "cell_type": "code",
   "execution_count": 283,
   "id": "805011f7",
   "metadata": {},
   "outputs": [
    {
     "name": "stdout",
     "output_type": "stream",
     "text": [
      "Model: \"model_10\"\n",
      "_________________________________________________________________\n",
      " Layer (type)                Output Shape              Param #   \n",
      "=================================================================\n",
      " input_9 (InputLayer)        [(None, 28, 28, 1)]       0         \n",
      "                                                                 \n",
      " conv2d_7 (Conv2D)           (None, 26, 26, 32)        320       \n",
      "                                                                 \n",
      " conv2d_8 (Conv2D)           (None, 24, 24, 64)        18496     \n",
      "                                                                 \n",
      " conv2d_9 (Conv2D)           (None, 24, 24, 1)         577       \n",
      "                                                                 \n",
      "=================================================================\n",
      "Total params: 19,393\n",
      "Trainable params: 19,393\n",
      "Non-trainable params: 0\n",
      "_________________________________________________________________\n"
     ]
    }
   ],
   "source": [
    "model.summary()"
   ]
  },
  {
   "cell_type": "code",
   "execution_count": null,
   "id": "292bd372",
   "metadata": {},
   "outputs": [],
   "source": []
  },
  {
   "cell_type": "code",
   "execution_count": null,
   "id": "0bfe2630",
   "metadata": {},
   "outputs": [],
   "source": []
  }
 ],
 "metadata": {
  "kernelspec": {
   "display_name": "Python 3 (ipykernel)",
   "language": "python",
   "name": "python3"
  },
  "language_info": {
   "codemirror_mode": {
    "name": "ipython",
    "version": 3
   },
   "file_extension": ".py",
   "mimetype": "text/x-python",
   "name": "python",
   "nbconvert_exporter": "python",
   "pygments_lexer": "ipython3",
   "version": "3.9.7"
  }
 },
 "nbformat": 4,
 "nbformat_minor": 5
}
