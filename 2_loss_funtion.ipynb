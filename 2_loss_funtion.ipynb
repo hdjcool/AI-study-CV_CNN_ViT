{
 "cells": [
  {
   "cell_type": "code",
   "execution_count": 1,
   "id": "c0588449",
   "metadata": {},
   "outputs": [],
   "source": [
    "import tensorflow as tf"
   ]
  },
  {
   "cell_type": "code",
   "execution_count": 44,
   "id": "424879da",
   "metadata": {},
   "outputs": [],
   "source": [
    "(X_train, y_train), (X_test, y_test) = tf.keras.datasets.mnist.load_data()"
   ]
  },
  {
   "cell_type": "code",
   "execution_count": null,
   "id": "1fa55181",
   "metadata": {},
   "outputs": [],
   "source": [
    "tf.nn.sigmoid_cross_entropy_with_logits\n",
    "\n",
    "# logit : activation 들어가기 전에 결과값"
   ]
  },
  {
   "cell_type": "code",
   "execution_count": null,
   "id": "53f6c471",
   "metadata": {},
   "outputs": [],
   "source": [
    "tf.keras.losses.binary_crossentropy # 함수 : 함수형 패러다임\n",
    "tf.keras.losses.BinaryCrossentropy # 클래스 : 객체지향(함수형 패러다임 숨어 있음)"
   ]
  },
  {
   "cell_type": "code",
   "execution_count": null,
   "id": "73146dbf",
   "metadata": {},
   "outputs": [],
   "source": [
    "model = tf.keras.models.Sequential([\n",
    "  tf.keras.layers.Flatten(input_shape=(28, 28)),\n",
    "  tf.keras.layers.Dense(128, activation='relu'),\n",
    "  tf.keras.layers.Dense(10) # softmax 는 numerical stability 보장 안됨: \n",
    "                            # softmax 안쓴다는 것은 logit 개념으로 softmax 들어가기 전에 값을 가지고 와서 사용 한다는 의미, \n",
    "                            # 논리니어티가 아니라 readout\n",
    "                            # tf.nn.sigmoid_cross_entropy_with_logits 사용하면 numerical stability 보장 되기 때문에 \n",
    "])"
   ]
  },
  {
   "cell_type": "code",
   "execution_count": 46,
   "id": "31d04f94",
   "metadata": {},
   "outputs": [],
   "source": [
    "input_ = tf.keras.Input((28,28))\n",
    "x = tf.keras.layers.Flatten()(input_)\n",
    "x = tf.keras.layers.Dense(128, activation='relu')(x)\n",
    "x = tf.keras.layers.Dense(10)(x)"
   ]
  },
  {
   "cell_type": "code",
   "execution_count": 47,
   "id": "7f178f84",
   "metadata": {},
   "outputs": [],
   "source": [
    "model = tf.keras.Model(input_, x)"
   ]
  },
  {
   "cell_type": "code",
   "execution_count": 4,
   "id": "0618aa43",
   "metadata": {
    "collapsed": true
   },
   "outputs": [
    {
     "name": "stdout",
     "output_type": "stream",
     "text": [
      "Model: \"model\"\n",
      "_________________________________________________________________\n",
      " Layer (type)                Output Shape              Param #   \n",
      "=================================================================\n",
      " input_1 (InputLayer)        [(None, 28, 28)]          0         \n",
      "                                                                 \n",
      " flatten (Flatten)           (None, 784)               0         \n",
      "                                                                 \n",
      " dense (Dense)               (None, 128)               100480    \n",
      "                                                                 \n",
      " dense_1 (Dense)             (None, 10)                1290      \n",
      "                                                                 \n",
      "=================================================================\n",
      "Total params: 101,770\n",
      "Trainable params: 101,770\n",
      "Non-trainable params: 0\n",
      "_________________________________________________________________\n"
     ]
    }
   ],
   "source": [
    "model.summary()"
   ]
  },
  {
   "cell_type": "code",
   "execution_count": 13,
   "id": "10408a6b",
   "metadata": {},
   "outputs": [],
   "source": [
    "# 1. argument 변경시\n",
    "loss1 = tf.keras.losses.SparseCategoricalCrossentropy(from_logits=True)"
   ]
  },
  {
   "cell_type": "code",
   "execution_count": null,
   "id": "78f87e60",
   "metadata": {},
   "outputs": [],
   "source": [
    "# 2. () 없이 > agument 변경할려면 \n",
    "# 2-1. agument 변경할려면 partial 테크닉\n",
    "# 2-2. nested function\n",
    "loss = tf.keras.losses.sparse_categorical_crossentropy"
   ]
  },
  {
   "cell_type": "code",
   "execution_count": 14,
   "id": "d3857822",
   "metadata": {},
   "outputs": [],
   "source": [
    "from functools import partial\n",
    "loss2 = partial(tf.keras.losses.sparse_categorical_crossentropy, from_logits=True)"
   ]
  },
  {
   "cell_type": "code",
   "execution_count": 15,
   "id": "a8775b78",
   "metadata": {},
   "outputs": [],
   "source": [
    "def loss3(from_logits=True):\n",
    "    def y(y_true, y_pred):\n",
    "        return tf.keras.losses.sparse_categorical_crossentropy(y_true, y_pred, from_logits=from_logits)\n",
    "    return y"
   ]
  },
  {
   "cell_type": "code",
   "execution_count": null,
   "id": "e82328e1",
   "metadata": {},
   "outputs": [],
   "source": [
    "# 3. string\n",
    "model6.compile(loss='sparse_categorical_crossentropy')"
   ]
  },
  {
   "cell_type": "code",
   "execution_count": 16,
   "id": "e837e50c",
   "metadata": {},
   "outputs": [],
   "source": [
    "loss4 = tf.nn.softmax_cross_entropy_with_logits # one-hot encoding 가정\n",
    "# = tf.keras.losses.CategoricalCrossentropy"
   ]
  },
  {
   "cell_type": "code",
   "execution_count": 17,
   "id": "55a26c2a",
   "metadata": {},
   "outputs": [],
   "source": [
    "model.compile(loss=loss1)"
   ]
  },
  {
   "cell_type": "code",
   "execution_count": 22,
   "id": "620ccb4f",
   "metadata": {},
   "outputs": [
    {
     "name": "stdout",
     "output_type": "stream",
     "text": [
      "1875/1875 [==============================] - 14s 6ms/step - loss: 496111.7812\n"
     ]
    },
    {
     "data": {
      "text/plain": [
       "<keras.callbacks.History at 0x1cd09de8850>"
      ]
     },
     "execution_count": 22,
     "metadata": {},
     "output_type": "execute_result"
    }
   ],
   "source": [
    "model.fit(X_train, y_train)"
   ]
  },
  {
   "cell_type": "code",
   "execution_count": 26,
   "id": "2de6ce5c",
   "metadata": {},
   "outputs": [],
   "source": [
    "model.compile(loss=loss2)"
   ]
  },
  {
   "cell_type": "code",
   "execution_count": 27,
   "id": "36e5b2e3",
   "metadata": {},
   "outputs": [
    {
     "name": "stdout",
     "output_type": "stream",
     "text": [
      "1875/1875 [==============================] - 11s 6ms/step - loss: 2.7764\n"
     ]
    },
    {
     "data": {
      "text/plain": [
       "<keras.callbacks.History at 0x1cd17ed9d60>"
      ]
     },
     "execution_count": 27,
     "metadata": {},
     "output_type": "execute_result"
    }
   ],
   "source": [
    "model.fit(X_train, y_train)"
   ]
  },
  {
   "cell_type": "code",
   "execution_count": 30,
   "id": "039a4fbf",
   "metadata": {},
   "outputs": [],
   "source": [
    "model.compile(loss=loss3())"
   ]
  },
  {
   "cell_type": "code",
   "execution_count": 31,
   "id": "72b071b3",
   "metadata": {},
   "outputs": [
    {
     "name": "stdout",
     "output_type": "stream",
     "text": [
      "1875/1875 [==============================] - 11s 6ms/step - loss: 2.6502\n"
     ]
    },
    {
     "data": {
      "text/plain": [
       "<keras.callbacks.History at 0x1cc97e62730>"
      ]
     },
     "execution_count": 31,
     "metadata": {},
     "output_type": "execute_result"
    }
   ],
   "source": [
    "model.fit(X_train, y_train)"
   ]
  },
  {
   "cell_type": "code",
   "execution_count": 34,
   "id": "5c46bd5a",
   "metadata": {},
   "outputs": [],
   "source": [
    "model.compile(loss=loss4)"
   ]
  },
  {
   "cell_type": "code",
   "execution_count": 35,
   "id": "f8681b88",
   "metadata": {},
   "outputs": [
    {
     "name": "stdout",
     "output_type": "stream",
     "text": [
      "1875/1875 [==============================] - 12s 6ms/step - loss: 733138.9375\n"
     ]
    },
    {
     "data": {
      "text/plain": [
       "<keras.callbacks.History at 0x1cc97f27910>"
      ]
     },
     "execution_count": 35,
     "metadata": {},
     "output_type": "execute_result"
    }
   ],
   "source": [
    "model.fit(X_train, y_train) # loss4"
   ]
  },
  {
   "cell_type": "code",
   "execution_count": 40,
   "id": "ed3cd36c",
   "metadata": {},
   "outputs": [
    {
     "name": "stdout",
     "output_type": "stream",
     "text": [
      "Epoch 1/5\n",
      "1875/1875 [==============================] - 12s 6ms/step - loss: 3.8974\n",
      "Epoch 2/5\n",
      "1875/1875 [==============================] - 11s 6ms/step - loss: 2.3095\n",
      "Epoch 3/5\n",
      "1875/1875 [==============================] - 11s 6ms/step - loss: 2.3037\n",
      "Epoch 4/5\n",
      "1875/1875 [==============================] - 11s 6ms/step - loss: 2.3026\n",
      "Epoch 5/5\n",
      "1875/1875 [==============================] - 12s 6ms/step - loss: 2.3026\n"
     ]
    },
    {
     "data": {
      "text/plain": [
       "<keras.callbacks.History at 0x1cd11c5cdc0>"
      ]
     },
     "execution_count": 40,
     "metadata": {},
     "output_type": "execute_result"
    }
   ],
   "source": [
    "loss5 = tf.keras.losses.SparseCategoricalCrossentropy(from_logits=False) # softmax 안쓰고 false 값을 쓰면 loss 학습이 잘 안됨 아래 loss1 비교\n",
    "model.compile(loss=loss5)\n",
    "model.fit(X_train, y_train, epochs=5)"
   ]
  },
  {
   "cell_type": "code",
   "execution_count": 43,
   "id": "5b22574c",
   "metadata": {},
   "outputs": [
    {
     "name": "stdout",
     "output_type": "stream",
     "text": [
      "Epoch 1/5\n",
      "1875/1875 [==============================] - 12s 6ms/step - loss: 3.0797\n",
      "Epoch 2/5\n",
      "1875/1875 [==============================] - 11s 6ms/step - loss: 0.5858\n",
      "Epoch 3/5\n",
      "1875/1875 [==============================] - 11s 6ms/step - loss: 0.4708\n",
      "Epoch 4/5\n",
      "1875/1875 [==============================] - 10s 5ms/step - loss: 0.4371\n",
      "Epoch 5/5\n",
      "1875/1875 [==============================] - 10s 5ms/step - loss: 0.3952\n"
     ]
    },
    {
     "data": {
      "text/plain": [
       "<keras.callbacks.History at 0x1cd225b9c70>"
      ]
     },
     "execution_count": 43,
     "metadata": {},
     "output_type": "execute_result"
    }
   ],
   "source": [
    "loss1 = tf.keras.losses.SparseCategoricalCrossentropy(from_logits=True)\n",
    "model.compile(loss=loss1)\n",
    "model.fit(X_train, y_train, epochs=5)"
   ]
  },
  {
   "cell_type": "code",
   "execution_count": 45,
   "id": "b86beb31",
   "metadata": {},
   "outputs": [],
   "source": [
    "X_train = X_train / 255.0 # min max normalization 했을 때 loss 값 시작이 0.25 위에 안했을 때는 3.07"
   ]
  },
  {
   "cell_type": "code",
   "execution_count": 48,
   "id": "941b9f12",
   "metadata": {},
   "outputs": [
    {
     "name": "stdout",
     "output_type": "stream",
     "text": [
      "Epoch 1/5\n",
      "1875/1875 [==============================] - 12s 6ms/step - loss: 0.2545\n",
      "Epoch 2/5\n",
      "1875/1875 [==============================] - 11s 6ms/step - loss: 0.1194\n",
      "Epoch 3/5\n",
      "1875/1875 [==============================] - 10s 5ms/step - loss: 0.0877\n",
      "Epoch 4/5\n",
      "1875/1875 [==============================] - 9s 5ms/step - loss: 0.0717\n",
      "Epoch 5/5\n",
      "1875/1875 [==============================] - 9s 5ms/step - loss: 0.0611\n"
     ]
    },
    {
     "data": {
      "text/plain": [
       "<keras.callbacks.History at 0x1cd263b7cd0>"
      ]
     },
     "execution_count": 48,
     "metadata": {},
     "output_type": "execute_result"
    }
   ],
   "source": [
    "loss1 = tf.keras.losses.SparseCategoricalCrossentropy(from_logits=True)\n",
    "model.compile(loss=loss1)\n",
    "model.fit(X_train, y_train, epochs=5)"
   ]
  }
 ],
 "metadata": {
  "kernelspec": {
   "display_name": "Python 3 (ipykernel)",
   "language": "python",
   "name": "python3"
  },
  "language_info": {
   "codemirror_mode": {
    "name": "ipython",
    "version": 3
   },
   "file_extension": ".py",
   "mimetype": "text/x-python",
   "name": "python",
   "nbconvert_exporter": "python",
   "pygments_lexer": "ipython3",
   "version": "3.9.7"
  }
 },
 "nbformat": 4,
 "nbformat_minor": 5
}
