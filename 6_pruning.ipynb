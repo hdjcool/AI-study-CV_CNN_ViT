{
 "cells": [
  {
   "cell_type": "code",
   "execution_count": 1,
   "id": "b4a0e20a",
   "metadata": {},
   "outputs": [],
   "source": [
    "import tensorflow_model_optimization as tfmot"
   ]
  },
  {
   "cell_type": "code",
   "execution_count": 2,
   "id": "99455823",
   "metadata": {},
   "outputs": [],
   "source": [
    "import tensorflow as tf"
   ]
  },
  {
   "cell_type": "code",
   "execution_count": 3,
   "id": "3c2c4da2",
   "metadata": {},
   "outputs": [],
   "source": [
    "(X_train,y_train),(X_test,y_test) = tf.keras.datasets.mnist.load_data()"
   ]
  },
  {
   "cell_type": "code",
   "execution_count": 4,
   "id": "124ccf47",
   "metadata": {},
   "outputs": [
    {
     "name": "stdout",
     "output_type": "stream",
     "text": [
      "Metal device set to: Apple M1\n"
     ]
    },
    {
     "name": "stderr",
     "output_type": "stream",
     "text": [
      "2022-10-25 20:40:22.654100: I tensorflow/core/common_runtime/pluggable_device/pluggable_device_factory.cc:305] Could not identify NUMA node of platform GPU ID 0, defaulting to 0. Your kernel may not have been built with NUMA support.\n",
      "2022-10-25 20:40:22.654178: I tensorflow/core/common_runtime/pluggable_device/pluggable_device_factory.cc:271] Created TensorFlow device (/job:localhost/replica:0/task:0/device:GPU:0 with 0 MB memory) -> physical PluggableDevice (device: 0, name: METAL, pci bus id: <undefined>)\n"
     ]
    }
   ],
   "source": [
    "model = tf.keras.Sequential([\n",
    "    tf.keras.layers.InputLayer(input_shape=(28,28)),\n",
    "    tf.keras.layers.Reshape((28,28,1)),\n",
    "    tf.keras.layers.Conv2D(12,3, activation='relu'),\n",
    "    tf.keras.layers.Flatten(),\n",
    "    tf.keras.layers.Dense(10)\n",
    "])"
   ]
  },
  {
   "cell_type": "code",
   "execution_count": 5,
   "id": "d4fcdb55",
   "metadata": {},
   "outputs": [],
   "source": [
    "model.compile(loss=tf.keras.losses.SparseCategoricalCrossentropy(from_logits=True))"
   ]
  },
  {
   "cell_type": "code",
   "execution_count": 6,
   "id": "45596211",
   "metadata": {},
   "outputs": [
    {
     "name": "stdout",
     "output_type": "stream",
     "text": [
      "Epoch 1/5\n"
     ]
    },
    {
     "name": "stderr",
     "output_type": "stream",
     "text": [
      "2022-10-25 20:40:23.244459: W tensorflow/core/platform/profile_utils/cpu_utils.cc:128] Failed to get CPU frequency: 0 Hz\n",
      "2022-10-25 20:40:23.438857: I tensorflow/core/grappler/optimizers/custom_graph_optimizer_registry.cc:113] Plugin optimizer for device_type GPU is enabled.\n"
     ]
    },
    {
     "name": "stdout",
     "output_type": "stream",
     "text": [
      "1875/1875 [==============================] - 9s 4ms/step - loss: 1.4065\n",
      "Epoch 2/5\n",
      "1875/1875 [==============================] - 7s 4ms/step - loss: 0.0989\n",
      "Epoch 3/5\n",
      "1875/1875 [==============================] - 7s 4ms/step - loss: 0.0894\n",
      "Epoch 4/5\n",
      "1875/1875 [==============================] - 7s 4ms/step - loss: 0.0893\n",
      "Epoch 5/5\n",
      "1875/1875 [==============================] - 7s 4ms/step - loss: 0.0884\n"
     ]
    },
    {
     "data": {
      "text/plain": [
       "<keras.callbacks.History at 0x166221400>"
      ]
     },
     "execution_count": 6,
     "metadata": {},
     "output_type": "execute_result"
    }
   ],
   "source": [
    "model.fit(X_train,y_train,epochs=5)"
   ]
  },
  {
   "cell_type": "code",
   "execution_count": 8,
   "id": "60f01fc0",
   "metadata": {},
   "outputs": [],
   "source": [
    "import tensorflow_model_optimization as tfmot\n",
    "\n",
    "prune_low_magnitude = tfmot.sparsity.keras.prune_low_magnitude"
   ]
  },
  {
   "cell_type": "code",
   "execution_count": 23,
   "id": "2428de5b",
   "metadata": {},
   "outputs": [],
   "source": [
    "sp_model = tfmot.sparsity.keras.strip_pruning(model) # gzip 압축 방식을 이용해서"
   ]
  },
  {
   "cell_type": "code",
   "execution_count": 26,
   "id": "16c1b340",
   "metadata": {},
   "outputs": [],
   "source": [
    "import tempfile"
   ]
  },
  {
   "cell_type": "code",
   "execution_count": 27,
   "id": "5baa8a90",
   "metadata": {},
   "outputs": [],
   "source": [
    "_,x = tempfile.mkstemp('.h5')"
   ]
  },
  {
   "cell_type": "code",
   "execution_count": 28,
   "id": "61cfecc6",
   "metadata": {},
   "outputs": [
    {
     "data": {
      "text/plain": [
       "'/var/folders/9k/jsf_2t1d6ts48d1mpfj3nxp00000gn/T/tmpy5wq79qq.h5'"
      ]
     },
     "execution_count": 28,
     "metadata": {},
     "output_type": "execute_result"
    }
   ],
   "source": [
    "x"
   ]
  },
  {
   "cell_type": "code",
   "execution_count": 29,
   "id": "7ee0fcc7",
   "metadata": {},
   "outputs": [
    {
     "name": "stdout",
     "output_type": "stream",
     "text": [
      "WARNING:tensorflow:Compiled the loaded model, but the compiled metrics have yet to be built. `model.compile_metrics` will be empty until you train or evaluate the model.\n"
     ]
    }
   ],
   "source": [
    "tf.keras.models.save_model(sp_model, x)"
   ]
  },
  {
   "cell_type": "code",
   "execution_count": 24,
   "id": "28020f1f",
   "metadata": {},
   "outputs": [
    {
     "name": "stdout",
     "output_type": "stream",
     "text": [
      "Model: \"sequential\"\n",
      "_________________________________________________________________\n",
      " Layer (type)                Output Shape              Param #   \n",
      "=================================================================\n",
      " reshape (Reshape)           (None, 28, 28, 1)         0         \n",
      "                                                                 \n",
      " conv2d (Conv2D)             (None, 26, 26, 12)        120       \n",
      "                                                                 \n",
      " flatten (Flatten)           (None, 8112)              0         \n",
      "                                                                 \n",
      " dense (Dense)               (None, 10)                81130     \n",
      "                                                                 \n",
      "=================================================================\n",
      "Total params: 81,250\n",
      "Trainable params: 81,250\n",
      "Non-trainable params: 0\n",
      "_________________________________________________________________\n"
     ]
    }
   ],
   "source": [
    "sp_model.summary()"
   ]
  },
  {
   "cell_type": "code",
   "execution_count": 25,
   "id": "4835f4c5",
   "metadata": {},
   "outputs": [
    {
     "data": {
      "text/plain": [
       "True"
      ]
     },
     "execution_count": 25,
     "metadata": {},
     "output_type": "execute_result"
    }
   ],
   "source": [
    "model.weights == sp_model.weights"
   ]
  },
  {
   "cell_type": "code",
   "execution_count": 9,
   "id": "13ce890d",
   "metadata": {},
   "outputs": [],
   "source": [
    "# Compute end step to finish pruning after 2 epochs.\n",
    "batch_size = 100\n",
    "epochs = 2\n",
    "validation_split = 0.1 # 10% of training set will be used for validation set. \n",
    "\n",
    "num_images = X_train.shape[0] * (1 - validation_split)\n",
    "end_step = np.ceil(num_images / batch_size).astype(np.int32) * epochs"
   ]
  },
  {
   "cell_type": "code",
   "execution_count": 10,
   "id": "b1352685",
   "metadata": {},
   "outputs": [
    {
     "name": "stdout",
     "output_type": "stream",
     "text": [
      "Model: \"sequential\"\n",
      "_________________________________________________________________\n",
      " Layer (type)                Output Shape              Param #   \n",
      "=================================================================\n",
      " prune_low_magnitude_reshape  (None, 28, 28, 1)        1         \n",
      "  (PruneLowMagnitude)                                            \n",
      "                                                                 \n",
      " prune_low_magnitude_conv2d   (None, 26, 26, 12)       230       \n",
      " (PruneLowMagnitude)                                             \n",
      "                                                                 \n",
      " prune_low_magnitude_flatten  (None, 8112)             1         \n",
      "  (PruneLowMagnitude)                                            \n",
      "                                                                 \n",
      " prune_low_magnitude_dense (  (None, 10)               162252    \n",
      " PruneLowMagnitude)                                              \n",
      "                                                                 \n",
      "=================================================================\n",
      "Total params: 162,484\n",
      "Trainable params: 81,250\n",
      "Non-trainable params: 81,234\n",
      "_________________________________________________________________\n"
     ]
    }
   ],
   "source": [
    "model_for_pruning = prune_low_magnitude(model, tfmot.sparsity.keras.PolynomialDecay(initial_sparsity=0.50,\n",
    "                                                               final_sparsity=0.80,\n",
    "                                                               begin_step=0,\n",
    "                                                               end_step=end_step))\n",
    "\n",
    "# `prune_low_magnitude` requires a recompile.\n",
    "model_for_pruning.compile(optimizer='adam',\n",
    "              loss=tf.keras.losses.SparseCategoricalCrossentropy(from_logits=True),\n",
    "              metrics=['accuracy'])\n",
    "\n",
    "model_for_pruning.summary()"
   ]
  },
  {
   "cell_type": "code",
   "execution_count": 11,
   "id": "d4817abc",
   "metadata": {},
   "outputs": [
    {
     "name": "stdout",
     "output_type": "stream",
     "text": [
      "Epoch 1/2\n"
     ]
    },
    {
     "name": "stderr",
     "output_type": "stream",
     "text": [
      "2022-10-25 20:41:00.726480: I tensorflow/core/grappler/optimizers/custom_graph_optimizer_registry.cc:113] Plugin optimizer for device_type GPU is enabled.\n"
     ]
    },
    {
     "name": "stdout",
     "output_type": "stream",
     "text": [
      "535/540 [============================>.] - ETA: 0s - loss: 0.0753 - accuracy: 0.9786"
     ]
    },
    {
     "name": "stderr",
     "output_type": "stream",
     "text": [
      "2022-10-25 20:41:07.170415: I tensorflow/core/grappler/optimizers/custom_graph_optimizer_registry.cc:113] Plugin optimizer for device_type GPU is enabled.\n"
     ]
    },
    {
     "name": "stdout",
     "output_type": "stream",
     "text": [
      "540/540 [==============================] - 7s 11ms/step - loss: 0.0751 - accuracy: 0.9787 - val_loss: 0.0509 - val_accuracy: 0.9852\n",
      "Epoch 2/2\n",
      "540/540 [==============================] - 5s 10ms/step - loss: 0.0491 - accuracy: 0.9860 - val_loss: 0.0500 - val_accuracy: 0.9857\n"
     ]
    },
    {
     "data": {
      "text/plain": [
       "<keras.callbacks.History at 0x177b56ee0>"
      ]
     },
     "execution_count": 11,
     "metadata": {},
     "output_type": "execute_result"
    }
   ],
   "source": [
    "callbacks = [\n",
    "  tfmot.sparsity.keras.UpdatePruningStep(),\n",
    "#   tfmot.sparsity.keras.PruningSummaries(log_dir=logdir),\n",
    "]\n",
    "\n",
    "model_for_pruning.fit(X_train, y_train,\n",
    "                  batch_size=batch_size, epochs=epochs, validation_split=0.1,\n",
    "                  callbacks=callbacks)"
   ]
  },
  {
   "cell_type": "markdown",
   "id": "907f4e1d",
   "metadata": {},
   "source": [
    "# another"
   ]
  },
  {
   "cell_type": "code",
   "execution_count": 12,
   "id": "392f2374",
   "metadata": {},
   "outputs": [],
   "source": [
    "import numpy as np\n",
    "batch_size = 100\n",
    "epochs = 2\n",
    "end = np.ceil(len(X_train) / 100).astype('int32')*epochs\n",
    "\n",
    "pruing_model = tfmot.sparsity.keras.prune_low_magnitude(model, \n",
    "                                                        tfmot.sparsity.keras.PolynomialDecay(0.5,0.8,0,end))"
   ]
  },
  {
   "cell_type": "code",
   "execution_count": 13,
   "id": "c4836da3",
   "metadata": {},
   "outputs": [],
   "source": [
    "#pruning_model = tfmot.sparsity.keras.prune_low_magnitude(model, \n",
    "#                                                         tfmot.sparsity.keras.ConstantSparsity(0.3,0))"
   ]
  },
  {
   "cell_type": "code",
   "execution_count": 14,
   "id": "78410ec1",
   "metadata": {},
   "outputs": [],
   "source": [
    "pruing_model.compile(loss=tf.keras.losses.SparseCategoricalCrossentropy(from_logits=True))"
   ]
  },
  {
   "cell_type": "code",
   "execution_count": 15,
   "id": "bf918239",
   "metadata": {},
   "outputs": [
    {
     "data": {
      "text/plain": [
       "<tensorflow_model_optimization.python.core.sparsity.keras.pruning_callbacks.UpdatePruningStep at 0x165c153a0>"
      ]
     },
     "execution_count": 15,
     "metadata": {},
     "output_type": "execute_result"
    }
   ],
   "source": [
    "tfmot.sparsity.keras.UpdatePruningStep()"
   ]
  },
  {
   "cell_type": "code",
   "execution_count": 21,
   "id": "1b0cf99d",
   "metadata": {},
   "outputs": [
    {
     "name": "stdout",
     "output_type": "stream",
     "text": [
      "Epoch 1/2\n",
      "540/540 [==============================] - 5s 9ms/step - loss: 0.0277 - val_loss: 0.0862\n",
      "Epoch 2/2\n",
      "540/540 [==============================] - 5s 9ms/step - loss: 0.0255 - val_loss: 0.0852\n"
     ]
    },
    {
     "data": {
      "text/plain": [
       "<keras.callbacks.History at 0x165c7ec70>"
      ]
     },
     "execution_count": 21,
     "metadata": {},
     "output_type": "execute_result"
    }
   ],
   "source": [
    "pruing_model.fit(X_train,y_train,batch_size=batch_size, epochs=epochs,\n",
    "                           validation_split=0.1,\n",
    "                           callbacks=[tfmot.sparsity.keras.UpdatePruningStep()])"
   ]
  },
  {
   "cell_type": "code",
   "execution_count": 17,
   "id": "f6a9b632",
   "metadata": {},
   "outputs": [
    {
     "data": {
      "text/plain": [
       "[<tf.Variable 'prune_low_magnitude_reshape/pruning_step:0' shape=() dtype=int64, numpy=1080>,\n",
       " <tf.Variable 'conv2d/kernel:0' shape=(3, 3, 1, 12) dtype=float32, numpy=\n",
       " array([[[[-5.1327208e-03, -1.1846285e-02, -3.9335336e-03,\n",
       "           -7.2680144e-03, -4.9629370e-03, -5.9615854e-02,\n",
       "           -2.3391540e-03, -2.2966003e-03, -1.9713464e-01,\n",
       "           -1.6139152e-02,  9.5978336e-05,  1.6244840e-02]],\n",
       " \n",
       "         [[-1.4457966e-02, -1.3228089e-01, -5.0334182e-02,\n",
       "           -5.1631760e-02, -1.7990516e-02,  4.7749855e-02,\n",
       "           -1.8566605e-01, -8.2268743e-03, -1.1302059e-01,\n",
       "           -1.5423664e-01, -2.2817396e-02,  3.3499731e-03]],\n",
       " \n",
       "         [[-7.7534705e-02, -2.4050175e-01, -1.8971395e-01,\n",
       "            1.8528284e-04,  4.1256320e-02, -2.4180973e-02,\n",
       "           -1.0658428e-02, -1.2907846e-01, -5.6280620e-02,\n",
       "           -5.1148009e-02, -2.5290828e-02, -2.0946564e-02]]],\n",
       " \n",
       " \n",
       "        [[[-1.1890536e-02,  1.3192016e-02,  3.7245315e-02,\n",
       "           -2.6644149e-03, -5.6417964e-02, -3.0160230e-02,\n",
       "           -4.0257461e-02, -5.8124404e-02, -1.3254084e-01,\n",
       "           -3.6396512e-03, -5.1065560e-02, -1.8561373e-02]],\n",
       " \n",
       "         [[-2.5231436e-02,  1.5840778e-01, -1.4978714e-01,\n",
       "           -1.7108969e-01,  1.8518057e-03,  1.3248496e-04,\n",
       "            1.1225625e-02, -1.3086150e-02, -3.2360929e-01,\n",
       "           -5.7600712e-04,  2.3661258e-02,  5.2754875e-02]],\n",
       " \n",
       "         [[-2.0560922e-02, -7.3540315e-02, -8.7559648e-02,\n",
       "           -6.0436944e-03, -1.0364568e-01, -3.1154037e-02,\n",
       "           -3.6360975e-02, -2.5288394e-02,  2.5091041e-04,\n",
       "           -3.6305501e-03,  1.7827951e-03, -5.2488510e-02]]],\n",
       " \n",
       " \n",
       "        [[[-4.1513495e-02, -1.0627010e-01, -4.5497447e-02,\n",
       "           -3.3781832e-01,  3.5996091e-02, -6.2441234e-02,\n",
       "           -6.7219702e-03, -2.2960727e-03, -4.0218297e-02,\n",
       "            1.6383521e-02, -2.3062013e-01, -1.1359877e-01]],\n",
       " \n",
       "         [[ 4.5022819e-02, -1.8598245e-01, -4.4511933e-02,\n",
       "           -5.2762862e-02, -2.8099984e-02, -3.1800848e-02,\n",
       "            2.3278784e-02, -3.5627552e-03, -5.3197984e-02,\n",
       "           -7.1627825e-02, -3.8297027e-02, -1.0892722e-01]],\n",
       " \n",
       "         [[-3.8773514e-02, -6.4098179e-02, -4.5590397e-02,\n",
       "           -7.6097758e-03, -8.0342535e-03, -6.5434590e-02,\n",
       "           -7.1182899e-04, -2.6560053e-01, -1.5578791e-01,\n",
       "            3.6776334e-03,  1.6931579e-02,  1.3642390e-02]]]],\n",
       "       dtype=float32)>,\n",
       " <tf.Variable 'conv2d/bias:0' shape=(12,) dtype=float32, numpy=\n",
       " array([ 0.00400143,  0.00343062,  0.22736801, -0.12482214,  0.18243349,\n",
       "        -0.00297354, -0.10242245, -0.22073556, -0.09380402, -0.00119812,\n",
       "        -0.08958767, -0.04336041], dtype=float32)>,\n",
       " <tf.Variable 'prune_low_magnitude_conv2d/mask:0' shape=(3, 3, 1, 12) dtype=float32, numpy=\n",
       " array([[[[1., 1., 1., 1., 1., 1., 1., 1., 1., 1., 1., 1.]],\n",
       " \n",
       "         [[1., 1., 1., 1., 1., 1., 1., 1., 1., 1., 1., 1.]],\n",
       " \n",
       "         [[1., 1., 1., 1., 1., 1., 1., 1., 1., 1., 1., 1.]]],\n",
       " \n",
       " \n",
       "        [[[1., 1., 1., 1., 1., 1., 1., 1., 1., 1., 1., 1.]],\n",
       " \n",
       "         [[1., 1., 1., 1., 1., 1., 1., 1., 1., 1., 1., 1.]],\n",
       " \n",
       "         [[1., 1., 1., 1., 1., 1., 1., 1., 1., 1., 1., 1.]]],\n",
       " \n",
       " \n",
       "        [[[1., 1., 1., 1., 1., 1., 1., 1., 1., 1., 1., 1.]],\n",
       " \n",
       "         [[1., 1., 1., 1., 1., 1., 1., 1., 1., 1., 1., 1.]],\n",
       " \n",
       "         [[1., 1., 1., 1., 1., 1., 1., 1., 1., 1., 1., 1.]]]],\n",
       "       dtype=float32)>,\n",
       " <tf.Variable 'prune_low_magnitude_conv2d/threshold:0' shape=() dtype=float32, numpy=-1.8961812e-14>,\n",
       " <tf.Variable 'prune_low_magnitude_conv2d/pruning_step:0' shape=() dtype=int64, numpy=1080>,\n",
       " <tf.Variable 'prune_low_magnitude_flatten/pruning_step:0' shape=() dtype=int64, numpy=1080>,\n",
       " <tf.Variable 'dense/kernel:0' shape=(8112, 10) dtype=float32, numpy=\n",
       " array([[-0.0178558 , -0.03239043,  0.04984645, ..., -0.00288349,\n",
       "          0.03495062,  0.02277281],\n",
       "        [-0.05275626, -0.00403144, -0.03786099, ..., -0.04420434,\n",
       "         -0.00501522, -0.02765389],\n",
       "        [-0.09810113, -0.08459181, -0.11045803, ..., -0.12130971,\n",
       "         -0.00476243,  0.02073844],\n",
       "        ...,\n",
       "        [-0.03001714, -0.00836   ,  0.02016461, ..., -0.00429833,\n",
       "          0.01250982,  0.0266281 ],\n",
       "        [ 0.01109602,  0.0066368 ,  0.00283835, ..., -0.01240383,\n",
       "          0.0157028 ,  0.002237  ],\n",
       "        [-0.01396895, -0.0016053 ,  0.0324557 , ..., -0.01606765,\n",
       "         -0.05409514,  0.05703156]], dtype=float32)>,\n",
       " <tf.Variable 'dense/bias:0' shape=(10,) dtype=float32, numpy=\n",
       " array([-0.12480509, -0.01045729, -0.14637636,  0.11075555,  0.00667249,\n",
       "        -0.06193388, -0.10765456, -0.10897407, -0.00825726, -0.02654662],\n",
       "       dtype=float32)>,\n",
       " <tf.Variable 'prune_low_magnitude_dense/mask:0' shape=(8112, 10) dtype=float32, numpy=\n",
       " array([[1., 1., 1., ..., 1., 1., 1.],\n",
       "        [1., 1., 1., ..., 1., 1., 1.],\n",
       "        [1., 1., 1., ..., 1., 1., 1.],\n",
       "        ...,\n",
       "        [1., 1., 1., ..., 1., 1., 1.],\n",
       "        [1., 1., 1., ..., 1., 1., 1.],\n",
       "        [1., 1., 1., ..., 1., 1., 1.]], dtype=float32)>,\n",
       " <tf.Variable 'prune_low_magnitude_dense/threshold:0' shape=() dtype=float32, numpy=1.8625856e-10>,\n",
       " <tf.Variable 'prune_low_magnitude_dense/pruning_step:0' shape=() dtype=int64, numpy=1080>]"
      ]
     },
     "execution_count": 17,
     "metadata": {},
     "output_type": "execute_result"
    }
   ],
   "source": [
    "pruing_model.weights"
   ]
  },
  {
   "cell_type": "code",
   "execution_count": 22,
   "id": "6d586946",
   "metadata": {},
   "outputs": [
    {
     "data": {
      "text/plain": [
       "[<tf.Variable 'prune_low_magnitude_reshape/pruning_step:0' shape=() dtype=int64, numpy=3240>,\n",
       " <tf.Variable 'conv2d/kernel:0' shape=(3, 3, 1, 12) dtype=float32, numpy=\n",
       " array([[[[-2.9907102e-04, -7.1060313e-03, -2.7330576e-03,\n",
       "           -7.2680144e-03, -3.0363677e-03, -6.0931619e-02,\n",
       "           -3.1223763e-03, -2.2966003e-03, -1.9713464e-01,\n",
       "           -1.3803040e-02,  4.0584430e-03,  1.7325846e-02]],\n",
       " \n",
       "         [[-7.1631871e-02, -1.3005792e-01, -6.4557076e-02,\n",
       "           -5.1631760e-02, -1.9265585e-02,  4.8503555e-02,\n",
       "           -1.5557157e-01, -8.2268743e-03, -1.1302059e-01,\n",
       "           -1.5855007e-01, -2.7892206e-02,  5.4725879e-03]],\n",
       " \n",
       "         [[-4.9324580e-02, -2.9582143e-01, -2.1046680e-01,\n",
       "            1.8528284e-04,  4.3177519e-02, -2.8437953e-02,\n",
       "           -3.4237111e-03, -1.2907846e-01, -5.6280620e-02,\n",
       "           -5.5110373e-02, -3.5336066e-02, -1.1766943e-02]]],\n",
       " \n",
       " \n",
       "        [[[-2.7417533e-02,  2.1629114e-02,  4.1128911e-02,\n",
       "           -2.6644149e-03, -7.0218734e-02, -1.9016564e-02,\n",
       "           -2.4986440e-02, -5.8124404e-02, -1.3254084e-01,\n",
       "           -8.8558700e-03, -5.4695442e-02, -2.4740765e-02]],\n",
       " \n",
       "         [[-3.9376885e-02,  1.7315547e-01, -2.1015343e-01,\n",
       "           -1.7108969e-01,  1.4230484e-03, -1.6623283e-02,\n",
       "            5.9935879e-03, -1.3086150e-02, -3.2360929e-01,\n",
       "           -1.0363530e-02,  1.7789101e-02,  6.1156858e-02]],\n",
       " \n",
       "         [[-2.3569010e-02, -7.5020656e-02, -1.0498075e-01,\n",
       "           -6.0436944e-03, -1.1059275e-01, -4.0748265e-02,\n",
       "           -4.0986635e-02, -2.5288394e-02,  2.5091041e-04,\n",
       "           -9.1491174e-03, -2.9858861e-03, -7.9255834e-02]]],\n",
       " \n",
       " \n",
       "        [[[-5.1623363e-02, -9.0168864e-02, -5.7043642e-02,\n",
       "           -3.3781832e-01,  4.5961004e-02, -7.0583291e-02,\n",
       "           -1.3598521e-02, -2.2960727e-03, -4.0218297e-02,\n",
       "            1.1695581e-02, -2.1769537e-01, -1.4785436e-01]],\n",
       " \n",
       "         [[ 5.3369392e-02, -2.0233591e-01, -1.5473778e-02,\n",
       "           -5.2762862e-02, -3.1990204e-02, -4.5808043e-02,\n",
       "            2.8428463e-02, -3.5627552e-03, -5.3197984e-02,\n",
       "           -7.5810246e-02, -3.4107327e-02, -1.4386527e-01]],\n",
       " \n",
       "         [[-3.4848820e-02, -4.8597686e-02, -4.7232445e-02,\n",
       "           -7.6097758e-03, -1.7464492e-02, -4.0181223e-02,\n",
       "            5.8694289e-04, -2.6560053e-01, -1.5578791e-01,\n",
       "           -3.9503374e-03,  1.9363865e-02,  1.4585367e-02]]]],\n",
       "       dtype=float32)>,\n",
       " <tf.Variable 'conv2d/bias:0' shape=(12,) dtype=float32, numpy=\n",
       " array([-0.00063401, -0.0005134 ,  0.3065638 , -0.12482214,  0.23072648,\n",
       "         0.00813113, -0.13300817, -0.22073556, -0.09380402, -0.00402454,\n",
       "        -0.07899407, -0.01152951], dtype=float32)>,\n",
       " <tf.Variable 'prune_low_magnitude_conv2d/mask:0' shape=(3, 3, 1, 12) dtype=float32, numpy=\n",
       " array([[[[1., 1., 1., 1., 1., 1., 1., 1., 1., 1., 1., 1.]],\n",
       " \n",
       "         [[1., 1., 1., 1., 1., 1., 1., 1., 1., 1., 1., 1.]],\n",
       " \n",
       "         [[1., 1., 1., 1., 1., 1., 1., 1., 1., 1., 1., 1.]]],\n",
       " \n",
       " \n",
       "        [[[1., 1., 1., 1., 1., 1., 1., 1., 1., 1., 1., 1.]],\n",
       " \n",
       "         [[1., 1., 1., 1., 1., 1., 1., 1., 1., 1., 1., 1.]],\n",
       " \n",
       "         [[1., 1., 1., 1., 1., 1., 1., 1., 1., 1., 1., 1.]]],\n",
       " \n",
       " \n",
       "        [[[1., 1., 1., 1., 1., 1., 1., 1., 1., 1., 1., 1.]],\n",
       " \n",
       "         [[1., 1., 1., 1., 1., 1., 1., 1., 1., 1., 1., 1.]],\n",
       " \n",
       "         [[1., 1., 1., 1., 1., 1., 1., 1., 1., 1., 1., 1.]]]],\n",
       "       dtype=float32)>,\n",
       " <tf.Variable 'prune_low_magnitude_conv2d/threshold:0' shape=() dtype=float32, numpy=2.4435606e-08>,\n",
       " <tf.Variable 'prune_low_magnitude_conv2d/pruning_step:0' shape=() dtype=int64, numpy=3240>,\n",
       " <tf.Variable 'prune_low_magnitude_flatten/pruning_step:0' shape=() dtype=int64, numpy=3240>,\n",
       " <tf.Variable 'dense/kernel:0' shape=(8112, 10) dtype=float32, numpy=\n",
       " array([[-0.03117599, -0.08251213,  0.04244896, ..., -0.00393565,\n",
       "          0.09049495,  0.04272474],\n",
       "        [-0.05161674, -0.02175826, -0.05622805, ..., -0.04581106,\n",
       "         -0.00203223, -0.02375375],\n",
       "        [-0.11073144, -0.08821848, -0.14167914, ..., -0.13074097,\n",
       "         -0.00426921,  0.02554212],\n",
       "        ...,\n",
       "        [-0.04293055, -0.02175006,  0.01915245, ..., -0.00853256,\n",
       "          0.02870423,  0.03743374],\n",
       "        [ 0.01109602,  0.0066368 ,  0.00283823, ..., -0.01240383,\n",
       "          0.01569775,  0.0022425 ],\n",
       "        [-0.01396895, -0.00160531,  0.03743562, ..., -0.01648268,\n",
       "         -0.06071172,  0.05890771]], dtype=float32)>,\n",
       " <tf.Variable 'dense/bias:0' shape=(10,) dtype=float32, numpy=\n",
       " array([-0.13762498, -0.01426671, -0.17848971,  0.12014976,  0.00376629,\n",
       "        -0.05833104, -0.12293418, -0.11888578, -0.00735874, -0.02182919],\n",
       "       dtype=float32)>,\n",
       " <tf.Variable 'prune_low_magnitude_dense/mask:0' shape=(8112, 10) dtype=float32, numpy=\n",
       " array([[1., 1., 1., ..., 1., 1., 1.],\n",
       "        [1., 1., 1., ..., 1., 1., 1.],\n",
       "        [1., 1., 1., ..., 1., 1., 1.],\n",
       "        ...,\n",
       "        [1., 1., 1., ..., 1., 1., 1.],\n",
       "        [1., 1., 1., ..., 1., 1., 1.],\n",
       "        [1., 1., 1., ..., 1., 1., 1.]], dtype=float32)>,\n",
       " <tf.Variable 'prune_low_magnitude_dense/threshold:0' shape=() dtype=float32, numpy=-1.8666125e-07>,\n",
       " <tf.Variable 'prune_low_magnitude_dense/pruning_step:0' shape=() dtype=int64, numpy=3240>]"
      ]
     },
     "execution_count": 22,
     "metadata": {},
     "output_type": "execute_result"
    }
   ],
   "source": [
    "pruing_model.weights"
   ]
  },
  {
   "cell_type": "code",
   "execution_count": null,
   "id": "00409e8f",
   "metadata": {},
   "outputs": [],
   "source": []
  },
  {
   "cell_type": "markdown",
   "id": "92b09017",
   "metadata": {},
   "source": [
    "### tensorflow"
   ]
  },
  {
   "cell_type": "code",
   "execution_count": null,
   "id": "35dae025",
   "metadata": {},
   "outputs": [],
   "source": [
    "tf.keras32 : "
   ]
  },
  {
   "cell_type": "code",
   "execution_count": 30,
   "id": "ec5f99a4",
   "metadata": {},
   "outputs": [
    {
     "name": "stdout",
     "output_type": "stream",
     "text": [
      "4.09 ns ± 0.00167 ns per loop (mean ± std. dev. of 7 runs, 100,000,000 loops each)\n"
     ]
    }
   ],
   "source": [
    "%timeit 1.+1."
   ]
  },
  {
   "cell_type": "code",
   "execution_count": 31,
   "id": "2d48a820",
   "metadata": {},
   "outputs": [
    {
     "name": "stdout",
     "output_type": "stream",
     "text": [
      "4.09 ns ± 0.00377 ns per loop (mean ± std. dev. of 7 runs, 100,000,000 loops each)\n"
     ]
    }
   ],
   "source": [
    "%timeit 1+1"
   ]
  },
  {
   "cell_type": "code",
   "execution_count": null,
   "id": "c6c8a28e",
   "metadata": {},
   "outputs": [],
   "source": []
  }
 ],
 "metadata": {
  "kernelspec": {
   "display_name": "Python 3 (ipykernel)",
   "language": "python",
   "name": "python3"
  },
  "language_info": {
   "codemirror_mode": {
    "name": "ipython",
    "version": 3
   },
   "file_extension": ".py",
   "mimetype": "text/x-python",
   "name": "python",
   "nbconvert_exporter": "python",
   "pygments_lexer": "ipython3",
   "version": "3.9.13"
  }
 },
 "nbformat": 4,
 "nbformat_minor": 5
}
